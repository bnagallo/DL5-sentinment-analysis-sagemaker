{
 "cells": [
  {
   "cell_type": "markdown",
   "metadata": {},
   "source": [
    "# Creating a Sentiment Analysis Web App\n",
    "## Using PyTorch and SageMaker\n",
    "\n",
    "_Deep Learning Nanodegree Program | Deployment_\n",
    "\n",
    "---\n",
    "\n",
    "Now that we have a basic understanding of how SageMaker works we will try to use it to construct a complete project from end to end. Our goal will be to have a simple web page which a user can use to enter a movie review. The web page will then send the review off to our deployed model which will predict the sentiment of the entered review.\n",
    "\n",
    "## Instructions\n",
    "\n",
    "Some template code has already been provided for you, and you will need to implement additional functionality to successfully complete this notebook. You will not need to modify the included code beyond what is requested. Sections that begin with '**TODO**' in the header indicate that you need to complete or implement some portion within them. Instructions will be provided for each section and the specifics of the implementation are marked in the code block with a `# TODO: ...` comment. Please be sure to read the instructions carefully!\n",
    "\n",
    "In addition to implementing code, there will be questions for you to answer which relate to the task and your implementation. Each section where you will answer a question is preceded by a '**Question:**' header. Carefully read each question and provide your answer below the '**Answer:**' header by editing the Markdown cell.\n",
    "\n",
    "> **Note**: Code and Markdown cells can be executed using the **Shift+Enter** keyboard shortcut. In addition, a cell can be edited by typically clicking it (double-click for Markdown cells) or by pressing **Enter** while it is highlighted.\n",
    "\n",
    "## General Outline\n",
    "\n",
    "Recall the general outline for SageMaker projects using a notebook instance.\n",
    "\n",
    "1. Download or otherwise retrieve the data.\n",
    "2. Process / Prepare the data.\n",
    "3. Upload the processed data to S3.\n",
    "4. Train a chosen model.\n",
    "5. Test the trained model (typically using a batch transform job).\n",
    "6. Deploy the trained model.\n",
    "7. Use the deployed model.\n",
    "\n",
    "For this project, you will be following the steps in the general outline with some modifications. \n",
    "\n",
    "First, you will not be testing the model in its own step. You will still be testing the model, however, you will do it by deploying your model and then using the deployed model by sending the test data to it. One of the reasons for doing this is so that you can make sure that your deployed model is working correctly before moving forward.\n",
    "\n",
    "In addition, you will deploy and use your trained model a second time. In the second iteration you will customize the way that your trained model is deployed by including some of your own code. In addition, your newly deployed model will be used in the sentiment analysis web app."
   ]
  },
  {
   "cell_type": "code",
   "execution_count": 68,
   "metadata": {},
   "outputs": [
    {
     "name": "stdout",
     "output_type": "stream",
     "text": [
      "Collecting sagemaker==1.72.0\n",
      "  Downloading sagemaker-1.72.0.tar.gz (297 kB)\n",
      "\u001b[K     |████████████████████████████████| 297 kB 5.8 MB/s eta 0:00:01\n",
      "\u001b[?25hRequirement already satisfied: boto3>=1.14.12 in /home/ec2-user/anaconda3/envs/pytorch_p36/lib/python3.6/site-packages (from sagemaker==1.72.0) (1.17.55)\n",
      "Requirement already satisfied: numpy>=1.9.0 in /home/ec2-user/anaconda3/envs/pytorch_p36/lib/python3.6/site-packages (from sagemaker==1.72.0) (1.19.5)\n",
      "Requirement already satisfied: protobuf>=3.1 in /home/ec2-user/anaconda3/envs/pytorch_p36/lib/python3.6/site-packages (from sagemaker==1.72.0) (3.15.2)\n",
      "Requirement already satisfied: scipy>=0.19.0 in /home/ec2-user/anaconda3/envs/pytorch_p36/lib/python3.6/site-packages (from sagemaker==1.72.0) (1.5.3)\n",
      "Requirement already satisfied: protobuf3-to-dict>=0.1.5 in /home/ec2-user/anaconda3/envs/pytorch_p36/lib/python3.6/site-packages (from sagemaker==1.72.0) (0.1.5)\n",
      "Collecting smdebug-rulesconfig==0.1.4\n",
      "  Downloading smdebug_rulesconfig-0.1.4-py2.py3-none-any.whl (10 kB)\n",
      "Requirement already satisfied: importlib-metadata>=1.4.0 in /home/ec2-user/anaconda3/envs/pytorch_p36/lib/python3.6/site-packages (from sagemaker==1.72.0) (3.7.0)\n",
      "Requirement already satisfied: packaging>=20.0 in /home/ec2-user/anaconda3/envs/pytorch_p36/lib/python3.6/site-packages (from sagemaker==1.72.0) (20.9)\n",
      "Requirement already satisfied: s3transfer<0.5.0,>=0.4.0 in /home/ec2-user/anaconda3/envs/pytorch_p36/lib/python3.6/site-packages (from boto3>=1.14.12->sagemaker==1.72.0) (0.4.1)\n",
      "Requirement already satisfied: jmespath<1.0.0,>=0.7.1 in /home/ec2-user/anaconda3/envs/pytorch_p36/lib/python3.6/site-packages (from boto3>=1.14.12->sagemaker==1.72.0) (0.10.0)\n",
      "Requirement already satisfied: botocore<1.21.0,>=1.20.55 in /home/ec2-user/anaconda3/envs/pytorch_p36/lib/python3.6/site-packages (from boto3>=1.14.12->sagemaker==1.72.0) (1.20.55)\n",
      "Requirement already satisfied: urllib3<1.27,>=1.25.4 in /home/ec2-user/anaconda3/envs/pytorch_p36/lib/python3.6/site-packages (from botocore<1.21.0,>=1.20.55->boto3>=1.14.12->sagemaker==1.72.0) (1.26.4)\n",
      "Requirement already satisfied: python-dateutil<3.0.0,>=2.1 in /home/ec2-user/anaconda3/envs/pytorch_p36/lib/python3.6/site-packages (from botocore<1.21.0,>=1.20.55->boto3>=1.14.12->sagemaker==1.72.0) (2.8.1)\n",
      "Requirement already satisfied: typing-extensions>=3.6.4 in /home/ec2-user/anaconda3/envs/pytorch_p36/lib/python3.6/site-packages (from importlib-metadata>=1.4.0->sagemaker==1.72.0) (3.7.4.3)\n",
      "Requirement already satisfied: zipp>=0.5 in /home/ec2-user/anaconda3/envs/pytorch_p36/lib/python3.6/site-packages (from importlib-metadata>=1.4.0->sagemaker==1.72.0) (3.4.0)\n",
      "Requirement already satisfied: pyparsing>=2.0.2 in /home/ec2-user/anaconda3/envs/pytorch_p36/lib/python3.6/site-packages (from packaging>=20.0->sagemaker==1.72.0) (2.4.7)\n",
      "Requirement already satisfied: six>=1.9 in /home/ec2-user/anaconda3/envs/pytorch_p36/lib/python3.6/site-packages (from protobuf>=3.1->sagemaker==1.72.0) (1.15.0)\n",
      "Building wheels for collected packages: sagemaker\n",
      "  Building wheel for sagemaker (setup.py) ... \u001b[?25ldone\n",
      "\u001b[?25h  Created wheel for sagemaker: filename=sagemaker-1.72.0-py2.py3-none-any.whl size=386358 sha256=69c18d09899f73773ff608b833e06a3b8588ae7458d119c2329ad107d0f43a7a\n",
      "  Stored in directory: /home/ec2-user/.cache/pip/wheels/c3/58/70/85faf4437568bfaa4c419937569ba1fe54d44c5db42406bbd7\n",
      "Successfully built sagemaker\n",
      "Installing collected packages: smdebug-rulesconfig, sagemaker\n",
      "  Attempting uninstall: smdebug-rulesconfig\n",
      "    Found existing installation: smdebug-rulesconfig 1.0.1\n",
      "    Uninstalling smdebug-rulesconfig-1.0.1:\n",
      "      Successfully uninstalled smdebug-rulesconfig-1.0.1\n",
      "  Attempting uninstall: sagemaker\n",
      "    Found existing installation: sagemaker 2.38.0\n",
      "    Uninstalling sagemaker-2.38.0:\n",
      "      Successfully uninstalled sagemaker-2.38.0\n",
      "Successfully installed sagemaker-1.72.0 smdebug-rulesconfig-0.1.4\n"
     ]
    }
   ],
   "source": [
    "# Make sure that we use SageMaker 1.x\n",
    "!pip install sagemaker==1.72.0"
   ]
  },
  {
   "cell_type": "markdown",
   "metadata": {},
   "source": [
    "## Step 1: Downloading the data\n",
    "\n",
    "As in the XGBoost in SageMaker notebook, we will be using the [IMDb dataset](http://ai.stanford.edu/~amaas/data/sentiment/)\n",
    "\n",
    "> Maas, Andrew L., et al. [Learning Word Vectors for Sentiment Analysis](http://ai.stanford.edu/~amaas/data/sentiment/). In _Proceedings of the 49th Annual Meeting of the Association for Computational Linguistics: Human Language Technologies_. Association for Computational Linguistics, 2011."
   ]
  },
  {
   "cell_type": "code",
   "execution_count": 69,
   "metadata": {},
   "outputs": [
    {
     "name": "stdout",
     "output_type": "stream",
     "text": [
      "mkdir: cannot create directory ‘../data’: File exists\n",
      "--2021-04-26 19:14:13--  http://ai.stanford.edu/~amaas/data/sentiment/aclImdb_v1.tar.gz\n",
      "Resolving ai.stanford.edu (ai.stanford.edu)... 171.64.68.10\n",
      "Connecting to ai.stanford.edu (ai.stanford.edu)|171.64.68.10|:80... connected.\n",
      "HTTP request sent, awaiting response... 200 OK\n",
      "Length: 84125825 (80M) [application/x-gzip]\n",
      "Saving to: ‘../data/aclImdb_v1.tar.gz’\n",
      "\n",
      "../data/aclImdb_v1. 100%[===================>]  80.23M  25.3MB/s    in 3.8s    \n",
      "\n",
      "2021-04-26 19:14:17 (21.3 MB/s) - ‘../data/aclImdb_v1.tar.gz’ saved [84125825/84125825]\n",
      "\n"
     ]
    }
   ],
   "source": [
    "%mkdir ../data\n",
    "!wget -O ../data/aclImdb_v1.tar.gz http://ai.stanford.edu/~amaas/data/sentiment/aclImdb_v1.tar.gz\n",
    "!tar -zxf ../data/aclImdb_v1.tar.gz -C ../data"
   ]
  },
  {
   "cell_type": "markdown",
   "metadata": {},
   "source": [
    "## Step 2: Preparing and Processing the data\n",
    "\n",
    "Also, as in the XGBoost notebook, we will be doing some initial data processing. The first few steps are the same as in the XGBoost example. To begin with, we will read in each of the reviews and combine them into a single input structure. Then, we will split the dataset into a training set and a testing set."
   ]
  },
  {
   "cell_type": "code",
   "execution_count": 70,
   "metadata": {},
   "outputs": [],
   "source": [
    "import os\n",
    "import glob\n",
    "\n",
    "def read_imdb_data(data_dir='../data/aclImdb'):\n",
    "    data = {}\n",
    "    labels = {}\n",
    "    \n",
    "    for data_type in ['train', 'test']:\n",
    "        data[data_type] = {}\n",
    "        labels[data_type] = {}\n",
    "        \n",
    "        for sentiment in ['pos', 'neg']:\n",
    "            data[data_type][sentiment] = []\n",
    "            labels[data_type][sentiment] = []\n",
    "            \n",
    "            path = os.path.join(data_dir, data_type, sentiment, '*.txt')\n",
    "            files = glob.glob(path)\n",
    "            \n",
    "            for f in files:\n",
    "                with open(f) as review:\n",
    "                    data[data_type][sentiment].append(review.read())\n",
    "                    # Here we represent a positive review by '1' and a negative review by '0'\n",
    "                    labels[data_type][sentiment].append(1 if sentiment == 'pos' else 0)\n",
    "                    \n",
    "            assert len(data[data_type][sentiment]) == len(labels[data_type][sentiment]), \\\n",
    "                    \"{}/{} data size does not match labels size\".format(data_type, sentiment)\n",
    "                \n",
    "    return data, labels"
   ]
  },
  {
   "cell_type": "code",
   "execution_count": 71,
   "metadata": {},
   "outputs": [
    {
     "name": "stdout",
     "output_type": "stream",
     "text": [
      "IMDB reviews: train = 12500 pos / 12500 neg, test = 12500 pos / 12500 neg\n"
     ]
    }
   ],
   "source": [
    "data, labels = read_imdb_data()\n",
    "print(\"IMDB reviews: train = {} pos / {} neg, test = {} pos / {} neg\".format(\n",
    "            len(data['train']['pos']), len(data['train']['neg']),\n",
    "            len(data['test']['pos']), len(data['test']['neg'])))"
   ]
  },
  {
   "cell_type": "markdown",
   "metadata": {},
   "source": [
    "Now that we've read the raw training and testing data from the downloaded dataset, we will combine the positive and negative reviews and shuffle the resulting records."
   ]
  },
  {
   "cell_type": "code",
   "execution_count": 72,
   "metadata": {},
   "outputs": [],
   "source": [
    "from sklearn.utils import shuffle\n",
    "\n",
    "def prepare_imdb_data(data, labels):\n",
    "    \"\"\"Prepare training and test sets from IMDb movie reviews.\"\"\"\n",
    "    \n",
    "    #Combine positive and negative reviews and labels\n",
    "    data_train = data['train']['pos'] + data['train']['neg']\n",
    "    data_test = data['test']['pos'] + data['test']['neg']\n",
    "    labels_train = labels['train']['pos'] + labels['train']['neg']\n",
    "    labels_test = labels['test']['pos'] + labels['test']['neg']\n",
    "    \n",
    "    #Shuffle reviews and corresponding labels within training and test sets\n",
    "    data_train, labels_train = shuffle(data_train, labels_train)\n",
    "    data_test, labels_test = shuffle(data_test, labels_test)\n",
    "    \n",
    "    # Return a unified training data, test data, training labels, test labets\n",
    "    return data_train, data_test, labels_train, labels_test"
   ]
  },
  {
   "cell_type": "code",
   "execution_count": 73,
   "metadata": {},
   "outputs": [
    {
     "name": "stdout",
     "output_type": "stream",
     "text": [
      "IMDb reviews (combined): train = 25000, test = 25000\n"
     ]
    }
   ],
   "source": [
    "train_X, test_X, train_y, test_y = prepare_imdb_data(data, labels)\n",
    "print(\"IMDb reviews (combined): train = {}, test = {}\".format(len(train_X), len(test_X)))"
   ]
  },
  {
   "cell_type": "markdown",
   "metadata": {},
   "source": [
    "Now that we have our training and testing sets unified and prepared, we should do a quick check and see an example of the data our model will be trained on. This is generally a good idea as it allows you to see how each of the further processing steps affects the reviews and it also ensures that the data has been loaded correctly."
   ]
  },
  {
   "cell_type": "code",
   "execution_count": 74,
   "metadata": {},
   "outputs": [
    {
     "name": "stdout",
     "output_type": "stream",
     "text": [
      "I may not be a critic, but here is what I think of this movie. Well just watched the movie on cinemax and first of all I just have to say how much I hate the storyline I mean come on what does a snowman scare besides little kids, secondly it is pretty gory but I bet since the movie is so low budget they probably used ketchup so MY CRITICAL VOTE IS BOMB!!! nice try and the sequel will suck twice as much.\n",
      "0\n"
     ]
    }
   ],
   "source": [
    "print(train_X[100])\n",
    "print(train_y[100])"
   ]
  },
  {
   "cell_type": "markdown",
   "metadata": {},
   "source": [
    "The first step in processing the reviews is to make sure that any html tags that appear should be removed. In addition we wish to tokenize our input, that way words such as *entertained* and *entertaining* are considered the same with regard to sentiment analysis."
   ]
  },
  {
   "cell_type": "code",
   "execution_count": 75,
   "metadata": {},
   "outputs": [],
   "source": [
    "import nltk\n",
    "from nltk.corpus import stopwords\n",
    "from nltk.stem.porter import *\n",
    "\n",
    "import re\n",
    "from bs4 import BeautifulSoup\n",
    "\n",
    "def review_to_words(review):\n",
    "    nltk.download(\"stopwords\", quiet=True)\n",
    "    stemmer = PorterStemmer()\n",
    "    \n",
    "    text = BeautifulSoup(review, \"html.parser\").get_text() # Remove HTML tags\n",
    "    text = re.sub(r\"[^a-zA-Z0-9]\", \" \", text.lower()) # Convert to lower case\n",
    "    words = text.split() # Split string into words\n",
    "    words = [w for w in words if w not in stopwords.words(\"english\")] # Remove stopwords\n",
    "    words = [PorterStemmer().stem(w) for w in words] # stem\n",
    "    \n",
    "    return words"
   ]
  },
  {
   "cell_type": "markdown",
   "metadata": {},
   "source": [
    "The `review_to_words` method defined above uses `BeautifulSoup` to remove any html tags that appear and uses the `nltk` package to tokenize the reviews. As a check to ensure we know how everything is working, try applying `review_to_words` to one of the reviews in the training set."
   ]
  },
  {
   "cell_type": "code",
   "execution_count": 76,
   "metadata": {},
   "outputs": [
    {
     "name": "stdout",
     "output_type": "stream",
     "text": [
      "['may', 'critic', 'think', 'movi', 'well', 'watch', 'movi', 'cinemax', 'first', 'say', 'much', 'hate', 'storylin', 'mean', 'come', 'snowman', 'scare', 'besid', 'littl', 'kid', 'secondli', 'pretti', 'gori', 'bet', 'sinc', 'movi', 'low', 'budget', 'probabl', 'use', 'ketchup', 'critic', 'vote', 'bomb', 'nice', 'tri', 'sequel', 'suck', 'twice', 'much']\n"
     ]
    }
   ],
   "source": [
    "# TODO: Apply review_to_words to a review (train_X[100] or any other review)\n",
    "print(review_to_words(train_X[100]))"
   ]
  },
  {
   "cell_type": "markdown",
   "metadata": {},
   "source": [
    "**Question:** Above we mentioned that `review_to_words` method removes html formatting and allows us to tokenize the words found in a review, for example, converting *entertained* and *entertaining* into *entertain* so that they are treated as though they are the same word. What else, if anything, does this method do to the input?"
   ]
  },
  {
   "cell_type": "markdown",
   "metadata": {},
   "source": [
    "**Answer:**"
   ]
  },
  {
   "cell_type": "markdown",
   "metadata": {},
   "source": [
    "It changes all the words to lowercase. It also uses the nltk.corpus library to remove a lot of the \"stopwords\", which are common words that don't carry a lot of meaning when it comes to deciding on sentiment. Words like \"The\", \"and\", \"as\", etc.\n"
   ]
  },
  {
   "cell_type": "markdown",
   "metadata": {},
   "source": [
    "The method below applies the `review_to_words` method to each of the reviews in the training and testing datasets. In addition it caches the results. This is because performing this processing step can take a long time. This way if you are unable to complete the notebook in the current session, you can come back without needing to process the data a second time."
   ]
  },
  {
   "cell_type": "code",
   "execution_count": 77,
   "metadata": {},
   "outputs": [],
   "source": [
    "import pickle\n",
    "\n",
    "cache_dir = os.path.join(\"../cache\", \"sentiment_analysis\")  # where to store cache files\n",
    "os.makedirs(cache_dir, exist_ok=True)  # ensure cache directory exists\n",
    "\n",
    "def preprocess_data(data_train, data_test, labels_train, labels_test,\n",
    "                    cache_dir=cache_dir, cache_file=\"preprocessed_data.pkl\"):\n",
    "    \"\"\"Convert each review to words; read from cache if available.\"\"\"\n",
    "\n",
    "    # If cache_file is not None, try to read from it first\n",
    "    cache_data = None\n",
    "    if cache_file is not None:\n",
    "        try:\n",
    "            with open(os.path.join(cache_dir, cache_file), \"rb\") as f:\n",
    "                cache_data = pickle.load(f)\n",
    "            print(\"Read preprocessed data from cache file:\", cache_file)\n",
    "        except:\n",
    "            pass  # unable to read from cache, but that's okay\n",
    "    \n",
    "    # If cache is missing, then do the heavy lifting\n",
    "    if cache_data is None:\n",
    "        # Preprocess training and test data to obtain words for each review\n",
    "        #words_train = list(map(review_to_words, data_train))\n",
    "        #words_test = list(map(review_to_words, data_test))\n",
    "        words_train = [review_to_words(review) for review in data_train]\n",
    "        words_test = [review_to_words(review) for review in data_test]\n",
    "        \n",
    "        # Write to cache file for future runs\n",
    "        if cache_file is not None:\n",
    "            cache_data = dict(words_train=words_train, words_test=words_test,\n",
    "                              labels_train=labels_train, labels_test=labels_test)\n",
    "            with open(os.path.join(cache_dir, cache_file), \"wb\") as f:\n",
    "                pickle.dump(cache_data, f)\n",
    "            print(\"Wrote preprocessed data to cache file:\", cache_file)\n",
    "    else:\n",
    "        # Unpack data loaded from cache file\n",
    "        words_train, words_test, labels_train, labels_test = (cache_data['words_train'],\n",
    "                cache_data['words_test'], cache_data['labels_train'], cache_data['labels_test'])\n",
    "    \n",
    "    return words_train, words_test, labels_train, labels_test"
   ]
  },
  {
   "cell_type": "code",
   "execution_count": 78,
   "metadata": {},
   "outputs": [
    {
     "name": "stdout",
     "output_type": "stream",
     "text": [
      "Read preprocessed data from cache file: preprocessed_data.pkl\n"
     ]
    }
   ],
   "source": [
    "# Preprocess data\n",
    "train_X, test_X, train_y, test_y = preprocess_data(train_X, test_X, train_y, test_y)"
   ]
  },
  {
   "cell_type": "code",
   "execution_count": 79,
   "metadata": {},
   "outputs": [
    {
     "name": "stdout",
     "output_type": "stream",
     "text": [
      "['read', 'comment', 'site', 'feel', 'compel', 'write', 'first', 'time', 'seem', 'movi', 'like', 'marmit', 'split', 'audienc', 'say', 'agre', 'film', 'make', 'sens', 'enjoy', 'see', 'mulholland', 'drive', 'still', 'engag', 'charact', 'total', 'absorb', 'murder', 'lesbian', 'affair', 'lynch', 'opu', 'say', 'give', 'turd', 'mr', 'green', 'cardboard', 'gangster', 'inhabit', 'dayglo', 'world', 'also', 'mani', 'peopl', 'seem', 'tri', 'say', 'enjoy', 'get', 'would', 'disagre', 'enjoy', 'bore', 'want', 'film', 'end', 'constantli', 'listen', 'quot', 'help', 'call', 'clever', 'think', 'repetiti', 'howev', 'main', 'reason', 'write', 'ask', 'review', 'question', 'end', 'credit', 'print', 'film', 'saw', 'music', 'black', 'watch', 'dud', 'print', 'evid', 'gr', 'pretenti', 'everyon', 'involv', 'movi', 'watch', 'rough', 'cut', 'name', 'remov']\n",
      "0\n",
      "\n",
      "['god', 'thing', 'pass', 'entertain', 'countri', 'tom', 'jerri', 'may', 'enjoy', 'saturday', 'morn', 'featur', 'hapless', 'cat', 'clever', 'mous', 'much', 'earlier', 'anim', 'seri', 'featur', 'pair', 'mutt', 'jeff', 'clone', 'get', 'variou', 'scrape', 'result', 'typic', 'danc', 'skeleton', 'type', 'gag', 'made', 'much', 'earli', 'anim', 'particularli', 'vile', 'outing', 'appar', 'origin', 'intend', 'vehicl', 'pair', 'actual', 'black', 'stage', 'comedian', 'time', 'pair', 'crash', 'ocean', 'fli', 'africa', 'necessit', 'black', 'face', 'make', 'exagger', 'negro', 'dialect', 'feet', 'fail', 'situat', 'show', '70', 'year', 'emancip', 'film', 'american', 'view', 'african', 'progress', 'much', 'least', 'one', 'appar', 'pilot', 'licens']\n",
      "0\n"
     ]
    }
   ],
   "source": [
    "print(train_X[100])\n",
    "print(train_y[100])\n",
    "print()\n",
    "print(test_X[100])\n",
    "print(test_y[100])"
   ]
  },
  {
   "cell_type": "markdown",
   "metadata": {},
   "source": [
    "## Transform the data\n",
    "\n",
    "In the XGBoost notebook we transformed the data from its word representation to a bag-of-words feature representation. For the model we are going to construct in this notebook we will construct a feature representation which is very similar. To start, we will represent each word as an integer. Of course, some of the words that appear in the reviews occur very infrequently and so likely don't contain much information for the purposes of sentiment analysis. The way we will deal with this problem is that we will fix the size of our working vocabulary and we will only include the words that appear most frequently. We will then combine all of the infrequent words into a single category and, in our case, we will label it as `1`.\n",
    "\n",
    "Since we will be using a recurrent neural network, it will be convenient if the length of each review is the same. To do this, we will fix a size for our reviews and then pad short reviews with the category 'no word' (which we will label `0`) and truncate long reviews."
   ]
  },
  {
   "cell_type": "markdown",
   "metadata": {},
   "source": [
    "### (TODO) Create a word dictionary\n",
    "\n",
    "To begin with, we need to construct a way to map words that appear in the reviews to integers. Here we fix the size of our vocabulary (including the 'no word' and 'infrequent' categories) to be `5000` but you may wish to change this to see how it affects the model.\n",
    "\n",
    "> **TODO:** Complete the implementation for the `build_dict()` method below. Note that even though the vocab_size is set to `5000`, we only want to construct a mapping for the most frequently appearing `4998` words. This is because we want to reserve the special labels `0` for 'no word' and `1` for 'infrequent word'."
   ]
  },
  {
   "cell_type": "code",
   "execution_count": 80,
   "metadata": {},
   "outputs": [],
   "source": [
    "import numpy as np\n",
    "\n",
    "def build_dict(data, vocab_size = 5000):\n",
    "    \"\"\"Construct and return a dictionary mapping each of the most frequently appearing words to a unique integer.\"\"\"\n",
    "    \n",
    "    # TODO: Determine how often each word appears in `data`. Note that `data` is a list of sentences and that a\n",
    "    #       sentence is a list of words.\n",
    "    \n",
    "    word_count = {} # A dict storing the words that appear in the reviews along with how often they occur\n",
    "    \n",
    "    for review in data:\n",
    "        for word in review:\n",
    "            if word in word_count:\n",
    "                word_count[word] = word_count[word] + 1\n",
    "            else:\n",
    "                word_count[word] = 1\n",
    "    \n",
    "            \n",
    "    #print(word_count)\n",
    "    \n",
    "    # TODO: Sort the words found in `data` so that sorted_words[0] is the most frequently appearing word and\n",
    "    #       sorted_words[-1] is the least frequently appearing word.\n",
    "    \n",
    "    sorted_words_dict = dict(reversed((sorted(word_count.items(), key=lambda item: item[1]))))\n",
    "    sorted_words =list(sorted_words_dict.keys())\n",
    "    \n",
    "    #print(sorted_words)\n",
    "    \n",
    "    word_dict = {} # This is what we are building, a dictionary that translates words into integers\n",
    "    for idx, word in enumerate(sorted_words[:vocab_size - 2]): # The -2 is so that we save room for the 'no word'\n",
    "        word_dict[word] = idx + 2                              # 'infrequent' labels\n",
    "        \n",
    "    return word_dict"
   ]
  },
  {
   "cell_type": "code",
   "execution_count": 81,
   "metadata": {},
   "outputs": [
    {
     "name": "stdout",
     "output_type": "stream",
     "text": [
      "{'movi': 2, 'film': 3, 'one': 4, 'like': 5, 'time': 6, 'good': 7, 'make': 8, 'charact': 9, 'get': 10, 'see': 11, 'watch': 12, 'stori': 13, 'even': 14, 'would': 15, 'realli': 16, 'well': 17, 'scene': 18, 'look': 19, 'show': 20, 'much': 21, 'end': 22, 'peopl': 23, 'bad': 24, 'go': 25, 'great': 26, 'also': 27, 'first': 28, 'love': 29, 'think': 30, 'way': 31, 'act': 32, 'play': 33, 'made': 34, 'thing': 35, 'could': 36, 'know': 37, 'say': 38, 'seem': 39, 'work': 40, 'plot': 41, 'two': 42, 'actor': 43, 'year': 44, 'come': 45, 'mani': 46, 'seen': 47, 'take': 48, 'life': 49, 'want': 50, 'never': 51, 'littl': 52, 'best': 53, 'tri': 54, 'man': 55, 'ever': 56, 'give': 57, 'better': 58, 'still': 59, 'perform': 60, 'find': 61, 'feel': 62, 'part': 63, 'back': 64, 'use': 65, 'someth': 66, 'director': 67, 'actual': 68, 'interest': 69, 'lot': 70, 'real': 71, 'old': 72, 'cast': 73, 'though': 74, 'live': 75, 'star': 76, 'enjoy': 77, 'guy': 78, 'anoth': 79, 'new': 80, 'role': 81, 'noth': 82, '10': 83, 'funni': 84, 'music': 85, 'point': 86, 'start': 87, 'set': 88, 'girl': 89, 'origin': 90, 'day': 91, 'world': 92, 'everi': 93, 'believ': 94, 'turn': 95, 'quit': 96, 'us': 97, 'direct': 98, 'thought': 99, 'fact': 100, 'minut': 101, 'horror': 102, 'kill': 103, 'action': 104, 'comedi': 105, 'pretti': 106, 'young': 107, 'wonder': 108, 'happen': 109, 'around': 110, 'got': 111, 'effect': 112, 'right': 113, 'long': 114, 'howev': 115, 'big': 116, 'line': 117, 'famili': 118, 'enough': 119, 'seri': 120, 'may': 121, 'need': 122, 'fan': 123, 'bit': 124, 'script': 125, 'beauti': 126, 'person': 127, 'becom': 128, 'without': 129, 'must': 130, 'alway': 131, 'friend': 132, 'tell': 133, 'reason': 134, 'saw': 135, 'last': 136, 'final': 137, 'kid': 138, 'almost': 139, 'put': 140, 'least': 141, 'sure': 142, 'done': 143, 'whole': 144, 'place': 145, 'complet': 146, 'kind': 147, 'differ': 148, 'expect': 149, 'shot': 150, 'far': 151, 'mean': 152, 'anyth': 153, 'book': 154, 'laugh': 155, 'might': 156, 'name': 157, 'sinc': 158, 'begin': 159, '2': 160, 'probabl': 161, 'woman': 162, 'help': 163, 'entertain': 164, 'let': 165, 'screen': 166, 'call': 167, 'tv': 168, 'moment': 169, 'away': 170, 'read': 171, 'yet': 172, 'rather': 173, 'worst': 174, 'run': 175, 'fun': 176, 'lead': 177, 'hard': 178, 'audienc': 179, 'idea': 180, 'anyon': 181, 'episod': 182, 'american': 183, 'found': 184, 'appear': 185, 'bore': 186, 'especi': 187, 'although': 188, 'hope': 189, 'cours': 190, 'keep': 191, 'anim': 192, 'job': 193, 'goe': 194, 'move': 195, 'sens': 196, 'version': 197, 'dvd': 198, 'war': 199, 'money': 200, 'someon': 201, 'mind': 202, 'mayb': 203, 'problem': 204, 'true': 205, 'hous': 206, 'everyth': 207, 'nice': 208, 'second': 209, 'rate': 210, 'three': 211, 'night': 212, 'face': 213, 'follow': 214, 'recommend': 215, 'main': 216, 'product': 217, 'worth': 218, 'leav': 219, 'human': 220, 'special': 221, 'excel': 222, 'togeth': 223, 'wast': 224, 'everyon': 225, 'sound': 226, 'john': 227, 'hand': 228, '1': 229, 'father': 230, 'later': 231, 'eye': 232, 'said': 233, 'view': 234, 'instead': 235, 'review': 236, 'boy': 237, 'high': 238, 'hour': 239, 'miss': 240, 'classic': 241, 'talk': 242, 'wife': 243, 'understand': 244, 'left': 245, 'care': 246, 'black': 247, 'death': 248, 'open': 249, 'murder': 250, 'write': 251, 'half': 252, 'head': 253, 'rememb': 254, 'chang': 255, 'viewer': 256, 'fight': 257, 'gener': 258, 'surpris': 259, 'includ': 260, 'short': 261, 'die': 262, 'fall': 263, 'less': 264, 'els': 265, 'entir': 266, 'piec': 267, 'involv': 268, 'pictur': 269, 'simpli': 270, 'home': 271, 'power': 272, 'top': 273, 'total': 274, 'usual': 275, 'budget': 276, 'attempt': 277, 'suppos': 278, 'releas': 279, 'hollywood': 280, 'terribl': 281, 'song': 282, 'men': 283, 'possibl': 284, 'featur': 285, 'portray': 286, 'disappoint': 287, 'poor': 288, '3': 289, 'coupl': 290, 'camera': 291, 'stupid': 292, 'dead': 293, 'wrong': 294, 'low': 295, 'produc': 296, 'either': 297, 'video': 298, 'aw': 299, 'definit': 300, 'except': 301, 'rest': 302, 'given': 303, 'absolut': 304, 'women': 305, 'lack': 306, 'word': 307, 'writer': 308, 'titl': 309, 'talent': 310, 'decid': 311, 'full': 312, 'perfect': 313, 'along': 314, 'style': 315, 'close': 316, 'truli': 317, 'school': 318, 'save': 319, 'emot': 320, 'age': 321, 'sex': 322, 'next': 323, 'bring': 324, 'mr': 325, 'case': 326, 'killer': 327, 'heart': 328, 'comment': 329, 'sort': 330, 'creat': 331, 'perhap': 332, 'came': 333, 'brother': 334, 'sever': 335, 'joke': 336, 'art': 337, 'dialogu': 338, 'game': 339, 'small': 340, 'base': 341, 'flick': 342, 'written': 343, 'sequenc': 344, 'meet': 345, 'earli': 346, 'often': 347, 'other': 348, 'mother': 349, 'develop': 350, 'humor': 351, 'actress': 352, 'consid': 353, 'dark': 354, 'guess': 355, 'amaz': 356, 'unfortun': 357, 'light': 358, 'lost': 359, 'exampl': 360, 'cinema': 361, 'drama': 362, 'white': 363, 'ye': 364, 'experi': 365, 'imagin': 366, 'mention': 367, 'stop': 368, 'natur': 369, 'forc': 370, 'manag': 371, 'felt': 372, 'cut': 373, 'present': 374, 'children': 375, 'fail': 376, 'son': 377, 'support': 378, 'qualiti': 379, 'car': 380, 'ask': 381, 'hit': 382, 'side': 383, 'voic': 384, 'extrem': 385, 'impress': 386, 'evil': 387, 'wors': 388, 'stand': 389, 'went': 390, 'certainli': 391, 'basic': 392, 'oh': 393, 'overal': 394, 'favorit': 395, 'horribl': 396, 'mysteri': 397, 'number': 398, 'type': 399, 'danc': 400, 'wait': 401, 'hero': 402, 'alreadi': 403, '5': 404, 'learn': 405, 'matter': 406, '4': 407, 'michael': 408, 'genr': 409, 'fine': 410, 'despit': 411, 'throughout': 412, 'walk': 413, 'success': 414, 'histori': 415, 'question': 416, 'zombi': 417, 'town': 418, 'realiz': 419, 'relationship': 420, 'past': 421, 'child': 422, 'daughter': 423, 'late': 424, 'b': 425, 'wish': 426, 'credit': 427, 'hate': 428, 'event': 429, 'theme': 430, 'touch': 431, 'citi': 432, 'today': 433, 'sometim': 434, 'behind': 435, 'god': 436, 'twist': 437, 'sit': 438, 'deal': 439, 'annoy': 440, 'stay': 441, 'abl': 442, 'rent': 443, 'pleas': 444, 'edit': 445, 'blood': 446, 'deserv': 447, 'comic': 448, 'anyway': 449, 'appar': 450, 'soon': 451, 'gave': 452, 'etc': 453, 'level': 454, 'slow': 455, 'chanc': 456, 'score': 457, 'bodi': 458, 'brilliant': 459, 'incred': 460, 'figur': 461, 'situat': 462, 'self': 463, 'major': 464, 'stuff': 465, 'decent': 466, 'element': 467, 'return': 468, 'dream': 469, 'obvious': 470, 'continu': 471, 'order': 472, 'pace': 473, 'ridicul': 474, 'happi': 475, 'highli': 476, 'group': 477, 'add': 478, 'thank': 479, 'ladi': 480, 'novel': 481, 'pain': 482, 'speak': 483, 'career': 484, 'shoot': 485, 'strang': 486, 'heard': 487, 'sad': 488, 'husband': 489, 'polic': 490, 'import': 491, 'break': 492, 'took': 493, 'strong': 494, 'cannot': 495, 'robert': 496, 'predict': 497, 'violenc': 498, 'hilari': 499, 'recent': 500, 'countri': 501, 'known': 502, 'particularli': 503, 'pick': 504, 'documentari': 505, 'season': 506, 'critic': 507, 'jame': 508, 'compar': 509, 'alon': 510, 'obviou': 511, 'told': 512, 'state': 513, 'visual': 514, 'rock': 515, 'theater': 516, 'exist': 517, 'offer': 518, 'opinion': 519, 'gore': 520, 'crap': 521, 'hold': 522, 'result': 523, 'room': 524, 'realiti': 525, 'hear': 526, 'effort': 527, 'clich': 528, 'thriller': 529, 'caus': 530, 'sequel': 531, 'explain': 532, 'serious': 533, 'king': 534, 'local': 535, 'ago': 536, 'none': 537, 'hell': 538, 'note': 539, 'allow': 540, 'sister': 541, 'david': 542, 'simpl': 543, 'femal': 544, 'deliv': 545, 'ok': 546, 'class': 547, 'convinc': 548, 'check': 549, 'suspens': 550, 'win': 551, 'buy': 552, 'oscar': 553, 'huge': 554, 'valu': 555, 'sexual': 556, 'cool': 557, 'scari': 558, 'similar': 559, 'excit': 560, 'apart': 561, 'exactli': 562, 'provid': 563, 'avoid': 564, 'shown': 565, 'seriou': 566, 'english': 567, 'whose': 568, 'taken': 569, 'cinematographi': 570, 'shock': 571, 'polit': 572, 'spoiler': 573, 'offic': 574, 'across': 575, 'middl': 576, 'street': 577, 'pass': 578, 'messag': 579, 'somewhat': 580, 'charm': 581, 'silli': 582, 'modern': 583, 'filmmak': 584, 'confus': 585, 'form': 586, 'tale': 587, 'singl': 588, 'jack': 589, 'mostli': 590, 'carri': 591, 'william': 592, 'attent': 593, 'sing': 594, 'five': 595, 'subject': 596, 'richard': 597, 'prove': 598, 'team': 599, 'stage': 600, 'cop': 601, 'unlik': 602, 'georg': 603, 'monster': 604, 'televis': 605, 'earth': 606, 'cover': 607, 'villain': 608, 'pay': 609, 'marri': 610, 'toward': 611, 'build': 612, 'pull': 613, 'parent': 614, 'due': 615, 'respect': 616, 'fill': 617, 'dialog': 618, 'four': 619, 'remind': 620, 'futur': 621, 'typic': 622, 'weak': 623, '7': 624, 'cheap': 625, 'intellig': 626, 'atmospher': 627, 'british': 628, '80': 629, 'clearli': 630, 'non': 631, 'paul': 632, 'dog': 633, 'artist': 634, 'fast': 635, '8': 636, 'knew': 637, 'crime': 638, 'easili': 639, 'escap': 640, 'doubt': 641, 'adult': 642, 'detail': 643, 'date': 644, 'romant': 645, 'member': 646, 'fire': 647, 'gun': 648, 'drive': 649, 'straight': 650, 'fit': 651, 'beyond': 652, 'attack': 653, 'imag': 654, 'upon': 655, 'posit': 656, 'whether': 657, 'peter': 658, 'fantast': 659, 'aspect': 660, 'appreci': 661, 'captur': 662, 'ten': 663, 'plan': 664, 'discov': 665, 'remain': 666, 'near': 667, 'period': 668, 'realist': 669, 'air': 670, 'mark': 671, 'red': 672, 'dull': 673, 'adapt': 674, 'within': 675, 'lose': 676, 'spend': 677, 'materi': 678, 'color': 679, 'chase': 680, 'mari': 681, 'storylin': 682, 'forget': 683, 'bunch': 684, 'clear': 685, 'lee': 686, 'victim': 687, 'nearli': 688, 'box': 689, 'york': 690, 'inspir': 691, 'match': 692, 'finish': 693, 'mess': 694, 'standard': 695, 'easi': 696, 'truth': 697, 'busi': 698, 'suffer': 699, 'bill': 700, 'dramat': 701, 'space': 702, 'western': 703, 'e': 704, 'list': 705, 'battl': 706, 'notic': 707, 'de': 708, 'french': 709, 'ad': 710, '9': 711, 'tom': 712, 'larg': 713, 'among': 714, 'eventu': 715, 'accept': 716, 'train': 717, 'agre': 718, 'spirit': 719, 'soundtrack': 720, 'third': 721, 'teenag': 722, 'adventur': 723, 'soldier': 724, 'drug': 725, 'sorri': 726, 'famou': 727, 'suggest': 728, 'normal': 729, 'babi': 730, 'cri': 731, 'ultim': 732, 'troubl': 733, 'contain': 734, 'certain': 735, 'cultur': 736, 'romanc': 737, 'rare': 738, 'lame': 739, 'somehow': 740, 'disney': 741, 'mix': 742, 'gone': 743, 'cartoon': 744, 'student': 745, 'reveal': 746, 'fear': 747, 'suck': 748, 'kept': 749, 'attract': 750, 'appeal': 751, 'premis': 752, 'design': 753, 'secret': 754, 'greatest': 755, 'shame': 756, 'throw': 757, 'copi': 758, 'scare': 759, 'wit': 760, 'america': 761, 'admit': 762, 'particular': 763, 'relat': 764, 'brought': 765, 'screenplay': 766, 'whatev': 767, 'pure': 768, '70': 769, 'harri': 770, 'averag': 771, 'master': 772, 'describ': 773, 'male': 774, 'treat': 775, '20': 776, 'issu': 777, 'fantasi': 778, 'warn': 779, 'inde': 780, 'background': 781, 'forward': 782, 'project': 783, 'free': 784, 'japanes': 785, 'memor': 786, 'poorli': 787, 'award': 788, 'locat': 789, 'potenti': 790, 'amus': 791, 'struggl': 792, 'magic': 793, 'weird': 794, 'societi': 795, 'okay': 796, 'accent': 797, 'doctor': 798, 'imdb': 799, 'hot': 800, 'water': 801, 'dr': 802, 'express': 803, '30': 804, 'alien': 805, 'odd': 806, 'choic': 807, 'crazi': 808, 'fiction': 809, 'studio': 810, 'becam': 811, 'control': 812, 'masterpiec': 813, 'fli': 814, 'difficult': 815, 'joe': 816, 'scream': 817, 'costum': 818, 'lover': 819, 'refer': 820, 'uniqu': 821, 'remak': 822, 'girlfriend': 823, 'vampir': 824, 'prison': 825, 'execut': 826, 'wear': 827, 'jump': 828, 'wood': 829, 'unless': 830, 'creepi': 831, 'cheesi': 832, 'superb': 833, 'otherwis': 834, 'parti': 835, 'ghost': 836, 'roll': 837, 'public': 838, 'mad': 839, 'depict': 840, 'jane': 841, 'week': 842, 'badli': 843, 'moral': 844, 'earlier': 845, 'dumb': 846, 'fi': 847, 'grow': 848, 'flaw': 849, 'deep': 850, 'sci': 851, 'cat': 852, 'maker': 853, 'older': 854, 'footag': 855, 'connect': 856, 'plenti': 857, 'bother': 858, 'outsid': 859, 'stick': 860, 'gay': 861, 'catch': 862, 'co': 863, 'plu': 864, 'popular': 865, 'equal': 866, 'social': 867, 'disturb': 868, 'quickli': 869, 'perfectli': 870, 'dress': 871, '90': 872, 'era': 873, 'mistak': 874, 'lie': 875, 'ride': 876, 'previou': 877, 'combin': 878, 'band': 879, 'concept': 880, 'rich': 881, 'surviv': 882, 'answer': 883, 'front': 884, 'sweet': 885, 'christma': 886, 'insid': 887, 'eat': 888, 'bare': 889, 'concern': 890, 'ben': 891, 'beat': 892, 'listen': 893, 'c': 894, 'term': 895, 'serv': 896, 'german': 897, 'la': 898, 'meant': 899, 'stereotyp': 900, 'hardli': 901, 'innoc': 902, 'law': 903, 'desper': 904, 'promis': 905, 'memori': 906, 'cute': 907, 'intent': 908, 'inform': 909, 'variou': 910, 'steal': 911, 'brain': 912, 'post': 913, 'tone': 914, 'island': 915, 'amount': 916, 'compani': 917, 'nuditi': 918, 'track': 919, 'claim': 920, 'store': 921, 'flat': 922, 'hair': 923, '50': 924, 'univers': 925, 'land': 926, 'danger': 927, 'scott': 928, 'kick': 929, 'fairli': 930, 'player': 931, 'crew': 932, 'step': 933, 'plain': 934, 'toni': 935, 'share': 936, 'centuri': 937, 'tast': 938, 'achiev': 939, 'engag': 940, 'travel': 941, 'cold': 942, 'suit': 943, 'rip': 944, 'record': 945, 'sadli': 946, 'manner': 947, 'wrote': 948, 'spot': 949, 'tension': 950, 'fascin': 951, 'intens': 952, 'familiar': 953, 'burn': 954, 'remark': 955, 'depth': 956, 'destroy': 957, 'histor': 958, 'sleep': 959, 'purpos': 960, 'languag': 961, 'ignor': 962, 'ruin': 963, 'delight': 964, 'unbeliev': 965, 'italian': 966, 'abil': 967, 'collect': 968, 'soul': 969, 'clever': 970, 'detect': 971, 'violent': 972, 'rape': 973, 'reach': 974, 'door': 975, 'scienc': 976, 'liter': 977, 'trash': 978, 'caught': 979, 'commun': 980, 'reveng': 981, 'creatur': 982, 'approach': 983, 'trip': 984, 'fashion': 985, 'intrigu': 986, 'introduc': 987, 'paint': 988, 'skill': 989, 'complex': 990, 'channel': 991, 'camp': 992, 'christian': 993, 'hole': 994, 'extra': 995, 'ann': 996, 'limit': 997, 'mental': 998, 'immedi': 999, 'comput': 1000, 'mere': 1001, 'slightli': 1002, '6': 1003, 'million': 1004, 'conclus': 1005, 'slasher': 1006, 'suddenli': 1007, 'imposs': 1008, 'crimin': 1009, 'neither': 1010, 'teen': 1011, 'nation': 1012, 'spent': 1013, 'physic': 1014, 'respons': 1015, 'planet': 1016, 'receiv': 1017, 'fake': 1018, 'sick': 1019, 'blue': 1020, 'bizarr': 1021, 'embarrass': 1022, 'indian': 1023, '15': 1024, 'ring': 1025, 'pop': 1026, 'drop': 1027, 'drag': 1028, 'haunt': 1029, 'suspect': 1030, 'pointless': 1031, 'edg': 1032, 'search': 1033, 'handl': 1034, 'biggest': 1035, 'common': 1036, 'faith': 1037, 'arriv': 1038, 'hurt': 1039, 'technic': 1040, 'angel': 1041, 'dad': 1042, 'genuin': 1043, 'f': 1044, 'awesom': 1045, 'solid': 1046, 'colleg': 1047, 'van': 1048, 'former': 1049, 'focu': 1050, 'count': 1051, 'heavi': 1052, 'tear': 1053, 'rais': 1054, 'wall': 1055, 'younger': 1056, 'laughabl': 1057, 'visit': 1058, 'fair': 1059, 'sign': 1060, 'excus': 1061, 'cult': 1062, 'motion': 1063, 'tough': 1064, 'key': 1065, 'super': 1066, 'desir': 1067, 'addit': 1068, 'stun': 1069, 'exploit': 1070, 'cloth': 1071, 'tortur': 1072, 'smith': 1073, 'davi': 1074, 'race': 1075, 'cross': 1076, 'author': 1077, 'jim': 1078, 'minor': 1079, 'focus': 1080, 'consist': 1081, 'compel': 1082, 'pathet': 1083, 'commit': 1084, 'chemistri': 1085, 'park': 1086, 'tradit': 1087, 'obsess': 1088, 'frank': 1089, 'grade': 1090, 'asid': 1091, '60': 1092, 'brutal': 1093, 'steve': 1094, 'somewher': 1095, 'rule': 1096, 'grant': 1097, 'depress': 1098, 'u': 1099, 'opportun': 1100, 'explor': 1101, 'honest': 1102, 'besid': 1103, 'dub': 1104, 'anti': 1105, 'intend': 1106, 'trailer': 1107, 'bar': 1108, 'regard': 1109, 'scientist': 1110, 'west': 1111, 'longer': 1112, 'judg': 1113, 'decad': 1114, 'silent': 1115, 'armi': 1116, 'creativ': 1117, 'wild': 1118, 'g': 1119, 'stewart': 1120, 'south': 1121, 'draw': 1122, 'road': 1123, 'govern': 1124, 'ex': 1125, 'boss': 1126, 'practic': 1127, 'gang': 1128, 'motiv': 1129, 'festiv': 1130, 'club': 1131, 'surprisingli': 1132, 'redeem': 1133, 'green': 1134, 'london': 1135, 'page': 1136, 'aliv': 1137, 'idiot': 1138, 'militari': 1139, 'display': 1140, 'machin': 1141, 'thrill': 1142, 'repeat': 1143, 'nobodi': 1144, 'yeah': 1145, '100': 1146, 'folk': 1147, '40': 1148, 'journey': 1149, 'garbag': 1150, 'tire': 1151, 'smile': 1152, 'ground': 1153, 'bought': 1154, 'mood': 1155, 'stone': 1156, 'sam': 1157, 'cost': 1158, 'noir': 1159, 'mouth': 1160, 'agent': 1161, 'terrif': 1162, 'utterli': 1163, 'requir': 1164, 'sexi': 1165, 'area': 1166, 'honestli': 1167, 'geniu': 1168, 'report': 1169, 'enter': 1170, 'investig': 1171, 'humour': 1172, 'glad': 1173, 'serial': 1174, 'narr': 1175, 'occasion': 1176, 'passion': 1177, 'climax': 1178, 'marriag': 1179, 'studi': 1180, 'industri': 1181, 'ship': 1182, 'demon': 1183, 'center': 1184, 'nowher': 1185, 'charli': 1186, 'loos': 1187, 'bear': 1188, 'hors': 1189, 'hang': 1190, 'wow': 1191, 'graphic': 1192, 'admir': 1193, 'giant': 1194, 'send': 1195, 'loud': 1196, 'damn': 1197, 'rel': 1198, 'profession': 1199, 'subtl': 1200, 'nake': 1201, 'blow': 1202, 'bottom': 1203, 'batman': 1204, 'insult': 1205, 'kelli': 1206, 'boyfriend': 1207, 'doubl': 1208, 'r': 1209, 'initi': 1210, 'frame': 1211, 'gem': 1212, 'opera': 1213, 'drawn': 1214, 'affect': 1215, 'cinemat': 1216, 'challeng': 1217, 'church': 1218, 'j': 1219, 'seek': 1220, 'evid': 1221, 'fulli': 1222, 'nightmar': 1223, 'l': 1224, 'essenti': 1225, 'arm': 1226, 'conflict': 1227, 'christoph': 1228, 'wind': 1229, 'henri': 1230, 'grace': 1231, 'witch': 1232, 'narrat': 1233, 'assum': 1234, 'push': 1235, 'hunt': 1236, 'wise': 1237, 'chri': 1238, 'nomin': 1239, 'month': 1240, 'repres': 1241, 'sceneri': 1242, 'hide': 1243, 'avail': 1244, 'affair': 1245, 'thu': 1246, 'smart': 1247, 'justic': 1248, 'bond': 1249, 'interview': 1250, 'flashback': 1251, 'outstand': 1252, 'presenc': 1253, 'satisfi': 1254, 'constantli': 1255, 'central': 1256, 'bed': 1257, 'iron': 1258, 'content': 1259, 'sell': 1260, 'gag': 1261, 'everybodi': 1262, 'slowli': 1263, 'hotel': 1264, 'hire': 1265, 'system': 1266, 'adam': 1267, 'thrown': 1268, 'hey': 1269, 'charl': 1270, 'individu': 1271, 'mediocr': 1272, 'allen': 1273, 'jone': 1274, 'lesson': 1275, 'ray': 1276, 'billi': 1277, 'cameo': 1278, 'photographi': 1279, 'fellow': 1280, 'pari': 1281, 'strike': 1282, 'rise': 1283, 'brief': 1284, 'independ': 1285, 'absurd': 1286, 'neg': 1287, 'phone': 1288, 'impact': 1289, 'ill': 1290, 'model': 1291, 'born': 1292, 'angl': 1293, 'fresh': 1294, 'spoil': 1295, 'likabl': 1296, 'abus': 1297, 'discuss': 1298, 'hill': 1299, 'sight': 1300, 'ahead': 1301, 'photograph': 1302, 'sent': 1303, 'logic': 1304, 'blame': 1305, 'occur': 1306, 'shine': 1307, 'bruce': 1308, 'mainli': 1309, 'commerci': 1310, 'forev': 1311, 'skip': 1312, 'surround': 1313, 'segment': 1314, 'held': 1315, 'teacher': 1316, 'zero': 1317, 'blond': 1318, 'resembl': 1319, 'satir': 1320, 'trap': 1321, 'summer': 1322, 'fool': 1323, 'ball': 1324, 'six': 1325, 'queen': 1326, 'sub': 1327, 'tragedi': 1328, 'twice': 1329, 'reaction': 1330, 'pack': 1331, 'bomb': 1332, 'hospit': 1333, 'protagonist': 1334, 'will': 1335, 'sport': 1336, 'mile': 1337, 'drink': 1338, 'mom': 1339, 'jerri': 1340, 'vote': 1341, 'trust': 1342, 'encount': 1343, 'plane': 1344, 'al': 1345, 'station': 1346, 'current': 1347, 'program': 1348, 'martin': 1349, 'choos': 1350, 'celebr': 1351, 'join': 1352, 'round': 1353, 'tragic': 1354, 'field': 1355, 'favourit': 1356, 'lord': 1357, 'jean': 1358, 'vision': 1359, 'robot': 1360, 'tie': 1361, 'arthur': 1362, 'random': 1363, 'roger': 1364, 'fortun': 1365, 'intern': 1366, 'dread': 1367, 'psycholog': 1368, 'epic': 1369, 'prefer': 1370, 'nonsens': 1371, 'improv': 1372, 'highlight': 1373, 'pleasur': 1374, 'legend': 1375, 'formula': 1376, '11': 1377, 'tape': 1378, 'dollar': 1379, 'object': 1380, 'porn': 1381, 'thin': 1382, 'gorgeou': 1383, 'wide': 1384, 'fox': 1385, 'buddi': 1386, 'ugli': 1387, 'influenc': 1388, 'nasti': 1389, 'prepar': 1390, 'ii': 1391, 'progress': 1392, 'reflect': 1393, 'warm': 1394, 'supposedli': 1395, 'worthi': 1396, 'youth': 1397, 'latter': 1398, 'unusu': 1399, 'length': 1400, 'crash': 1401, 'seven': 1402, 'childhood': 1403, 'superior': 1404, 'shop': 1405, 'remot': 1406, 'theatr': 1407, 'funniest': 1408, 'disgust': 1409, 'pilot': 1410, 'paid': 1411, 'convers': 1412, 'fell': 1413, 'trick': 1414, 'castl': 1415, 'gangster': 1416, 'disast': 1417, 'rob': 1418, 'establish': 1419, 'mine': 1420, 'suicid': 1421, 'disappear': 1422, 'ident': 1423, 'heaven': 1424, 'mask': 1425, 'singer': 1426, 'tend': 1427, 'heroin': 1428, 'forgotten': 1429, 'decis': 1430, 'partner': 1431, 'brian': 1432, 'alan': 1433, 'desert': 1434, 'recogn': 1435, 'sky': 1436, 'ms': 1437, 'stuck': 1438, 'thoroughli': 1439, 'p': 1440, 'replac': 1441, 'accur': 1442, 'market': 1443, 'danni': 1444, 'seemingli': 1445, 'clue': 1446, 'commentari': 1447, 'eddi': 1448, 'andi': 1449, 'uncl': 1450, 'devil': 1451, 'jackson': 1452, 'that': 1453, 'pair': 1454, 'therefor': 1455, 'refus': 1456, 'fate': 1457, 'accid': 1458, 'fault': 1459, 'river': 1460, 'unit': 1461, 'ed': 1462, 'afraid': 1463, 'tune': 1464, 'russian': 1465, 'hidden': 1466, 'stephen': 1467, 'clean': 1468, 'instanc': 1469, 'captain': 1470, 'test': 1471, 'readi': 1472, 'irrit': 1473, 'convey': 1474, 'quick': 1475, 'european': 1476, 'daniel': 1477, 'insan': 1478, 'frustrat': 1479, '1950': 1480, 'chines': 1481, 'rescu': 1482, 'food': 1483, 'wed': 1484, 'dirti': 1485, 'lock': 1486, 'angri': 1487, 'joy': 1488, 'price': 1489, 'steven': 1490, 'cage': 1491, 'bland': 1492, 'anymor': 1493, 'rang': 1494, 'wooden': 1495, 'news': 1496, 'jason': 1497, 'rush': 1498, 'n': 1499, 'twenti': 1500, 'board': 1501, 'led': 1502, '12': 1503, 'worri': 1504, 'martial': 1505, 'transform': 1506, 'symbol': 1507, 'cgi': 1508, 'hunter': 1509, 'johnni': 1510, 'invent': 1511, 'sentiment': 1512, 'x': 1513, 'onto': 1514, 'piti': 1515, 'attitud': 1516, 'process': 1517, 'explan': 1518, 'awar': 1519, 'owner': 1520, 'aim': 1521, 'floor': 1522, 'favor': 1523, 'energi': 1524, 'necessari': 1525, 'target': 1526, 'opposit': 1527, 'religi': 1528, 'chick': 1529, 'insight': 1530, 'blind': 1531, 'window': 1532, 'movement': 1533, 'mountain': 1534, 'comparison': 1535, 'research': 1536, 'possess': 1537, 'deepli': 1538, 'comed': 1539, 'rain': 1540, 'grand': 1541, 'whatsoev': 1542, 'bank': 1543, 'shadow': 1544, 'mid': 1545, 'began': 1546, 'parodi': 1547, 'princ': 1548, 'pre': 1549, 'friendship': 1550, 'taylor': 1551, 'weapon': 1552, 'credibl': 1553, 'dougla': 1554, 'flesh': 1555, 'teach': 1556, 'terror': 1557, 'bloodi': 1558, 'hint': 1559, 'protect': 1560, 'marvel': 1561, 'load': 1562, 'leader': 1563, 'drunk': 1564, 'superman': 1565, 'watchabl': 1566, 'accord': 1567, 'anybodi': 1568, 'brown': 1569, 'freddi': 1570, 'hitler': 1571, 'tim': 1572, 'jeff': 1573, 'appropri': 1574, 'seat': 1575, 'keaton': 1576, 'charg': 1577, 'villag': 1578, 'unknown': 1579, 'knock': 1580, 'media': 1581, 'unnecessari': 1582, 'england': 1583, 'empti': 1584, 'enemi': 1585, 'buck': 1586, 'strength': 1587, 'wave': 1588, 'dare': 1589, 'utter': 1590, 'craft': 1591, 'perspect': 1592, 'kiss': 1593, 'nativ': 1594, 'correct': 1595, 'contrast': 1596, 'ford': 1597, 'nazi': 1598, 'knowledg': 1599, 'anywher': 1600, 'distract': 1601, 'chill': 1602, 'magnific': 1603, 'soap': 1604, 'speed': 1605, 'breath': 1606, 'mission': 1607, 'fred': 1608, '1980': 1609, 'ice': 1610, 'crowd': 1611, 'joan': 1612, 'moon': 1613, 'jr': 1614, '000': 1615, 'soft': 1616, 'kate': 1617, 'frighten': 1618, 'dick': 1619, 'dan': 1620, 'nick': 1621, 'hundr': 1622, 'radio': 1623, 'dozen': 1624, 'simon': 1625, 'somebodi': 1626, 'loss': 1627, 'shakespear': 1628, 'andrew': 1629, 'thousand': 1630, 'academi': 1631, 'quot': 1632, 'account': 1633, 'vehicl': 1634, 'root': 1635, 'sum': 1636, '1970': 1637, 'leg': 1638, 'convent': 1639, 'behavior': 1640, 'gold': 1641, 'regular': 1642, 'worker': 1643, 'compet': 1644, 'demand': 1645, 'pretenti': 1646, 'privat': 1647, 'notabl': 1648, 'lynch': 1649, 'interpret': 1650, 'japan': 1651, 'stretch': 1652, 'candi': 1653, 'explos': 1654, 'constant': 1655, 'debut': 1656, 'tarzan': 1657, 'spi': 1658, 'sea': 1659, 'prais': 1660, 'revolv': 1661, 'translat': 1662, 'franc': 1663, 'jesu': 1664, 'quiet': 1665, 'technolog': 1666, 'sat': 1667, 'failur': 1668, 'threaten': 1669, 'ass': 1670, 'punch': 1671, 'met': 1672, 'toy': 1673, 'higher': 1674, 'aid': 1675, 'kevin': 1676, 'vh': 1677, 'abandon': 1678, 'interact': 1679, 'mike': 1680, 'command': 1681, 'confront': 1682, 'separ': 1683, 'bet': 1684, 'gotten': 1685, 'stunt': 1686, 'techniqu': 1687, 'servic': 1688, 'recal': 1689, 'site': 1690, 'belong': 1691, 'bug': 1692, 'foot': 1693, 'cabl': 1694, 'freak': 1695, 'capabl': 1696, 'fu': 1697, 'african': 1698, 'bright': 1699, 'jimmi': 1700, 'boat': 1701, 'fat': 1702, 'stock': 1703, 'clark': 1704, 'presid': 1705, 'succeed': 1706, 'gene': 1707, 'spanish': 1708, 'structur': 1709, 'paper': 1710, 'kidnap': 1711, 'belief': 1712, 'whilst': 1713, 'factor': 1714, 'realis': 1715, 'educ': 1716, 'tree': 1717, 'witti': 1718, 'complic': 1719, 'realism': 1720, 'attend': 1721, 'bob': 1722, 'broken': 1723, 'assist': 1724, 'santa': 1725, 'finest': 1726, 'v': 1727, 'up': 1728, 'determin': 1729, 'smoke': 1730, 'observ': 1731, 'depart': 1732, 'oper': 1733, 'routin': 1734, 'fame': 1735, 'domin': 1736, 'hat': 1737, 'lewi': 1738, 'rubbish': 1739, 'safe': 1740, 'lone': 1741, 'advanc': 1742, 'kinda': 1743, 'hook': 1744, 'morgan': 1745, 'foreign': 1746, 'numer': 1747, 'rank': 1748, 'civil': 1749, 'shallow': 1750, 'werewolf': 1751, 'vs': 1752, 'rose': 1753, 'shape': 1754, 'washington': 1755, 'gari': 1756, 'morn': 1757, 'kong': 1758, 'ordinari': 1759, 'accomplish': 1760, 'winner': 1761, 'peac': 1762, 'virtual': 1763, 'whenev': 1764, 'grab': 1765, 'h': 1766, 'offens': 1767, 'luck': 1768, 'patient': 1769, 'welcom': 1770, 'activ': 1771, 'unfunni': 1772, 'contriv': 1773, 'complain': 1774, 'bigger': 1775, 'pretend': 1776, 'trek': 1777, 'dimension': 1778, 'con': 1779, 'code': 1780, 'dri': 1781, 'cain': 1782, 'wake': 1783, 'lesbian': 1784, 'flash': 1785, 'eric': 1786, 'dancer': 1787, 'statu': 1788, 'corrupt': 1789, 'guard': 1790, 'manipul': 1791, 'albert': 1792, 'speech': 1793, 'awkward': 1794, 'sourc': 1795, 'signific': 1796, 'context': 1797, 'gain': 1798, '13': 1799, 'sean': 1800, 'clip': 1801, 'psycho': 1802, 'corni': 1803, 'anthoni': 1804, 'religion': 1805, 'w': 1806, 'reli': 1807, 'priest': 1808, 'advic': 1809, 'theatric': 1810, 'curiou': 1811, 'flow': 1812, 'addict': 1813, 'jennif': 1814, 'asian': 1815, 'skin': 1816, 'specif': 1817, 'howard': 1818, 'secur': 1819, 'luke': 1820, 'organ': 1821, 'comfort': 1822, 'promot': 1823, 'core': 1824, 'golden': 1825, 'cheat': 1826, 'lucki': 1827, 'cash': 1828, 'lower': 1829, 'associ': 1830, 'dislik': 1831, 'spell': 1832, 'frankli': 1833, 'regret': 1834, 'frequent': 1835, 'devic': 1836, 'contribut': 1837, 'balanc': 1838, 'wing': 1839, 'degre': 1840, 'sake': 1841, 'forgiv': 1842, 'print': 1843, 'lake': 1844, 'betti': 1845, 'thoma': 1846, 'mass': 1847, 'unexpect': 1848, 'gordon': 1849, 'crack': 1850, 'categori': 1851, 'grown': 1852, 'unfold': 1853, 'amateur': 1854, 'invit': 1855, 'depend': 1856, 'construct': 1857, 'grew': 1858, 'condit': 1859, 'anna': 1860, 'walter': 1861, 'intellectu': 1862, 'honor': 1863, 'matur': 1864, 'sudden': 1865, 'mirror': 1866, 'spectacular': 1867, 'veteran': 1868, 'sole': 1869, 'meanwhil': 1870, 'gift': 1871, 'robin': 1872, 'card': 1873, 'demonstr': 1874, 'overli': 1875, 'grip': 1876, 'liner': 1877, 'freedom': 1878, 'experienc': 1879, 'drew': 1880, 'subtitl': 1881, 'section': 1882, 'circumst': 1883, 'crappi': 1884, 'colour': 1885, 'theori': 1886, 'unabl': 1887, 'sheriff': 1888, 'oliv': 1889, 'brilliantli': 1890, 'cook': 1891, 'pile': 1892, 'altern': 1893, 'path': 1894, 'sheer': 1895, 'matt': 1896, 'laughter': 1897, 'parker': 1898, 'sinatra': 1899, 'hall': 1900, 'treatment': 1901, 'wander': 1902, 'lawyer': 1903, 'accident': 1904, 'defin': 1905, 'relief': 1906, 'hank': 1907, 'dragon': 1908, 'captiv': 1909, 'halloween': 1910, 'moor': 1911, 'gratuit': 1912, 'broadway': 1913, 'k': 1914, 'jacki': 1915, 'wayn': 1916, 'wound': 1917, 'kung': 1918, 'unintent': 1919, 'barbara': 1920, 'cowboy': 1921, 'spoof': 1922, 'surreal': 1923, 'statement': 1924, 'canadian': 1925, 'winter': 1926, 'fish': 1927, 'compos': 1928, 'treasur': 1929, 'cheer': 1930, 'fare': 1931, 'gonna': 1932, 'victor': 1933, 'emerg': 1934, 'woodi': 1935, 'sensit': 1936, 'unrealist': 1937, 'driven': 1938, 'sympathet': 1939, 'neighbor': 1940, 'ran': 1941, 'overlook': 1942, 'expos': 1943, 'topic': 1944, 'menac': 1945, 'authent': 1946, 'glass': 1947, 'ancient': 1948, 'michel': 1949, 'handsom': 1950, 'gross': 1951, 'chief': 1952, 'cinderella': 1953, 'pleasant': 1954, 'network': 1955, 'contemporari': 1956, 'built': 1957, 'comedian': 1958, 'stranger': 1959, 'russel': 1960, 'nevertheless': 1961, 'feet': 1962, 'underr': 1963, 'gori': 1964, 'endless': 1965, 'miser': 1966, 'earn': 1967, 'consider': 1968, 'letter': 1969, 'blockbust': 1970, 'switch': 1971, 'brook': 1972, 'solv': 1973, 'edward': 1974, 'victoria': 1975, 'virgin': 1976, 'convict': 1977, 'bullet': 1978, 'joseph': 1979, 'scale': 1980, 'cynic': 1981, 'alex': 1982, 'scenario': 1983, '0': 1984, 'chosen': 1985, 'com': 1986, 'gut': 1987, 'curs': 1988, 'outrag': 1989, 'sword': 1990, 'monkey': 1991, 'juli': 1992, 'driver': 1993, 'substanc': 1994, 'screenwrit': 1995, 'uk': 1996, 'proper': 1997, 'wrap': 1998, 'court': 1999, 'par': 2000, 'indic': 2001, 'remov': 2002, 'bird': 2003, 'nanci': 2004, 'rental': 2005, 'advertis': 2006, 'consequ': 2007, 'roy': 2008, 'inevit': 2009, 'naiv': 2010, 'loser': 2011, 'grave': 2012, 'slap': 2013, 'germani': 2014, 'le': 2015, 'fatal': 2016, 'invis': 2017, 'bridg': 2018, 'brave': 2019, 'ador': 2020, 'provok': 2021, 'loui': 2022, 'anger': 2023, 'footbal': 2024, 'chan': 2025, 'anderson': 2026, 'alcohol': 2027, 'professor': 2028, 'stumbl': 2029, 'ryan': 2030, 'willi': 2031, 'australian': 2032, 'bat': 2033, '1930': 2034, 'assassin': 2035, 'patrick': 2036, 'sharp': 2037, 'heck': 2038, 'cell': 2039, 'amateurish': 2040, 'strongli': 2041, 'deni': 2042, 'ape': 2043, 'lousi': 2044, 'eight': 2045, 'liber': 2046, 'saturday': 2047, 'trilog': 2048, 'refresh': 2049, 'sin': 2050, 'vagu': 2051, 'san': 2052, 'resid': 2053, 'justifi': 2054, 'mini': 2055, 'terrifi': 2056, 'sympathi': 2057, 'defeat': 2058, 'reput': 2059, 'indi': 2060, 'creator': 2061, 'tediou': 2062, 'prevent': 2063, 'endur': 2064, 'tabl': 2065, 'expert': 2066, 'task': 2067, 'che': 2068, 'trial': 2069, 'employ': 2070, 'basebal': 2071, 'imit': 2072, 'offend': 2073, 'rival': 2074, 'fairi': 2075, 'dig': 2076, 'beach': 2077, 'weekend': 2078, 'max': 2079, 'complaint': 2080, 'europ': 2081, 'pitch': 2082, 'risk': 2083, 'purchas': 2084, 'murphi': 2085, 'format': 2086, 'titan': 2087, 'nois': 2088, 'harsh': 2089, 'bite': 2090, 'tini': 2091, 'hype': 2092, 'reminisc': 2093, 'powel': 2094, 'glimps': 2095, 'strip': 2096, 'till': 2097, 'north': 2098, 'asleep': 2099, 'prime': 2100, 'fals': 2101, '14': 2102, 'destruct': 2103, 'descript': 2104, 'texa': 2105, 'revel': 2106, 'africa': 2107, 'spin': 2108, 'arrest': 2109, 'inner': 2110, 'sitcom': 2111, 'uninterest': 2112, 'excess': 2113, 'semi': 2114, 'surfac': 2115, 'hitchcock': 2116, 'twin': 2117, 'massiv': 2118, 'argu': 2119, 'makeup': 2120, 'dinosaur': 2121, 'controversi': 2122, 'maintain': 2123, 'insist': 2124, 'ludicr': 2125, 'ideal': 2126, 'kim': 2127, 'reject': 2128, 'melodrama': 2129, 'expens': 2130, 'stare': 2131, 'erot': 2132, 'ga': 2133, 'ala': 2134, 'nail': 2135, 'subplot': 2136, 'host': 2137, 'atroci': 2138, 'supernatur': 2139, 'forest': 2140, 'press': 2141, 'columbo': 2142, 'cant': 2143, 'dude': 2144, 'presum': 2145, 'identifi': 2146, 'notch': 2147, 'character': 2148, 'closer': 2149, 'crude': 2150, 'plagu': 2151, 'guest': 2152, 'forgett': 2153, 'method': 2154, 'foster': 2155, 'border': 2156, 'princess': 2157, 'lion': 2158, 'beast': 2159, 'landscap': 2160, 'ear': 2161, 'damag': 2162, 'birth': 2163, 'previous': 2164, 'pacino': 2165, 'accus': 2166, 'bound': 2167, 'jungl': 2168, 'urban': 2169, 'storytel': 2170, 'aunt': 2171, 'emma': 2172, 'nude': 2173, 'doll': 2174, 'thirti': 2175, 'guid': 2176, 'jess': 2177, 'propaganda': 2178, 'chose': 2179, '25': 2180, 'whoever': 2181, 'mainstream': 2182, 'mate': 2183, 'pet': 2184, 'warrior': 2185, 'upset': 2186, 'exact': 2187, 'cooper': 2188, 'deadli': 2189, 'latest': 2190, 'merit': 2191, 'size': 2192, 'poster': 2193, 'gritti': 2194, 'friday': 2195, 'blend': 2196, 'popul': 2197, 'sun': 2198, 'warner': 2199, 'wilson': 2200, 'rough': 2201, 'ton': 2202, '1990': 2203, 'buff': 2204, 'corps': 2205, 'contact': 2206, 'settl': 2207, 'contest': 2208, 'citizen': 2209, 'widow': 2210, 'bu': 2211, 'pitt': 2212, 'rat': 2213, 'alic': 2214, 'environ': 2215, 'metal': 2216, 'mgm': 2217, 'overcom': 2218, 'select': 2219, 'ted': 2220, 'guilti': 2221, 'link': 2222, 'lift': 2223, 'particip': 2224, 'revolut': 2225, 'johnson': 2226, '1960': 2227, 'corner': 2228, 'matrix': 2229, 'corpor': 2230, 'prostitut': 2231, 'moron': 2232, 'accompani': 2233, 'exagger': 2234, 'afternoon': 2235, 'holm': 2236, 'clair': 2237, 'hood': 2238, 'friendli': 2239, 'leagu': 2240, 'multipl': 2241, 'doom': 2242, 'sincer': 2243, 'instal': 2244, 'string': 2245, 'blah': 2246, 'lugosi': 2247, 'advis': 2248, 'junk': 2249, 'irish': 2250, 'grim': 2251, 'aka': 2252, 'hip': 2253, 'examin': 2254, 'defend': 2255, 'campi': 2256, 'sunday': 2257, 'tight': 2258, 'pro': 2259, 'varieti': 2260, 'icon': 2261, 'shut': 2262, 'rachel': 2263, 'confid': 2264, 'shake': 2265, 'attach': 2266, 'goal': 2267, 'directli': 2268, 'denni': 2269, 'jaw': 2270, 'medic': 2271, 'mexican': 2272, 'sullivan': 2273, 'sarah': 2274, 'terrorist': 2275, 'bourn': 2276, 'sentenc': 2277, 'dean': 2278, 'courag': 2279, 'breast': 2280, 'duke': 2281, 'prior': 2282, 'truck': 2283, 'vietnam': 2284, 'legendari': 2285, 'behav': 2286, 'hong': 2287, 'nose': 2288, 'entri': 2289, 'split': 2290, 'yell': 2291, 'un': 2292, 'proceed': 2293, 'donald': 2294, 'buri': 2295, 'lifetim': 2296, 'swim': 2297, 'stolen': 2298, 'unconvinc': 2299, 'everywher': 2300, 'concentr': 2301, 'jerk': 2302, 'forth': 2303, 'confess': 2304, 'borrow': 2305, 'gather': 2306, 'crush': 2307, 'pan': 2308, 'spite': 2309, 'deliveri': 2310, 'julia': 2311, 'turkey': 2312, 'lip': 2313, 'california': 2314, 'freeman': 2315, 'reward': 2316, 'proud': 2317, 'quest': 2318, 'hoffman': 2319, 'china': 2320, 'flight': 2321, 'downright': 2322, 'offici': 2323, 'encourag': 2324, 'sink': 2325, 'worthwhil': 2326, 'jail': 2327, 'jon': 2328, 'sir': 2329, 'fade': 2330, 'notori': 2331, 'betray': 2332, 'inept': 2333, 'fabul': 2334, 'lazi': 2335, 'cousin': 2336, 'survivor': 2337, 'imageri': 2338, 'lisa': 2339, 'retard': 2340, 'storm': 2341, 'teeth': 2342, 'relev': 2343, 'susan': 2344, 'bell': 2345, 'shower': 2346, 'branagh': 2347, 'bag': 2348, 'shark': 2349, 'facial': 2350, 'toler': 2351, 'finger': 2352, 'trade': 2353, 'hugh': 2354, 'mexico': 2355, 'quirki': 2356, 'tremend': 2357, 'bride': 2358, 'alright': 2359, 'summari': 2360, 'stab': 2361, 'pose': 2362, 'hyster': 2363, 'von': 2364, 'bitter': 2365, 'ha': 2366, 'blown': 2367, 'cruel': 2368, 'scheme': 2369, 'bone': 2370, 'ned': 2371, 'larri': 2372, 'afterward': 2373, 'ron': 2374, 'address': 2375, 'christ': 2376, 'traci': 2377, 'tour': 2378, 'swear': 2379, 'snake': 2380, 'pursu': 2381, 'distinct': 2382, 'screw': 2383, 'thumb': 2384, 'feed': 2385, 'beg': 2386, 'stomach': 2387, 'photo': 2388, 'chair': 2389, 'occas': 2390, 'raw': 2391, 'obscur': 2392, 'mechan': 2393, 'southern': 2394, 'chain': 2395, 'sidney': 2396, 'holiday': 2397, 'gruesom': 2398, 'resist': 2399, 'argument': 2400, 'render': 2401, 'necessarili': 2402, 'cabin': 2403, 'heavili': 2404, 'hardi': 2405, 'india': 2406, 'satan': 2407, 'racist': 2408, 'philip': 2409, 'indulg': 2410, 'understood': 2411, 'pregnant': 2412, 'forgot': 2413, 'outfit': 2414, 'fourth': 2415, 'integr': 2416, 'tongu': 2417, 'obnoxi': 2418, 'belov': 2419, 'stalk': 2420, 'lay': 2421, 'midnight': 2422, 'carol': 2423, 'ticket': 2424, 'garden': 2425, 'deeper': 2426, 'inhabit': 2427, 'restor': 2428, 'slapstick': 2429, '17': 2430, 'magazin': 2431, 'brad': 2432, 'shoe': 2433, 'devot': 2434, 'lincoln': 2435, 'incid': 2436, 'guarante': 2437, 'maria': 2438, 'sandler': 2439, 'lili': 2440, 'underground': 2441, 'elizabeth': 2442, 'disbelief': 2443, 'anticip': 2444, 'benefit': 2445, 'divorc': 2446, 'cring': 2447, 'mildli': 2448, 'creation': 2449, 'amazingli': 2450, 'capit': 2451, 'explod': 2452, 'greater': 2453, 'princip': 2454, 'slave': 2455, 'bbc': 2456, 'extraordinari': 2457, 'lesli': 2458, 'funnier': 2459, 'halfway': 2460, 'introduct': 2461, 'extent': 2462, 'text': 2463, 'enhanc': 2464, 'advantag': 2465, 'wreck': 2466, 'tap': 2467, 'punish': 2468, 'transfer': 2469, 'overwhelm': 2470, 'lo': 2471, 'plant': 2472, 'east': 2473, 'error': 2474, 'preview': 2475, 'horrif': 2476, 'dynam': 2477, 'lane': 2478, 'jessica': 2479, 'deliber': 2480, 'sophist': 2481, 'miscast': 2482, 'homosexu': 2483, 'vacat': 2484, '2000': 2485, 'basi': 2486, 'miller': 2487, 'vincent': 2488, 'appli': 2489, 'ensu': 2490, 'bollywood': 2491, 'sleazi': 2492, 'extend': 2493, 'via': 2494, 'mansion': 2495, 'reed': 2496, 'elev': 2497, 'spoken': 2498, 'steel': 2499, 'uncomfort': 2500, 'measur': 2501, 'dentist': 2502, 'assign': 2503, 'blair': 2504, 'cathol': 2505, 'hippi': 2506, 'goofi': 2507, 'conceiv': 2508, 'melt': 2509, 'alter': 2510, 'mous': 2511, 'fix': 2512, 'overact': 2513, 'daili': 2514, 'breathtak': 2515, 'beer': 2516, 'savag': 2517, 'stanley': 2518, 'carpent': 2519, 'succe': 2520, 'properli': 2521, 'burt': 2522, 'everyday': 2523, 'subsequ': 2524, 'oppos': 2525, 'nowaday': 2526, 'sacrific': 2527, 'inspector': 2528, 'laura': 2529, 'massacr': 2530, 'neck': 2531, 'circl': 2532, 'block': 2533, 'seagal': 2534, 'christi': 2535, 'pool': 2536, 'access': 2537, 'portrait': 2538, 'grey': 2539, 'lesser': 2540, 'fallen': 2541, 'fay': 2542, 'concert': 2543, 'mob': 2544, 'jewish': 2545, 'jake': 2546, 'chees': 2547, 'usa': 2548, 'isol': 2549, 'sinist': 2550, 'relax': 2551, 'react': 2552, 'competit': 2553, 'stink': 2554, 'appal': 2555, 'lyric': 2556, 'creep': 2557, '2006': 2558, 'chop': 2559, 'ironi': 2560, 'suitabl': 2561, 'immens': 2562, 'nonetheless': 2563, 'spiritu': 2564, 'nine': 2565, 'spring': 2566, 'luci': 2567, 'franchis': 2568, 'nut': 2569, 'retir': 2570, 'rage': 2571, 'showcas': 2572, 'shirt': 2573, 'reduc': 2574, 'adopt': 2575, 'sold': 2576, 'needless': 2577, 'navi': 2578, 'user': 2579, 'digit': 2580, 'bath': 2581, 'nurs': 2582, 'stanwyck': 2583, 'asham': 2584, 'uninspir': 2585, 'bulli': 2586, 'per': 2587, 'zone': 2588, 'jay': 2589, 'broadcast': 2590, 'oddli': 2591, 'upper': 2592, '1940': 2593, 'amongst': 2594, 'sutherland': 2595, 'illustr': 2596, 'laid': 2597, '2001': 2598, 'fulfil': 2599, 'brando': 2600, 'stylish': 2601, 'baker': 2602, 'aspir': 2603, 'throat': 2604, 'disguis': 2605, 'wwii': 2606, 'nobl': 2607, 'thief': 2608, 'neighborhood': 2609, '18': 2610, 'em': 2611, 'wanna': 2612, 'pride': 2613, 'pound': 2614, 'endear': 2615, 'impli': 2616, 'rochest': 2617, 'prop': 2618, 'dawn': 2619, 'albeit': 2620, 'coher': 2621, 'shoulder': 2622, 'bo': 2623, 'diseas': 2624, 'tens': 2625, 'dinner': 2626, 'bett': 2627, 'shift': 2628, '16': 2629, 'distribut': 2630, 'cinematograph': 2631, 'contract': 2632, 'wash': 2633, 'forti': 2634, 'shout': 2635, 'function': 2636, 'silenc': 2637, 'snow': 2638, 'surf': 2639, 'poignant': 2640, 'matthau': 2641, 'knife': 2642, 'rebel': 2643, 'reunion': 2644, 'widmark': 2645, 'duti': 2646, 'cannib': 2647, 'derek': 2648, 'mindless': 2649, 'internet': 2650, 'horrend': 2651, 'eeri': 2652, 'height': 2653, 'elvira': 2654, 'instinct': 2655, 'chuck': 2656, 'heat': 2657, 'proof': 2658, 'henc': 2659, 'cancel': 2660, 'silver': 2661, 'neat': 2662, 'mill': 2663, 'alik': 2664, 'glori': 2665, 'etern': 2666, 'spielberg': 2667, 'absorb': 2668, 'repetit': 2669, 'pie': 2670, 'torn': 2671, 'innov': 2672, 'premier': 2673, 'musician': 2674, 'greatli': 2675, 'elvi': 2676, 'incoher': 2677, 'blank': 2678, 'racism': 2679, 'burton': 2680, 'fbi': 2681, 'bang': 2682, 'nelson': 2683, 'britain': 2684, 'infam': 2685, 'itali': 2686, 'trite': 2687, 'horrifi': 2688, 'precis': 2689, 'lovabl': 2690, 'redempt': 2691, 'crisi': 2692, 'announc': 2693, 'homag': 2694, 'diamond': 2695, 'wealthi': 2696, 'helen': 2697, 'chaplin': 2698, 'hammer': 2699, 'streisand': 2700, 'flop': 2701, 'happili': 2702, 'resolut': 2703, 'parallel': 2704, 'ensembl': 2705, 'dedic': 2706, 'wilder': 2707, 'pat': 2708, 'cube': 2709, 'st': 2710, 'factori': 2711, 'mar': 2712, 'broke': 2713, 'carter': 2714, 'triumph': 2715, 'conclud': 2716, 'disagre': 2717, 'plastic': 2718, 'oil': 2719, 'rocket': 2720, 'bush': 2721, 'weight': 2722, 'chuckl': 2723, 'own': 2724, 'march': 2725, 'fighter': 2726, 'row': 2727, 'climb': 2728, 'vega': 2729, 'mst3k': 2730, 'dane': 2731, 'unforgett': 2732, 'boot': 2733, 'thug': 2734, 'dump': 2735, 'sensibl': 2736, 'meaning': 2737, 'luca': 2738, 'spare': 2739, 'lust': 2740, 'enorm': 2741, 'wherea': 2742, 'kurt': 2743, 'rap': 2744, 'difficulti': 2745, 'caricatur': 2746, 'engin': 2747, 'stress': 2748, 'threat': 2749, 'arnold': 2750, 'karloff': 2751, 'dear': 2752, 'bobbi': 2753, 'brand': 2754, 'butt': 2755, 'adequ': 2756, 'fifti': 2757, 'arrog': 2758, 'homeless': 2759, 'journalist': 2760, 'hamlet': 2761, 'secretari': 2762, 'ego': 2763, 'elabor': 2764, 'swing': 2765, 'barri': 2766, 'polish': 2767, 'ralph': 2768, 'fest': 2769, 'flynn': 2770, 'conspiraci': 2771, 'arrang': 2772, 'float': 2773, 'unbear': 2774, 'puppet': 2775, 'resort': 2776, 'induc': 2777, 'simpson': 2778, 'grate': 2779, 'tool': 2780, 'spike': 2781, 'fanci': 2782, 'muppet': 2783, 'basement': 2784, 'cruis': 2785, 'boll': 2786, 'choreograph': 2787, 'exercis': 2788, 'tribut': 2789, 'phillip': 2790, 'guilt': 2791, 'pig': 2792, 'scarecrow': 2793, 'item': 2794, 'ward': 2795, 'ham': 2796, 'document': 2797, 'slip': 2798, 'korean': 2799, 'tower': 2800, 'layer': 2801, 'fianc': 2802, 'file': 2803, 'puzzl': 2804, 'stan': 2805, 'babe': 2806, 'toilet': 2807, '24': 2808, 'editor': 2809, 'medium': 2810, 'librari': 2811, 'persona': 2812, 'glover': 2813, 'territori': 2814, 'inexplic': 2815, 'spark': 2816, 'portion': 2817, 'transit': 2818, 'catherin': 2819, 'assur': 2820, 'slaughter': 2821, 'superfici': 2822, 'philosoph': 2823, 'minim': 2824, 'orient': 2825, 'larger': 2826, 'denzel': 2827, 'doc': 2828, 'pg': 2829, 'curti': 2830, 'jet': 2831, 'shi': 2832, 'ban': 2833, 'sneak': 2834, 'dorothi': 2835, 'boredom': 2836, 'walken': 2837, 'owe': 2838, 'wolf': 2839, 'financi': 2840, 'jeremi': 2841, 'cusack': 2842, 'metaphor': 2843, 'whale': 2844, 'ambigu': 2845, 'hudson': 2846, 'eleph': 2847, 'profound': 2848, 'multi': 2849, 'backdrop': 2850, 'gadget': 2851, 'implaus': 2852, 'hack': 2853, 'stiff': 2854, 'viru': 2855, 'union': 2856, 'ultra': 2857, 'notion': 2858, 'birthday': 2859, '2005': 2860, 'rave': 2861, 'elsewher': 2862, 'eva': 2863, 'reader': 2864, 'lloyd': 2865, 'squar': 2866, 'superhero': 2867, 'eastwood': 2868, 'pad': 2869, 'distanc': 2870, 'deriv': 2871, 'hawk': 2872, 'poison': 2873, 'slight': 2874, '1st': 2875, 'bibl': 2876, 'afford': 2877, 'canada': 2878, 'urg': 2879, 'newspap': 2880, 'disc': 2881, 'spread': 2882, 'sadist': 2883, 'charisma': 2884, 'restaur': 2885, 'drown': 2886, 'heston': 2887, 'huh': 2888, 'skit': 2889, 'montag': 2890, 'essenc': 2891, 'health': 2892, 'cure': 2893, 'button': 2894, 'estat': 2895, 'muslim': 2896, 'dealt': 2897, 'lab': 2898, 'gradual': 2899, 'maniac': 2900, 'scoobi': 2901, 'peak': 2902, 'invest': 2903, 'godfath': 2904, 'companion': 2905, 'fetch': 2906, 'gothic': 2907, 'miik': 2908, 'ritter': 2909, 'servant': 2910, 'alli': 2911, 'kane': 2912, 'subtleti': 2913, 'countless': 2914, 'tea': 2915, 'cup': 2916, 'heroic': 2917, 'elect': 2918, 'charismat': 2919, 'electr': 2920, 'salli': 2921, 'briefli': 2922, 'iii': 2923, 'wannab': 2924, 'grandmoth': 2925, 'resourc': 2926, 'tender': 2927, 'admittedli': 2928, 'cole': 2929, 'neil': 2930, 'reel': 2931, 'ingredi': 2932, 'bud': 2933, 'nuanc': 2934, 'toss': 2935, 'mild': 2936, 'reev': 2937, 'mafia': 2938, 'pauli': 2939, 'stood': 2940, 'pit': 2941, 'shall': 2942, 'punk': 2943, 'label': 2944, 'carrey': 2945, 'poverti': 2946, 'stronger': 2947, 'dawson': 2948, 'gate': 2949, 'kubrick': 2950, 'astair': 2951, 'terri': 2952, 'assault': 2953, 'bakshi': 2954, 'ian': 2955, 'smash': 2956, 'easier': 2957, 'smooth': 2958, 'cox': 2959, 'burst': 2960, 'outcom': 2961, 'fond': 2962, 'useless': 2963, 'cardboard': 2964, 'updat': 2965, 'tag': 2966, 'divers': 2967, '2002': 2968, 'fist': 2969, 'vari': 2970, 'samurai': 2971, 'rex': 2972, 'qualifi': 2973, 'increasingli': 2974, 'exchang': 2975, 'resolv': 2976, 'sketch': 2977, 'melodramat': 2978, 'coincid': 2979, 'vulner': 2980, 'conveni': 2981, 'suspend': 2982, 'tame': 2983, 'insert': 2984, 'reynold': 2985, 'templ': 2986, 'luckili': 2987, 'be': 2988, 'brillianc': 2989, 'scratch': 2990, 'blast': 2991, 'hamilton': 2992, 'walker': 2993, 'strictli': 2994, 'matthew': 2995, 'gotta': 2996, 'nuclear': 2997, 'fisher': 2998, 'seventi': 2999, 'pin': 3000, 'ambiti': 3001, 'coach': 3002, 'soprano': 3003, 'meat': 3004, 'jami': 3005, 'farm': 3006, 'clock': 3007, 'ninja': 3008, 'butcher': 3009, 'empir': 3010, 'spooki': 3011, 'monk': 3012, 'struck': 3013, 'brosnan': 3014, 'joey': 3015, 'eccentr': 3016, 'kudo': 3017, 'closet': 3018, 'timeless': 3019, 'worthless': 3020, 'grasp': 3021, 'recreat': 3022, 'cave': 3023, 'discoveri': 3024, 'revers': 3025, 'instantli': 3026, 'convolut': 3027, 'seller': 3028, 'sloppi': 3029, 'norman': 3030, 'pal': 3031, 'sidekick': 3032, 'mitchel': 3033, 'declar': 3034, 'miracl': 3035, 'cliff': 3036, 'eighti': 3037, 'evok': 3038, 'importantli': 3039, 'communist': 3040, 'selfish': 3041, 'wipe': 3042, 'inconsist': 3043, 'bleak': 3044, 'fifteen': 3045, 'partli': 3046, 'clown': 3047, 'gray': 3048, 'piano': 3049, 'stoog': 3050, 'debat': 3051, 'ho': 3052, 'flawless': 3053, '45': 3054, 'psychiatrist': 3055, 'seed': 3056, 'chew': 3057, 'cheek': 3058, 'superbl': 3059, 'websit': 3060, 'australia': 3061, 'destin': 3062, 'enthusiast': 3063, 'aforement': 3064, 'lifestyl': 3065, 'farc': 3066, 'dash': 3067, 'akshay': 3068, 'regardless': 3069, 'bash': 3070, 'anni': 3071, 'dire': 3072, 'wrestl': 3073, 'splatter': 3074, 'kitchen': 3075, 'emili': 3076, 'incompet': 3077, 'soviet': 3078, 'drivel': 3079, 'slice': 3080, 'wick': 3081, 'directori': 3082, 'abc': 3083, 'pressur': 3084, 'cagney': 3085, 'mann': 3086, 'flower': 3087, 'blob': 3088, 'lou': 3089, 'dave': 3090, 'artifici': 3091, 'cameron': 3092, 'ken': 3093, 'beaten': 3094, 'judi': 3095, 'duo': 3096, 'helicopt': 3097, 'distant': 3098, 'pleasantli': 3099, 'seduc': 3100, 'jar': 3101, 'prize': 3102, 'increas': 3103, 'glow': 3104, 'boil': 3105, 'chapter': 3106, 'doo': 3107, 'recov': 3108, 'cia': 3109, 'curios': 3110, 'suppli': 3111, 'perri': 3112, 'craven': 3113, 'ellen': 3114, 'turner': 3115, 'eleg': 3116, 'drunken': 3117, 'splendid': 3118, 'goldberg': 3119, 'favour': 3120, 'francisco': 3121, 'web': 3122, 'combat': 3123, 'ranger': 3124, 'psychot': 3125, 'laurel': 3126, 'panic': 3127, 'hop': 3128, 'craig': 3129, 'glenn': 3130, 'gandhi': 3131, 'modesti': 3132, 'rid': 3133, 'ruth': 3134, 'fx': 3135, 'wizard': 3136, 'plausibl': 3137, 'slightest': 3138, '20th': 3139, 'greek': 3140, 'hatr': 3141, 'flip': 3142, 'alexand': 3143, 'gentl': 3144, 'shortli': 3145, 'falk': 3146, 'philosophi': 3147, 'graduat': 3148, 'min': 3149, 'manhattan': 3150, 'fund': 3151, 'dracula': 3152, 'unpleas': 3153, 'jealou': 3154, 'legal': 3155, 'knight': 3156, 'harm': 3157, 'lend': 3158, 'futurist': 3159, 'preciou': 3160, 'tall': 3161, 'we': 3162, 'felix': 3163, 'ocean': 3164, 'holi': 3165, 'bless': 3166, 'ami': 3167, 'scientif': 3168, 'reviv': 3169, 'digniti': 3170, 'giallo': 3171, 'childish': 3172, 'explicit': 3173, 'thread': 3174, 'tank': 3175, 'nod': 3176, 'mock': 3177, 'overdon': 3178, 'forbidden': 3179, 'elderli': 3180, 'pirat': 3181, 'unwatch': 3182, 'torment': 3183, 'awe': 3184, 'thick': 3185, 'repeatedli': 3186, 'verhoeven': 3187, 'nerv': 3188, 'awaken': 3189, 'eve': 3190, 'mel': 3191, '2004': 3192, 'fever': 3193, 'margaret': 3194, '99': 3195, 'broad': 3196, 'yesterday': 3197, 'custom': 3198, 'roman': 3199, 'timothi': 3200, 'uniform': 3201, 'romero': 3202, 'eas': 3203, 'lean': 3204, 'automat': 3205, 'stiller': 3206, 'kay': 3207, 'rivet': 3208, 'ah': 3209, 'ambit': 3210, 'launch': 3211, 'politician': 3212, 'acclaim': 3213, 'bin': 3214, 'royal': 3215, 'absenc': 3216, 'publish': 3217, 'griffith': 3218, 'pulp': 3219, 'tomato': 3220, 'transport': 3221, 'foul': 3222, 'sunshin': 3223, 'bathroom': 3224, 'crook': 3225, 'wallac': 3226, 'pierc': 3227, 'gabriel': 3228, 'termin': 3229, 'warren': 3230, 'darker': 3231, 'antic': 3232, 'phrase': 3233, 'stinker': 3234, 'homicid': 3235, 'purpl': 3236, 'prom': 3237, 'karen': 3238, 'eyr': 3239, 'q': 3240, 'donna': 3241, 'marin': 3242, 'horrid': 3243, 'juvenil': 3244, '2003': 3245, 'choreographi': 3246, 'viciou': 3247, 'pray': 3248, 'hollow': 3249, 'li': 3250, 'packag': 3251, 'contrari': 3252, 'awak': 3253, 'sixti': 3254, 'album': 3255, 'saint': 3256, 'evolv': 3257, 'revolutionari': 3258, 'kenneth': 3259, 'ought': 3260, 'rambo': 3261, 'coloni': 3262, 'brazil': 3263, 'nerd': 3264, 'ramon': 3265, 'boast': 3266, 'defi': 3267, 'dose': 3268, 'twelv': 3269, 'stole': 3270, 'conserv': 3271, 'ireland': 3272, 'mummi': 3273, 'beatti': 3274, 'kapoor': 3275, 'candid': 3276, 'option': 3277, 'mildr': 3278, 'blade': 3279, 'overr': 3280, 'collabor': 3281, 'detract': 3282, 'astonish': 3283, 'protest': 3284, 'kirk': 3285, 'trio': 3286, 'funer': 3287, 'confirm': 3288, 'natali': 3289, 'jazz': 3290, 'global': 3291, 'fulci': 3292, 'altman': 3293, 'flame': 3294, 'spit': 3295, 'enterpris': 3296, 'destini': 3297, 'delici': 3298, 'blake': 3299, 'yellow': 3300, 'tommi': 3301, 'shade': 3302, 'whip': 3303, 'bottl': 3304, 'leap': 3305, 'bull': 3306, 'mystic': 3307, 'audio': 3308, 'racial': 3309, 'nicholson': 3310, 'popcorn': 3311, 'visibl': 3312, 'vivid': 3313, 'fonda': 3314, 'swedish': 3315, 'adolesc': 3316, 'merci': 3317, 'threw': 3318, 'harder': 3319, 'pseudo': 3320, 'meaningless': 3321, 'inherit': 3322, 'staff': 3323, 'bedroom': 3324, 'todd': 3325, 'reunit': 3326, 'altogeth': 3327, 'enchant': 3328, 'neo': 3329, 'edi': 3330, 'jew': 3331, 'crocodil': 3332, 'exhibit': 3333, 'suspici': 3334, 'kennedi': 3335, 'lawrenc': 3336, 'wire': 3337, 'atlanti': 3338, 'moodi': 3339, 'befriend': 3340, 'voight': 3341, 'reserv': 3342, 'synopsi': 3343, 'decor': 3344, 'ruthless': 3345, 'madonna': 3346, 'uneven': 3347, 'bust': 3348, 'tip': 3349, 'respond': 3350, 'fanat': 3351, 'lemmon': 3352, 'roommat': 3353, 'await': 3354, 'leonard': 3355, 'clumsi': 3356, 'chao': 3357, 'carl': 3358, 'bold': 3359, 'garner': 3360, 'voyag': 3361, 'holli': 3362, '2007': 3363, 'bargain': 3364, 'audit': 3365, 'rural': 3366, 'clint': 3367, 'bradi': 3368, 'centr': 3369, 'dimens': 3370, 'incident': 3371, 'abysm': 3372, 'unsettl': 3373, 'ventur': 3374, 'palma': 3375, 'ant': 3376, 'wealth': 3377, 'cari': 3378, 'troop': 3379, 'tiger': 3380, 'elimin': 3381, 'timon': 3382, 'cd': 3383, 'mall': 3384, 'nearbi': 3385, 'poetic': 3386, 'immigr': 3387, 'trail': 3388, 'lit': 3389, 'humili': 3390, 'echo': 3391, 'versu': 3392, 'neglect': 3393, 'hart': 3394, 'characterist': 3395, '2nd': 3396, 'cuba': 3397, 'acknowledg': 3398, 'daddi': 3399, 'imperson': 3400, 'solo': 3401, 'mistaken': 3402, 'jeffrey': 3403, 'homer': 3404, 'paus': 3405, 'domest': 3406, 'repuls': 3407, 'saga': 3408, 'infect': 3409, 'mickey': 3410, 'collaps': 3411, 'celluloid': 3412, 'prejudic': 3413, 'marshal': 3414, 'pun': 3415, 'ginger': 3416, 'leon': 3417, 'interrupt': 3418, 'pant': 3419, 'tribe': 3420, 'coat': 3421, 'milk': 3422, 'inan': 3423, 'gear': 3424, 'undoubtedli': 3425, 'sore': 3426, 'coffe': 3427, '1996': 3428, 'apolog': 3429, 'chest': 3430, 'equip': 3431, 'cake': 3432, 'olivi': 3433, 'promin': 3434, 'inappropri': 3435, 'assembl': 3436, 'hbo': 3437, 'harvey': 3438, 'polanski': 3439, 'airplan': 3440, 'institut': 3441, 'maggi': 3442, 'pot': 3443, 'vulgar': 3444, 'solut': 3445, 'jenni': 3446, 'consum': 3447, 'pen': 3448, 'exot': 3449, 'instant': 3450, 'furthermor': 3451, 'devast': 3452, 'colleagu': 3453, 'highest': 3454, 'retain': 3455, 'primari': 3456, 'colonel': 3457, 'embrac': 3458, 'brooklyn': 3459, 'trace': 3460, 'florida': 3461, 'aveng': 3462, 'humbl': 3463, 'dian': 3464, 'seduct': 3465, 'outer': 3466, 'descend': 3467, 'gender': 3468, 'ya': 3469, 'principl': 3470, 'sale': 3471, 'disabl': 3472, 'poke': 3473, 'illog': 3474, 'strain': 3475, 'godzilla': 3476, 'wive': 3477, 'cope': 3478, 'linda': 3479, 'dutch': 3480, '1999': 3481, 'smaller': 3482, 'rick': 3483, 'bowl': 3484, '3rd': 3485, 'gundam': 3486, 'mixtur': 3487, 'rabbit': 3488, 'dive': 3489, 'lol': 3490, 'bubbl': 3491, 'gloriou': 3492, 'blatant': 3493, 'predecessor': 3494, 'secondli': 3495, 'beneath': 3496, 'dud': 3497, 'glamor': 3498, 'scope': 3499, 'inferior': 3500, 'hal': 3501, 'vast': 3502, 'cue': 3503, 'primarili': 3504, 'yard': 3505, 'devoid': 3506, 'garbo': 3507, 'grinch': 3508, 'streep': 3509, 'trademark': 3510, 'myer': 3511, 'domino': 3512, 'museum': 3513, 'breed': 3514, 'alfr': 3515, 'invas': 3516, 'arab': 3517, 'simplist': 3518, 'casual': 3519, 'countrysid': 3520, 'shelf': 3521, 'pearl': 3522, 'hideou': 3523, 'et': 3524, 'talki': 3525, 'aggress': 3526, 'z': 3527, 'alert': 3528, 'senseless': 3529, 'disjoint': 3530, 'shirley': 3531, 'april': 3532, 'khan': 3533, 'defens': 3534, 'robberi': 3535, 'stir': 3536, 'oz': 3537, 'sh': 3538, 'rendit': 3539, 'illeg': 3540, 'mail': 3541, 'disgrac': 3542, 'uwe': 3543, 'stack': 3544, 'hopeless': 3545, 'unhappi': 3546, 'obtain': 3547, 'hardcor': 3548, 'robinson': 3549, 'loyal': 3550, 'vanish': 3551, 'applaud': 3552, 'maci': 3553, 'mayor': 3554, 'slide': 3555, 'boom': 3556, 'stellar': 3557, 'experiment': 3558, 'acid': 3559, 'berlin': 3560, 'topless': 3561, 'dicken': 3562, 'fri': 3563, 'craze': 3564, 'diana': 3565, 'counter': 3566, 'soccer': 3567, 'declin': 3568, 'recruit': 3569, 'spider': 3570, 'amanda': 3571, 'tempt': 3572, 'wont': 3573, 'span': 3574, 'scroog': 3575, 'emphasi': 3576, 'psychic': 3577, 'tenant': 3578, 'rifl': 3579, 'incomprehens': 3580, 'dismiss': 3581, 'hartley': 3582, 'blew': 3583, 'grandfath': 3584, 'niro': 3585, 'woo': 3586, 'revolt': 3587, 'sympath': 3588, 'lumet': 3589, 'shed': 3590, 'ration': 3591, 'justin': 3592, 'goer': 3593, 'wet': 3594, 'ethnic': 3595, 'sibl': 3596, 'intim': 3597, 'trashi': 3598, 'resurrect': 3599, 'shaw': 3600, 'faster': 3601, 'bitch': 3602, 'parad': 3603, 'riot': 3604, 'porno': 3605, 'nephew': 3606, 'hopper': 3607, 'steam': 3608, 'immort': 3609, 'weakest': 3610, 'ensur': 3611, 'commend': 3612, 'dealer': 3613, 'worm': 3614, 'ballet': 3615, '00': 3616, 'feminist': 3617, 'mario': 3618, 'gap': 3619, 'enlighten': 3620, 'partial': 3621, 'wheel': 3622, 'eager': 3623, 'hesit': 3624, 'jonathan': 3625, 'wendi': 3626, 'andr': 3627, 'patriot': 3628, 'choru': 3629, 'biographi': 3630, 'honesti': 3631, 'slick': 3632, 'lena': 3633, 'farmer': 3634, 'rider': 3635, 'region': 3636, 'unreal': 3637, 'macarthur': 3638, 'kingdom': 3639, 'snap': 3640, 'mutant': 3641, 'properti': 3642, 'composit': 3643, 'victori': 3644, 'vice': 3645, 'sappi': 3646, 'wore': 3647, 'hung': 3648, 'franco': 3649, 'psychopath': 3650, 'owen': 3651, 'skull': 3652, 'prequel': 3653, 'confin': 3654, 'blunt': 3655, 'charlott': 3656, 'safeti': 3657, 'util': 3658, 'sandra': 3659, 'leo': 3660, 'similarli': 3661, 'nostalg': 3662, 'morri': 3663, 'repress': 3664, 'rambl': 3665, 'exit': 3666, 'drum': 3667, 'tail': 3668, 'hyde': 3669, 'recycl': 3670, 'thru': 3671, 'compens': 3672, 'deed': 3673, 'pattern': 3674, 'rocki': 3675, 'montana': 3676, 'del': 3677, 'emperor': 3678, 'drain': 3679, 'latin': 3680, 'campbel': 3681, 'bergman': 3682, 'strand': 3683, 'dust': 3684, 'bumbl': 3685, 'cg': 3686, 'repli': 3687, 'acquir': 3688, 'bonu': 3689, 'speci': 3690, 'whoopi': 3691, '1972': 3692, 'miseri': 3693, 'despair': 3694, 'bow': 3695, 'farrel': 3696, 'rope': 3697, 'valuabl': 3698, 'dalton': 3699, 'nervou': 3700, 'compass': 3701, 'heartbreak': 3702, 'kyle': 3703, 'tad': 3704, 'snl': 3705, 'airport': 3706, '35': 3707, 'rapist': 3708, 'roth': 3709, 'orson': 3710, 'oppress': 3711, 'olli': 3712, 'wacki': 3713, 'gimmick': 3714, 'mistress': 3715, 'tonight': 3716, 'romp': 3717, 'rotten': 3718, 'slug': 3719, 'radic': 3720, 'carradin': 3721, 'gal': 3722, 'percept': 3723, 'pour': 3724, 'contempl': 3725, 'bleed': 3726, 'chess': 3727, 'downhil': 3728, 'da': 3729, 'martian': 3730, 'edgar': 3731, 'slash': 3732, 'tackl': 3733, 'paltrow': 3734, 'attorney': 3735, 'dazzl': 3736, 'shelley': 3737, '1983': 3738, 'unpredict': 3739, 'tooth': 3740, 'mislead': 3741, 'pervers': 3742, 'stilt': 3743, 'heal': 3744, 'taught': 3745, 'banal': 3746, 'pervert': 3747, 'champion': 3748, 'belt': 3749, 'arc': 3750, 'preach': 3751, 'pursuit': 3752, 'programm': 3753, 'melodi': 3754, 'arguabl': 3755, 'dixon': 3756, 'rubi': 3757, 'raymond': 3758, 'poem': 3759, 'marti': 3760, 'sensat': 3761, 'graham': 3762, 'duval': 3763, 'virginia': 3764, 'tiresom': 3765, 'bela': 3766, 'conneri': 3767, 'plight': 3768, 'vocal': 3769, 'mesmer': 3770, 'passeng': 3771, 'chicken': 3772, 'maid': 3773, 'vengeanc': 3774, 'employe': 3775, 'cleverli': 3776, 'closest': 3777, 'franki': 3778, 'uplift': 3779, 'gambl': 3780, 'orang': 3781, 'lundgren': 3782, 'clone': 3783, 'pokemon': 3784, 'swallow': 3785, 'abraham': 3786, 'calm': 3787, 'scottish': 3788, 'inject': 3789, 'habit': 3790, 'engross': 3791, 'bay': 3792, 'iran': 3793, 'secretli': 3794, 'gerard': 3795, 'climact': 3796, 'profan': 3797, 'extens': 3798, 'convincingli': 3799, 'sirk': 3800, 'crystal': 3801, 'paranoia': 3802, 'monologu': 3803, 'volum': 3804, 'suffic': 3805, 'mute': 3806, 'yawn': 3807, '1968': 3808, 'giggl': 3809, 'numb': 3810, 'whine': 3811, 'amitabh': 3812, 'quarter': 3813, 'outing': 3814, 'tube': 3815, 'frankenstein': 3816, 'spock': 3817, 'lowest': 3818, 'nichola': 3819, 'bend': 3820, 'austen': 3821, 'junior': 3822, 'grotesqu': 3823, 'septemb': 3824, 'dispos': 3825, 'profess': 3826, 'abort': 3827, 'plod': 3828, 'ethan': 3829, 'trend': 3830, 'expand': 3831, 'linger': 3832, 'im': 3833, 'surpass': 3834, 'poetri': 3835, 'taxi': 3836, 'fed': 3837, 'chicago': 3838, 'franci': 3839, 'earl': 3840, 'richardson': 3841, 'underst': 3842, 'meander': 3843, 'backward': 3844, 'hum': 3845, 'tourist': 3846, 'catchi': 3847, 'mundan': 3848, 'instrument': 3849, 'rant': 3850, 'cannon': 3851, 'literatur': 3852, 'econom': 3853, 'household': 3854, 'sue': 3855, 'compliment': 3856, 'myth': 3857, 'dysfunct': 3858, 'spoke': 3859, 'rubber': 3860, 'eugen': 3861, 'descent': 3862, 'simplic': 3863, 'muddl': 3864, 'lure': 3865, 'waitress': 3866, 'stallon': 3867, 'nostalgia': 3868, 'der': 3869, 'greedi': 3870, 'dictat': 3871, 'randi': 3872, 'furi': 3873, 'carel': 3874, 'molli': 3875, 'june': 3876, 'phoni': 3877, 'alongsid': 3878, 'recognit': 3879, 'irrelev': 3880, 'crucial': 3881, 'duck': 3882, 'dement': 3883, 'coast': 3884, 'damon': 3885, 'louis': 3886, 'bacal': 3887, 'mankind': 3888, 'deaf': 3889, 'hello': 3890, 'insur': 3891, 'omen': 3892, 'mortal': 3893, 'equival': 3894, 'map': 3895, 'occupi': 3896, 'stale': 3897, 'recognis': 3898, 'eaten': 3899, 'firstli': 3900, 'flee': 3901, 'lang': 3902, 'sissi': 3903, 'phantom': 3904, 'cent': 3905, 'blackmail': 3906, 'buffalo': 3907, 'twilight': 3908, '1973': 3909, 'newli': 3910, 'antwon': 3911, 'ashley': 3912, 'freez': 3913, 'grayson': 3914, 'onlin': 3915, 'loyalti': 3916, 'drake': 3917, 'reign': 3918, 'likewis': 3919, 'wisdom': 3920, 'distinguish': 3921, 'rooney': 3922, 'lengthi': 3923, 'heel': 3924, 'damm': 3925, 'bike': 3926, 'cyborg': 3927, 'daisi': 3928, 'labor': 3929, 'bump': 3930, 'dreari': 3931, 'biko': 3932, 'rude': 3933, 'basketbal': 3934, 'prey': 3935, 'sailor': 3936, 'nineti': 3937, 'unorigin': 3938, 'incorpor': 3939, 'boxer': 3940, 'vein': 3941, 'provoc': 3942, 'interior': 3943, 'barrymor': 3944, 'startl': 3945, 'keith': 3946, 'emphas': 3947, 'approv': 3948, 'pink': 3949, 'exposur': 3950, 'worn': 3951, 'ridden': 3952, 'baddi': 3953, 'tunnel': 3954, 'inher': 3955, 'analysi': 3956, 'attribut': 3957, 'butler': 3958, 'chronicl': 3959, 'proce': 3960, 'millionair': 3961, 'fleet': 3962, 'carla': 3963, 'simmon': 3964, 'belushi': 3965, 'nicol': 3966, 'drift': 3967, 'degrad': 3968, 'othello': 3969, 'bunni': 3970, 'indiffer': 3971, 'meyer': 3972, 'elm': 3973, 'mormon': 3974, 'substitut': 3975, 'meg': 3976, 'mighti': 3977, 'stalker': 3978, 'predat': 3979, 'improvis': 3980, 'walsh': 3981, 'hypnot': 3982, 'barrel': 3983, 'underli': 3984, 'robbin': 3985, 'julian': 3986, 'condemn': 3987, 'unrel': 3988, 'er': 3989, 'undeni': 3990, 'alison': 3991, 'firm': 3992, 'warmth': 3993, 'hay': 3994, 'marion': 3995, 'unawar': 3996, 'lampoon': 3997, '3d': 3998, 'vital': 3999, 'palac': 4000, 'dolph': 4001, 'agenda': 4002, 'errol': 4003, 'nyc': 4004, 'reid': 4005, 'novak': 4006, 'rukh': 4007, 'priceless': 4008, 'shove': 4009, 'alarm': 4010, 'edgi': 4011, 'roof': 4012, 'enthusiasm': 4013, 'disord': 4014, 'watson': 4015, 'greed': 4016, 'exquisit': 4017, 'mtv': 4018, 'peck': 4019, 'sergeant': 4020, 'distort': 4021, 'gestur': 4022, '1933': 4023, 'beatl': 4024, 'zizek': 4025, 'what': 4026, 'crown': 4027, 'session': 4028, 'showdown': 4029, 'angela': 4030, 'peril': 4031, 'pamela': 4032, 'petti': 4033, 'testament': 4034, 'israel': 4035, 'ponder': 4036, 'eastern': 4037, 'campaign': 4038, 'championship': 4039, 'orlean': 4040, 'valentin': 4041, 'unleash': 4042, 'cassidi': 4043, '13th': 4044, 'spain': 4045, 'nun': 4046, 'glanc': 4047, 'drip': 4048, 'thompson': 4049, 'preserv': 4050, 'simultan': 4051, 'coup': 4052, 'minimum': 4053, 'randomli': 4054, 'profit': 4055, 'iraq': 4056, 'miyazaki': 4057, 'din': 4058, 'sabrina': 4059, 'fido': 4060, 'quinn': 4061, 'empathi': 4062, 'reson': 4063, 'buster': 4064, 'crawl': 4065, 'shootout': 4066, 'wig': 4067, 'stake': 4068, 'kurosawa': 4069, 'valley': 4070, 'realm': 4071, 'mon': 4072, 'crow': 4073, 'gentleman': 4074, 'bro': 4075, 'contradict': 4076, 'perpetu': 4077, 'rout': 4078, 'travesti': 4079, 'regist': 4080, 'scotland': 4081, '1984': 4082, 'exposit': 4083, 'stroke': 4084, 'represent': 4085, 'restrain': 4086, 'han': 4087, 'calib': 4088, 'cooki': 4089, 'cream': 4090, 'unimagin': 4091, 'brenda': 4092, 'jan': 4093, 'climat': 4094, 'sammi': 4095, 'soderbergh': 4096, 'derang': 4097, 'ustinov': 4098, 'unseen': 4099, 'pole': 4100, 'spacey': 4101, 'meryl': 4102, 'baldwin': 4103, 'censor': 4104, 'sucker': 4105, 'stargat': 4106, 'dana': 4107, 'geek': 4108, 'compromis': 4109, 'mclaglen': 4110, 'crawford': 4111, 'passabl': 4112, 'josh': 4113, 'delic': 4114, '1997': 4115, 'greg': 4116, 'darren': 4117, 'shaki': 4118, 'unsatisfi': 4119, 'painter': 4120, 'absent': 4121, 'tacki': 4122, 'distress': 4123, 'monoton': 4124, 'demis': 4125, 'abomin': 4126, '1987': 4127, 'warrant': 4128, 'cloud': 4129, 'wax': 4130, 'fuller': 4131, 'perceiv': 4132, 'ross': 4133, 'femm': 4134, 'traumat': 4135, 'pretens': 4136, 'shoddi': 4137, 'businessman': 4138, 'kumar': 4139, 'nathan': 4140, 'anchor': 4141, 'polici': 4142, 'seal': 4143, 'exclus': 4144, 'fenc': 4145, 'expedit': 4146, 'unravel': 4147, 'valid': 4148, 'norm': 4149, 'deniro': 4150, 'wholli': 4151, 'accuraci': 4152, 'austin': 4153, 'jewel': 4154, '1993': 4155, 'antonioni': 4156, 'uncov': 4157, 'judgment': 4158, 'sid': 4159, 'clash': 4160, 'tech': 4161, 'click': 4162, 'tarantino': 4163, 'dee': 4164, 'fog': 4165, 'verbal': 4166, 'correctli': 4167, 'primit': 4168, 'furiou': 4169, 'deceas': 4170, 'reluct': 4171, 'tax': 4172, 'shanghai': 4173, 'sand': 4174, '1971': 4175, 'wang': 4176, 'fabric': 4177, 'fart': 4178, 'roller': 4179, 'murray': 4180, 'behold': 4181, 'sunni': 4182, 'mode': 4183, 'clerk': 4184, 'bake': 4185, 'hallucin': 4186, 'temper': 4187, 'debt': 4188, '1995': 4189, 'seldom': 4190, 'malon': 4191, 'unfair': 4192, '2008': 4193, 'sheet': 4194, 'ritual': 4195, 'enforc': 4196, 'nicola': 4197, '3000': 4198, 'fought': 4199, 'sustain': 4200, 'dreck': 4201, 'wretch': 4202, 'logan': 4203, 'pocket': 4204, 'conduct': 4205, 'alec': 4206, 'crippl': 4207, 'vanc': 4208, 'slam': 4209, 'joel': 4210, 'patienc': 4211, 'darn': 4212, 'trait': 4213, 'rita': 4214, 'helpless': 4215, 'bridget': 4216, 'outlin': 4217, 'squad': 4218, 'preston': 4219, 'isabel': 4220, 'scriptwrit': 4221, 'legaci': 4222, 'soup': 4223, 'preposter': 4224, 'guitar': 4225, 'canyon': 4226, 'phil': 4227, 'robber': 4228, 'penni': 4229, 'shell': 4230, 'grief': 4231, 'conscious': 4232, 'schedul': 4233, 'pete': 4234, 'critiqu': 4235, 'exhaust': 4236, 'stark': 4237, 'sweep': 4238, 'fundament': 4239, 'runner': 4240, 'tactic': 4241, 'stuart': 4242, 'despis': 4243, 'divid': 4244, 'bias': 4245, 'technicolor': 4246, 'clau': 4247, 'gregori': 4248, 'invad': 4249, 'jacket': 4250, 'cigarett': 4251, 'delv': 4252, 'rehash': 4253, 'rear': 4254, 'liberti': 4255, 'vomit': 4256, 'agenc': 4257, 'kansa': 4258, 'boyl': 4259, 'propos': 4260, 'alicia': 4261, 'jodi': 4262, 'implic': 4263, 'connor': 4264, 'consciou': 4265, 'unexpectedli': 4266, 'palanc': 4267, 'newman': 4268, 'marc': 4269, 'bloom': 4270, 'culmin': 4271, 'sugar': 4272, 'sniper': 4273, 'lacklust': 4274, 'sentinel': 4275, 'passag': 4276, 'alley': 4277, 'russia': 4278, 'downey': 4279, 'flair': 4280, 'drove': 4281, 'restrict': 4282, 'inabl': 4283, 'bacon': 4284, 'sharon': 4285, 'lush': 4286, 'wrench': 4287, '1936': 4288, 'karl': 4289, 'arrow': 4290, 'rehears': 4291, 'ladder': 4292, 'horn': 4293, 'feat': 4294, 'tendenc': 4295, 'aesthet': 4296, 'chainsaw': 4297, 'mccoy': 4298, 'cap': 4299, 'yeti': 4300, 'asylum': 4301, 'behaviour': 4302, 'awhil': 4303, 'rampag': 4304, 'improb': 4305, 'pale': 4306, 'delet': 4307, 'vet': 4308, 'kolchak': 4309, 'foxx': 4310, 'rod': 4311, '22': 4312, 'tripe': 4313, 'hungri': 4314, 'coaster': 4315, 'financ': 4316, 'wagner': 4317, 'newcom': 4318, 'underneath': 4319, 'rhythm': 4320, 'amazon': 4321, 'visitor': 4322, 'hackney': 4323, 'stream': 4324, 'thunderbird': 4325, 'globe': 4326, 'hulk': 4327, 'paramount': 4328, 'tomorrow': 4329, 'suffici': 4330, '1988': 4331, '19th': 4332, 'loneli': 4333, 'sung': 4334, 'tasteless': 4335, 'elit': 4336, 'fright': 4337, 'wildli': 4338, 'el': 4339, 'aristocrat': 4340, 'conscienc': 4341, 'prank': 4342, 'spice': 4343, 'basing': 4344, 'paradis': 4345, 'scoop': 4346, 'suspicion': 4347, 'lurk': 4348, 'weav': 4349, '1978': 4350, 'shortcom': 4351, 'minu': 4352, 'filler': 4353, '1920': 4354, 'rumor': 4355, 'chavez': 4356, 'tierney': 4357, 'paxton': 4358, '1939': 4359, 'iv': 4360, 'lectur': 4361, 'grudg': 4362, 'recogniz': 4363, 'choppi': 4364, 'leigh': 4365, 'heist': 4366, 'atroc': 4367, 'couch': 4368, 'bread': 4369, 'curli': 4370, 'straightforward': 4371, 'literari': 4372, 'penn': 4373, 'dirt': 4374, 'chamberlain': 4375, 'secondari': 4376, 'abrupt': 4377, 'smell': 4378, 'brit': 4379, 'hopkin': 4380, 'standout': 4381, 'ingeni': 4382, 'springer': 4383, 'wwe': 4384, 'worship': 4385, 'cancer': 4386, 'entranc': 4387, 'en': 4388, 'naughti': 4389, 'rub': 4390, 'beverli': 4391, 'teas': 4392, 'counterpart': 4393, '75': 4394, 'quietli': 4395, 'inmat': 4396, '1989': 4397, 'immers': 4398, 'minist': 4399, 'ram': 4400, 'posey': 4401, 'impos': 4402, 'sassi': 4403, 'missil': 4404, '1986': 4405, 'duel': 4406, 'enthral': 4407, 'transcend': 4408, 'nemesi': 4409, 'geni': 4410, 'bernard': 4411, 'sublim': 4412, 'morbid': 4413, 'lindsay': 4414, 'watcher': 4415, 'misguid': 4416, 'net': 4417, 'injuri': 4418, 'convert': 4419, 'clan': 4420, 'skeptic': 4421, 'quaid': 4422, 'ratso': 4423, 'entitl': 4424, 'policeman': 4425, 'moreov': 4426, 'esther': 4427, 'cattl': 4428, 'ace': 4429, 'variat': 4430, 'laurenc': 4431, 'yearn': 4432, 'heartfelt': 4433, 'attenborough': 4434, 'nolan': 4435, 'vader': 4436, 'spiral': 4437, 'uncut': 4438, 'kidman': 4439, 'dont': 4440, 'mytholog': 4441, 'obstacl': 4442, 'artsi': 4443, 'out': 4444, 'brood': 4445, 'reliabl': 4446, 'tyler': 4447, 'graini': 4448, 'bean': 4449, 'moder': 4450, 'grin': 4451, 'kitti': 4452, 'carlito': 4453, 'diari': 4454, 'cruelti': 4455, 'rosemari': 4456, 'puppi': 4457, 'enabl': 4458, 'characteris': 4459, 'youngest': 4460, 'facil': 4461, 'buzz': 4462, 'unexplain': 4463, 'poe': 4464, 'setup': 4465, 'hk': 4466, 'hopelessli': 4467, 'egg': 4468, 'steadi': 4469, 'bye': 4470, '1979': 4471, 'gillian': 4472, 'preming': 4473, 'martha': 4474, 'fuel': 4475, 'gina': 4476, 'bewar': 4477, 'brendan': 4478, 'hain': 4479, 'niec': 4480, 'baffl': 4481, 'weather': 4482, 'narrow': 4483, 'sweat': 4484, 'clueless': 4485, 'bronson': 4486, 'despic': 4487, 'oblig': 4488, 'exterior': 4489, 'bounc': 4490, 'underworld': 4491, '1969': 4492, 'disastr': 4493, 'christin': 4494, 'acquaint': 4495, 'heap': 4496, 'patricia': 4497, 'athlet': 4498, 'decept': 4499, 'hammi': 4500, 'effici': 4501, 'spontan': 4502, 'kline': 4503, 'mayhem': 4504, 'dandi': 4505, 'lester': 4506, 'housewif': 4507, 'hepburn': 4508, '19': 4509, 'headach': 4510, 'fontain': 4511, 'loath': 4512, 'loi': 4513, 'viewpoint': 4514, 'renaiss': 4515, 'trigger': 4516, 'insipid': 4517, 'angst': 4518, 'dilemma': 4519, 'goof': 4520, 'taboo': 4521, 'shatter': 4522, 'enlist': 4523, 'biker': 4524, 'circu': 4525, 'harmless': 4526, 'scar': 4527, 'suprem': 4528, 'sleepwalk': 4529, 'rome': 4530, 'tick': 4531, 'virtu': 4532, 'preachi': 4533, '73': 4534, 'candl': 4535, 'outlaw': 4536, 'analyz': 4537, 'uh': 4538, 'injur': 4539, 'sooner': 4540, 'astound': 4541, 'mermaid': 4542, 'sox': 4543, 'hooker': 4544, 'gere': 4545, 'immatur': 4546, 'zoom': 4547, 'whore': 4548, 'dish': 4549, 'fluff': 4550, 'dismal': 4551, 'steer': 4552, 'glorifi': 4553, 'slimi': 4554, 'hokey': 4555, 'macho': 4556, 'scorses': 4557, 'cassavet': 4558, 'bent': 4559, 'salt': 4560, 'hostag': 4561, 'surgeri': 4562, 'boston': 4563, 'camcord': 4564, 'ebert': 4565, 'intric': 4566, 'tripl': 4567, 'corbett': 4568, 'stimul': 4569, 'stair': 4570, 'foolish': 4571, 'spade': 4572, 'overlong': 4573, 'redund': 4574, 'filth': 4575, 'claustrophob': 4576, 'phenomenon': 4577, 'guin': 4578, 'contempt': 4579, 'amor': 4580, 'oldest': 4581, 'ariel': 4582, 'idol': 4583, 'beard': 4584, 'corman': 4585, 'naschi': 4586, 'gabl': 4587, 'spree': 4588, 'cow': 4589, 'remad': 4590, 'rhyme': 4591, 'obligatori': 4592, 'proport': 4593, '1981': 4594, 'shred': 4595, 'down': 4596, 'flag': 4597, 'radiat': 4598, 'fascist': 4599, 'joker': 4600, 'mount': 4601, 'nolt': 4602, 'widescreen': 4603, 'transplant': 4604, 'schlock': 4605, 'astronaut': 4606, 'trivia': 4607, 'frantic': 4608, 'alvin': 4609, 'keen': 4610, 'muscl': 4611, 'mutual': 4612, 'perman': 4613, 'shield': 4614, 'gasp': 4615, 'antagonist': 4616, 'spinal': 4617, 'faint': 4618, 'flashi': 4619, '1976': 4620, 'margin': 4621, 'harold': 4622, 'dwarf': 4623, 'preced': 4624, 'strongest': 4625, 'cush': 4626, 'messi': 4627, 'cohen': 4628, 'flirt': 4629, 'assert': 4630, 'zane': 4631, 'conquer': 4632, 'hara': 4633, 'www': 4634, 'sensual': 4635, 'divin': 4636, 'scandal': 4637, 'brush': 4638, 'mol': 4639, 'strive': 4640, 'triangl': 4641, 'fishburn': 4642, 'interestingli': 4643, 'aborigin': 4644, 'inflict': 4645, 'archiv': 4646, '95': 4647, 'bachelor': 4648, 'vaniti': 4649, 'danish': 4650, 'departur': 4651, 'resum': 4652, 'persuad': 4653, 'deer': 4654, 'claud': 4655, 'wield': 4656, '28': 4657, 'repris': 4658, 'bitten': 4659, 'raj': 4660, '1945': 4661, 'mobil': 4662, 'discern': 4663, 'off': 4664, 'ritchi': 4665, 'info': 4666, 'carey': 4667, 'someday': 4668, 'instruct': 4669, 'barn': 4670, 'flock': 4671, 'neurot': 4672, 'boob': 4673, 'parson': 4674, 'fragil': 4675, 'frontier': 4676, 'traffic': 4677, 'anton': 4678, 'jade': 4679, 'mobster': 4680, 'europa': 4681, 'bate': 4682, 'colin': 4683, 'pacif': 4684, 'carlo': 4685, 'cher': 4686, 'biblic': 4687, 'rot': 4688, 'recit': 4689, 'hapless': 4690, 'timberlak': 4691, 'dylan': 4692, 'pixar': 4693, 'loretta': 4694, 'pickford': 4695, 'dim': 4696, 'kathryn': 4697, 'vibrant': 4698, 'hilar': 4699, 'submit': 4700, 'melissa': 4701, 'earnest': 4702, 'prophet': 4703, 'ish': 4704, 'undermin': 4705, 'cycl': 4706, 'wendigo': 4707, 'helm': 4708, 'banter': 4709, 'miracul': 4710, 'casino': 4711, 'neill': 4712, 'cb': 4713, 'cliffhang': 4714, 'luka': 4715, 'proclaim': 4716, 'senior': 4717, 'artwork': 4718, 'hug': 4719, 'heartwarm': 4720, 'axe': 4721, 'dame': 4722, 'clad': 4723, 'harrison': 4724, 'vanessa': 4725, 'electron': 4726, 'misfortun': 4727, 'mathieu': 4728, 'http': 4729, 'cerebr': 4730, 'orphan': 4731, 'alexandr': 4732, 'jo': 4733, 'venom': 4734, 'lui': 4735, 'jordan': 4736, 'marlon': 4737, 'foil': 4738, 'choke': 4739, 'antholog': 4740, 'holocaust': 4741, 'akin': 4742, 'uma': 4743, 'pc': 4744, 'estrang': 4745, 'sicken': 4746, 'static': 4747, 'wardrob': 4748, 'razor': 4749, 'isra': 4750, 'redneck': 4751, 'nope': 4752, 'vile': 4753, 'milo': 4754, 'illus': 4755, 'northern': 4756, 'feast': 4757, 'aris': 4758, 'blatantli': 4759, 'trier': 4760, 'rooki': 4761, 'flavor': 4762, 'eli': 4763, 'winchest': 4764, 'lucil': 4765, 'token': 4766, 'seedi': 4767, 'bikini': 4768, 'bondag': 4769, 'breakfast': 4770, 'mason': 4771, 'shepherd': 4772, 'toronto': 4773, 'articl': 4774, 'legitim': 4775, 'gunga': 4776, 'clinic': 4777, 'boyer': 4778, 'highway': 4779, 'tack': 4780, 'magician': 4781, 'psych': 4782, 'smack': 4783, 'audrey': 4784, 'swept': 4785, 'wrestler': 4786, 'disregard': 4787, 'gilbert': 4788, 'knightley': 4789, 'abund': 4790, 'deem': 4791, 'cartoonish': 4792, 'fifth': 4793, 'feminin': 4794, 'ceremoni': 4795, 'huston': 4796, 'affleck': 4797, 'howl': 4798, 'charlton': 4799, 'dudley': 4800, 'ideolog': 4801, 'oppon': 4802, 'nightclub': 4803, 'frog': 4804, 'outdat': 4805, 'linear': 4806, 'leather': 4807, 'comprehend': 4808, 'retriev': 4809, 'styliz': 4810, 'turd': 4811, 'shorter': 4812, 'peer': 4813, 'glare': 4814, 'tara': 4815, 'braveheart': 4816, 'bogu': 4817, 'mitch': 4818, 'salman': 4819, 'uniformli': 4820, 'potter': 4821, 'energet': 4822, 'chip': 4823, 'collector': 4824, 'deliver': 4825, 'lighter': 4826, 'lavish': 4827, 'bastard': 4828, 'summar': 4829, 'evolut': 4830, 'moe': 4831, 'breakdown': 4832, 'conrad': 4833, 'goldsworthi': 4834, '4th': 4835, 'senat': 4836, 'whack': 4837, 'corn': 4838, 'compris': 4839, 'spawn': 4840, 'einstein': 4841, 'lifeless': 4842, 'monument': 4843, 'greet': 4844, '1994': 4845, 'boo': 4846, 'plate': 4847, 'snatch': 4848, 'sleaz': 4849, 'toe': 4850, 'cemeteri': 4851, 'cuban': 4852, 'newer': 4853, 'durat': 4854, 'phenomen': 4855, 'spine': 4856, 'client': 4857, 'btw': 4858, '1991': 4859, 'gilliam': 4860, 'lex': 4861, 'capot': 4862, 'undead': 4863, 'mcqueen': 4864, 'ol': 4865, 'cecil': 4866, 'randolph': 4867, 'clara': 4868, 'luxuri': 4869, 'jam': 4870, 'appl': 4871, 'bori': 4872, 'jedi': 4873, 'pronounc': 4874, 'occup': 4875, 'belli': 4876, 'spectacl': 4877, 'liu': 4878, 'ie': 4879, 'jule': 4880, 'kent': 4881, 'signal': 4882, 'eleven': 4883, 'fluid': 4884, 'armstrong': 4885, 'judd': 4886, 'undertak': 4887, 'firmli': 4888, 'bulk': 4889, 'healthi': 4890, 'kazan': 4891, 'nina': 4892, 'outright': 4893, 'evelyn': 4894, 'replay': 4895, 'wtf': 4896, 'inaccuraci': 4897, 'constitut': 4898, 'trauma': 4899, 'sorrow': 4900, '1977': 4901, 'historian': 4902, '1974': 4903, 'alleg': 4904, 'jare': 4905, 'creek': 4906, 'neatli': 4907, 'embark': 4908, 'cape': 4909, 'tokyo': 4910, 'sidewalk': 4911, 'carmen': 4912, 'basket': 4913, 'truman': 4914, 'spray': 4915, 'walt': 4916, 'rosario': 4917, 'vignett': 4918, 'aussi': 4919, 'miniseri': 4920, 'antonio': 4921, 'miami': 4922, 'knee': 4923, 'vain': 4924, 'palm': 4925, 'comprehens': 4926, 'id': 4927, 'porter': 4928, 'sacrif': 4929, 'conan': 4930, 'genet': 4931, 'unsuspect': 4932, 'pepper': 4933, 'ash': 4934, 'bsg': 4935, 'kiddi': 4936, 'inclus': 4937, 'bait': 4938, 'congratul': 4939, 'curtain': 4940, 'paula': 4941, 'roar': 4942, 'comb': 4943, 'relentless': 4944, '1985': 4945, 'lauren': 4946, 'blur': 4947, 'decapit': 4948, 'inaccur': 4949, 'fruit': 4950, 'mum': 4951, 'goldblum': 4952, 'propheci': 4953, 'meal': 4954, 'subtli': 4955, 'groan': 4956, 'abound': 4957, 'lanc': 4958, 'pioneer': 4959, 'galaxi': 4960, 'poker': 4961, 'unattract': 4962, 'forgiven': 4963, 'jill': 4964, 'turtl': 4965, 'rapidli': 4966, 'sophi': 4967, 'scarfac': 4968, 'sparkl': 4969, 'cypher': 4970, 'incorrect': 4971, '21st': 4972, 'hackman': 4973, 'motorcycl': 4974, 'weari': 4975, 'growth': 4976, 'mice': 4977, 'macabr': 4978, 'profil': 4979, 'reincarn': 4980, 'drone': 4981, 'ingrid': 4982, 'bach': 4983, 'vastli': 4984, 'modest': 4985, 'substanti': 4986, 'victorian': 4987, 'weaker': 4988, 'frontal': 4989, 'spill': 4990, 'casper': 4991, 'ghetto': 4992, 'assort': 4993, 'hostil': 4994, 'verg': 4995, 'scariest': 4996, 'omin': 4997, 'optimist': 4998, 'epitom': 4999}\n"
     ]
    }
   ],
   "source": [
    "word_dict = build_dict(train_X)\n",
    "print(word_dict)"
   ]
  },
  {
   "cell_type": "markdown",
   "metadata": {},
   "source": [
    "**Question:** What are the five most frequently appearing (tokenized) words in the training set? Does it makes sense that these words appear frequently in the training set?"
   ]
  },
  {
   "cell_type": "markdown",
   "metadata": {},
   "source": [
    "**Answer:**"
   ]
  },
  {
   "cell_type": "markdown",
   "metadata": {},
   "source": [
    "# TODO: Use this space to determine the five most frequently appearing words in the training set.\n",
    "\n",
    "The 5 most frequent words are 'movi': 2, 'film': 3, 'one': 4, 'like': 5, 'time': 6\n",
    "                    \n",
    "This makes sense as these are very common words found in a movie review."
   ]
  },
  {
   "cell_type": "markdown",
   "metadata": {},
   "source": [
    "### Save `word_dict`\n",
    "\n",
    "Later on when we construct an endpoint which processes a submitted review we will need to make use of the `word_dict` which we have created. As such, we will save it to a file now for future use."
   ]
  },
  {
   "cell_type": "code",
   "execution_count": 82,
   "metadata": {},
   "outputs": [],
   "source": [
    "data_dir = '../data/pytorch' # The folder we will use for storing data\n",
    "if not os.path.exists(data_dir): # Make sure that the folder exists\n",
    "    os.makedirs(data_dir)"
   ]
  },
  {
   "cell_type": "code",
   "execution_count": 83,
   "metadata": {},
   "outputs": [],
   "source": [
    "with open(os.path.join(data_dir, 'word_dict.pkl'), \"wb\") as f:\n",
    "    pickle.dump(word_dict, f)"
   ]
  },
  {
   "cell_type": "markdown",
   "metadata": {},
   "source": [
    "### Transform the reviews\n",
    "\n",
    "Now that we have our word dictionary which allows us to transform the words appearing in the reviews into integers, it is time to make use of it and convert our reviews to their integer sequence representation, making sure to pad or truncate to a fixed length, which in our case is `500`."
   ]
  },
  {
   "cell_type": "code",
   "execution_count": 84,
   "metadata": {},
   "outputs": [],
   "source": [
    "def convert_and_pad(word_dict, sentence, pad=500):\n",
    "    NOWORD = 0 # We will use 0 to represent the 'no word' category\n",
    "    INFREQ = 1 # and we use 1 to represent the infrequent words, i.e., words not appearing in word_dict\n",
    "    \n",
    "    working_sentence = [NOWORD] * pad\n",
    "    \n",
    "    for word_index, word in enumerate(sentence[:pad]):\n",
    "        if word in word_dict:\n",
    "            working_sentence[word_index] = word_dict[word]\n",
    "        else:\n",
    "            working_sentence[word_index] = INFREQ\n",
    "            \n",
    "    return working_sentence, min(len(sentence), pad)\n",
    "\n",
    "def convert_and_pad_data(word_dict, data, pad=500):\n",
    "    result = []\n",
    "    lengths = []\n",
    "    \n",
    "    for sentence in data:\n",
    "        converted, leng = convert_and_pad(word_dict, sentence, pad)\n",
    "        result.append(converted)\n",
    "        lengths.append(leng)\n",
    "        \n",
    "    return np.array(result), np.array(lengths)"
   ]
  },
  {
   "cell_type": "code",
   "execution_count": 85,
   "metadata": {},
   "outputs": [
    {
     "name": "stdout",
     "output_type": "stream",
     "text": [
      "['read', 'comment', 'site', 'feel', 'compel', 'write', 'first', 'time', 'seem', 'movi', 'like', 'marmit', 'split', 'audienc', 'say', 'agre', 'film', 'make', 'sens', 'enjoy', 'see', 'mulholland', 'drive', 'still', 'engag', 'charact', 'total', 'absorb', 'murder', 'lesbian', 'affair', 'lynch', 'opu', 'say', 'give', 'turd', 'mr', 'green', 'cardboard', 'gangster', 'inhabit', 'dayglo', 'world', 'also', 'mani', 'peopl', 'seem', 'tri', 'say', 'enjoy', 'get', 'would', 'disagre', 'enjoy', 'bore', 'want', 'film', 'end', 'constantli', 'listen', 'quot', 'help', 'call', 'clever', 'think', 'repetiti', 'howev', 'main', 'reason', 'write', 'ask', 'review', 'question', 'end', 'credit', 'print', 'film', 'saw', 'music', 'black', 'watch', 'dud', 'print', 'evid', 'gr', 'pretenti', 'everyon', 'involv', 'movi', 'watch', 'rough', 'cut', 'name', 'remov']\n"
     ]
    }
   ],
   "source": [
    "print(train_X[100])\n",
    "print()\n",
    "\n",
    "train_X, train_X_len = convert_and_pad_data(word_dict, train_X)\n",
    "test_X, test_X_len = convert_and_pad_data(word_dict, test_X)"
   ]
  },
  {
   "cell_type": "markdown",
   "metadata": {},
   "source": [
    "As a quick check to make sure that things are working as intended, check to see what one of the reviews in the training set looks like after having been processeed. Does this look reasonable? What is the length of a review in the training set?"
   ]
  },
  {
   "cell_type": "code",
   "execution_count": 86,
   "metadata": {},
   "outputs": [
    {
     "name": "stdout",
     "output_type": "stream",
     "text": [
      "[ 171  329 1690   62 1082  251   28    6   39    2    5    1 2290  179\n",
      "   38  718    3    8  196   77   11    1  649   59  940    9  274 2668\n",
      "  250 1784 1245 1649    1   38   57 4811  325 1134 2964 1416 2427    1\n",
      "   92   27   46   23   39   54   38   77   10   15 2717   77  186   50\n",
      "    3   22 1255  893 1632  163  167  970   30    1  115  216  134  251\n",
      "  381  236  416   22  427 1843    3  135   85  247   12 3497 1843 1221\n",
      "    1 1646  225  268    2   12 2201  373  157 2002    0    0    0    0\n",
      "    0    0    0    0    0    0    0    0    0    0    0    0    0    0\n",
      "    0    0    0    0    0    0    0    0    0    0    0    0    0    0\n",
      "    0    0    0    0    0    0    0    0    0    0    0    0    0    0\n",
      "    0    0    0    0    0    0    0    0    0    0    0    0    0    0\n",
      "    0    0    0    0    0    0    0    0    0    0    0    0    0    0\n",
      "    0    0    0    0    0    0    0    0    0    0    0    0    0    0\n",
      "    0    0    0    0    0    0    0    0    0    0    0    0    0    0\n",
      "    0    0    0    0    0    0    0    0    0    0    0    0    0    0\n",
      "    0    0    0    0    0    0    0    0    0    0    0    0    0    0\n",
      "    0    0    0    0    0    0    0    0    0    0    0    0    0    0\n",
      "    0    0    0    0    0    0    0    0    0    0    0    0    0    0\n",
      "    0    0    0    0    0    0    0    0    0    0    0    0    0    0\n",
      "    0    0    0    0    0    0    0    0    0    0    0    0    0    0\n",
      "    0    0    0    0    0    0    0    0    0    0    0    0    0    0\n",
      "    0    0    0    0    0    0    0    0    0    0    0    0    0    0\n",
      "    0    0    0    0    0    0    0    0    0    0    0    0    0    0\n",
      "    0    0    0    0    0    0    0    0    0    0    0    0    0    0\n",
      "    0    0    0    0    0    0    0    0    0    0    0    0    0    0\n",
      "    0    0    0    0    0    0    0    0    0    0    0    0    0    0\n",
      "    0    0    0    0    0    0    0    0    0    0    0    0    0    0\n",
      "    0    0    0    0    0    0    0    0    0    0    0    0    0    0\n",
      "    0    0    0    0    0    0    0    0    0    0    0    0    0    0\n",
      "    0    0    0    0    0    0    0    0    0    0    0    0    0    0\n",
      "    0    0    0    0    0    0    0    0    0    0    0    0    0    0\n",
      "    0    0    0    0    0    0    0    0    0    0    0    0    0    0\n",
      "    0    0    0    0    0    0    0    0    0    0    0    0    0    0\n",
      "    0    0    0    0    0    0    0    0    0    0    0    0    0    0\n",
      "    0    0    0    0    0    0    0    0    0    0    0    0    0    0\n",
      "    0    0    0    0    0    0    0    0    0    0]\n"
     ]
    }
   ],
   "source": [
    "# Use this cell to examine one of the processed reviews to make sure everything is working as intended.\n",
    "\n",
    "print((train_X[100]))"
   ]
  },
  {
   "cell_type": "markdown",
   "metadata": {},
   "source": [
    "**Question:** In the cells above we use the `preprocess_data` and `convert_and_pad_data` methods to process both the training and testing set. Why or why not might this be a problem?"
   ]
  },
  {
   "cell_type": "markdown",
   "metadata": {},
   "source": [
    "**Answer:**"
   ]
  },
  {
   "cell_type": "markdown",
   "metadata": {},
   "source": [
    "## Step 3: Upload the data to S3\n",
    "\n",
    "As in the XGBoost notebook, we will need to upload the training dataset to S3 in order for our training code to access it. For now we will save it locally and we will upload to S3 later on.\n",
    "\n",
    "### Save the processed training dataset locally\n",
    "\n",
    "It is important to note the format of the data that we are saving as we will need to know it when we write the training code. In our case, each row of the dataset has the form `label`, `length`, `review[500]` where `review[500]` is a sequence of `500` integers representing the words in the review."
   ]
  },
  {
   "cell_type": "code",
   "execution_count": 87,
   "metadata": {},
   "outputs": [],
   "source": [
    "import pandas as pd\n",
    "    \n",
    "pd.concat([pd.DataFrame(train_y), pd.DataFrame(train_X_len), pd.DataFrame(train_X)], axis=1) \\\n",
    "        .to_csv(os.path.join(data_dir, 'train.csv'), header=False, index=False)"
   ]
  },
  {
   "cell_type": "markdown",
   "metadata": {},
   "source": [
    "### Uploading the training data\n",
    "\n",
    "\n",
    "Next, we need to upload the training data to the SageMaker default S3 bucket so that we can provide access to it while training our model."
   ]
  },
  {
   "cell_type": "code",
   "execution_count": 88,
   "metadata": {},
   "outputs": [],
   "source": [
    "import sagemaker\n",
    "\n",
    "sagemaker_session = sagemaker.Session()\n",
    "\n",
    "bucket = sagemaker_session.default_bucket()\n",
    "prefix = 'sagemaker/sentiment_rnn'\n",
    "\n",
    "role = sagemaker.get_execution_role()"
   ]
  },
  {
   "cell_type": "code",
   "execution_count": 89,
   "metadata": {},
   "outputs": [],
   "source": [
    "input_data = sagemaker_session.upload_data(path=data_dir, bucket=bucket, key_prefix=prefix)"
   ]
  },
  {
   "cell_type": "markdown",
   "metadata": {},
   "source": [
    "**NOTE:** The cell above uploads the entire contents of our data directory. This includes the `word_dict.pkl` file. This is fortunate as we will need this later on when we create an endpoint that accepts an arbitrary review. For now, we will just take note of the fact that it resides in the data directory (and so also in the S3 training bucket) and that we will need to make sure it gets saved in the model directory."
   ]
  },
  {
   "cell_type": "markdown",
   "metadata": {},
   "source": [
    "## Step 4: Build and Train the PyTorch Model\n",
    "\n",
    "In the XGBoost notebook we discussed what a model is in the SageMaker framework. In particular, a model comprises three objects\n",
    "\n",
    " - Model Artifacts,\n",
    " - Training Code, and\n",
    " - Inference Code,\n",
    " \n",
    "each of which interact with one another. In the XGBoost example we used training and inference code that was provided by Amazon. Here we will still be using containers provided by Amazon with the added benefit of being able to include our own custom code.\n",
    "\n",
    "We will start by implementing our own neural network in PyTorch along with a training script. For the purposes of this project we have provided the necessary model object in the `model.py` file, inside of the `train` folder. You can see the provided implementation by running the cell below."
   ]
  },
  {
   "cell_type": "code",
   "execution_count": 90,
   "metadata": {},
   "outputs": [
    {
     "name": "stdout",
     "output_type": "stream",
     "text": [
      "\u001b[34mimport\u001b[39;49;00m \u001b[04m\u001b[36mtorch\u001b[39;49;00m\u001b[04m\u001b[36m.\u001b[39;49;00m\u001b[04m\u001b[36mnn\u001b[39;49;00m \u001b[34mas\u001b[39;49;00m \u001b[04m\u001b[36mnn\u001b[39;49;00m\r\n",
      "\r\n",
      "\u001b[34mclass\u001b[39;49;00m \u001b[04m\u001b[32mLSTMClassifier\u001b[39;49;00m(nn.Module):\r\n",
      "    \u001b[33m\"\"\"\u001b[39;49;00m\r\n",
      "\u001b[33m    This is the simple RNN model we will be using to perform Sentiment Analysis.\u001b[39;49;00m\r\n",
      "\u001b[33m    \"\"\"\u001b[39;49;00m\r\n",
      "\r\n",
      "    \u001b[34mdef\u001b[39;49;00m \u001b[32m__init__\u001b[39;49;00m(\u001b[36mself\u001b[39;49;00m, embedding_dim, hidden_dim, vocab_size):\r\n",
      "        \u001b[33m\"\"\"\u001b[39;49;00m\r\n",
      "\u001b[33m        Initialize the model by settingg up the various layers.\u001b[39;49;00m\r\n",
      "\u001b[33m        \"\"\"\u001b[39;49;00m\r\n",
      "        \u001b[36msuper\u001b[39;49;00m(LSTMClassifier, \u001b[36mself\u001b[39;49;00m).\u001b[32m__init__\u001b[39;49;00m()\r\n",
      "\r\n",
      "        \u001b[36mself\u001b[39;49;00m.embedding = nn.Embedding(vocab_size, embedding_dim, padding_idx=\u001b[34m0\u001b[39;49;00m)\r\n",
      "        \u001b[36mself\u001b[39;49;00m.lstm = nn.LSTM(embedding_dim, hidden_dim)\r\n",
      "        \u001b[36mself\u001b[39;49;00m.dense = nn.Linear(in_features=hidden_dim, out_features=\u001b[34m1\u001b[39;49;00m)\r\n",
      "        \u001b[36mself\u001b[39;49;00m.sig = nn.Sigmoid()\r\n",
      "        \r\n",
      "        \u001b[36mself\u001b[39;49;00m.word_dict = \u001b[34mNone\u001b[39;49;00m\r\n",
      "\r\n",
      "    \u001b[34mdef\u001b[39;49;00m \u001b[32mforward\u001b[39;49;00m(\u001b[36mself\u001b[39;49;00m, x):\r\n",
      "        \u001b[33m\"\"\"\u001b[39;49;00m\r\n",
      "\u001b[33m        Perform a forward pass of our model on some input.\u001b[39;49;00m\r\n",
      "\u001b[33m        \"\"\"\u001b[39;49;00m\r\n",
      "        x = x.t()\r\n",
      "        lengths = x[\u001b[34m0\u001b[39;49;00m,:]\r\n",
      "        reviews = x[\u001b[34m1\u001b[39;49;00m:,:]\r\n",
      "        embeds = \u001b[36mself\u001b[39;49;00m.embedding(reviews)\r\n",
      "        lstm_out, _ = \u001b[36mself\u001b[39;49;00m.lstm(embeds)\r\n",
      "        out = \u001b[36mself\u001b[39;49;00m.dense(lstm_out)\r\n",
      "        out = out[lengths - \u001b[34m1\u001b[39;49;00m, \u001b[36mrange\u001b[39;49;00m(\u001b[36mlen\u001b[39;49;00m(lengths))]\r\n",
      "        \u001b[34mreturn\u001b[39;49;00m \u001b[36mself\u001b[39;49;00m.sig(out.squeeze())\r\n"
     ]
    }
   ],
   "source": [
    "!pygmentize train/model.py"
   ]
  },
  {
   "cell_type": "markdown",
   "metadata": {},
   "source": [
    "The important takeaway from the implementation provided is that there are three parameters that we may wish to tweak to improve the performance of our model. These are the embedding dimension, the hidden dimension and the size of the vocabulary. We will likely want to make these parameters configurable in the training script so that if we wish to modify them we do not need to modify the script itself. We will see how to do this later on. To start we will write some of the training code in the notebook so that we can more easily diagnose any issues that arise.\n",
    "\n",
    "First we will load a small portion of the training data set to use as a sample. It would be very time consuming to try and train the model completely in the notebook as we do not have access to a gpu and the compute instance that we are using is not particularly powerful. However, we can work on a small bit of the data to get a feel for how our training script is behaving."
   ]
  },
  {
   "cell_type": "code",
   "execution_count": 91,
   "metadata": {},
   "outputs": [],
   "source": [
    "import torch\n",
    "import torch.utils.data\n",
    "\n",
    "# Read in only the first 250 rows\n",
    "train_sample = pd.read_csv(os.path.join(data_dir, 'train.csv'), header=None, names=None, nrows=250)\n",
    "\n",
    "# Turn the input pandas dataframe into tensors\n",
    "train_sample_y = torch.from_numpy(train_sample[[0]].values).float().squeeze()\n",
    "train_sample_X = torch.from_numpy(train_sample.drop([0], axis=1).values).long()\n",
    "\n",
    "# Build the dataset\n",
    "train_sample_ds = torch.utils.data.TensorDataset(train_sample_X, train_sample_y)\n",
    "# Build the dataloader\n",
    "train_sample_dl = torch.utils.data.DataLoader(train_sample_ds, batch_size=50)"
   ]
  },
  {
   "cell_type": "markdown",
   "metadata": {},
   "source": [
    "### (TODO) Writing the training method\n",
    "\n",
    "Next we need to write the training code itself. This should be very similar to training methods that you have written before to train PyTorch models. We will leave any difficult aspects such as model saving / loading and parameter loading until a little later."
   ]
  },
  {
   "cell_type": "code",
   "execution_count": 94,
   "metadata": {},
   "outputs": [],
   "source": [
    "def train(model, train_loader, epochs, optimizer, loss_fn, device):\n",
    "    for epoch in range(1, epochs + 1):\n",
    "        model.train()\n",
    "        total_loss = 0\n",
    "        for batch in train_loader:         \n",
    "            batch_X, batch_y = batch\n",
    "            \n",
    "            batch_X = batch_X.to(device)\n",
    "            batch_y = batch_y.to(device)\n",
    "            \n",
    "            \n",
    "            # TODO: Complete this train method to train the model provided.\n",
    "            \n",
    "            model.zero_grad()\n",
    "            output = model(batch_X)\n",
    "            loss = loss_fn(output, batch_y)\n",
    "            optimizer.zero_grad()\n",
    "            loss.backward()\n",
    "            optimizer.step()\n",
    "\n",
    "            total_loss += loss.data.item()\n",
    "        print(\"Epoch: {}, BCELoss: {}\".format(epoch, total_loss / len(train_loader)))"
   ]
  },
  {
   "cell_type": "markdown",
   "metadata": {},
   "source": [
    "Supposing we have the training method above, we will test that it is working by writing a bit of code in the notebook that executes our training method on the small sample training set that we loaded earlier. The reason for doing this in the notebook is so that we have an opportunity to fix any errors that arise early when they are easier to diagnose."
   ]
  },
  {
   "cell_type": "code",
   "execution_count": 95,
   "metadata": {},
   "outputs": [
    {
     "name": "stdout",
     "output_type": "stream",
     "text": [
      "Epoch: 1, BCELoss: 0.6955205082893372\n",
      "Epoch: 2, BCELoss: 0.6866241335868836\n",
      "Epoch: 3, BCELoss: 0.6792784094810486\n",
      "Epoch: 4, BCELoss: 0.6713975071907043\n",
      "Epoch: 5, BCELoss: 0.6621041059494018\n"
     ]
    }
   ],
   "source": [
    "import torch.optim as optim\n",
    "from train.model import LSTMClassifier\n",
    "\n",
    "device = torch.device(\"cuda\" if torch.cuda.is_available() else \"cpu\")\n",
    "model = LSTMClassifier(32, 100, 5000).to(device)\n",
    "optimizer = optim.Adam(model.parameters())\n",
    "loss_fn = torch.nn.BCELoss()\n",
    "\n",
    "train(model, train_sample_dl, 5, optimizer, loss_fn, device)"
   ]
  },
  {
   "cell_type": "markdown",
   "metadata": {},
   "source": [
    "In order to construct a PyTorch model using SageMaker we must provide SageMaker with a training script. We may optionally include a directory which will be copied to the container and from which our training code will be run. When the training container is executed it will check the uploaded directory (if there is one) for a `requirements.txt` file and install any required Python libraries, after which the training script will be run."
   ]
  },
  {
   "cell_type": "markdown",
   "metadata": {},
   "source": [
    "### (TODO) Training the model\n",
    "\n",
    "When a PyTorch model is constructed in SageMaker, an entry point must be specified. This is the Python file which will be executed when the model is trained. Inside of the `train` directory is a file called `train.py` which has been provided and which contains most of the necessary code to train our model. The only thing that is missing is the implementation of the `train()` method which you wrote earlier in this notebook.\n",
    "\n",
    "**TODO**: Copy the `train()` method written above and paste it into the `train/train.py` file where required.\n",
    "\n",
    "The way that SageMaker passes hyperparameters to the training script is by way of arguments. These arguments can then be parsed and used in the training script. To see how this is done take a look at the provided `train/train.py` file."
   ]
  },
  {
   "cell_type": "code",
   "execution_count": 99,
   "metadata": {},
   "outputs": [],
   "source": [
    "from sagemaker.pytorch import PyTorch\n",
    "\n",
    "estimator = PyTorch(entry_point=\"train.py\",\n",
    "                    source_dir=\"train\",\n",
    "                    role=role,\n",
    "                    framework_version='0.4.0',\n",
    "                    train_instance_count=1,\n",
    "                    train_instance_type='ml.m4.xlarge',\n",
    "                    hyperparameters={\n",
    "                        'epochs': 10,\n",
    "                        'hidden_dim': 200,\n",
    "                    })"
   ]
  },
  {
   "cell_type": "code",
   "execution_count": null,
   "metadata": {},
   "outputs": [
    {
     "name": "stderr",
     "output_type": "stream",
     "text": [
      "'create_image_uri' will be deprecated in favor of 'ImageURIProvider' class in SageMaker Python SDK v2.\n",
      "'s3_input' class will be renamed to 'TrainingInput' in SageMaker Python SDK v2.\n",
      "'create_image_uri' will be deprecated in favor of 'ImageURIProvider' class in SageMaker Python SDK v2.\n"
     ]
    },
    {
     "name": "stdout",
     "output_type": "stream",
     "text": [
      "2021-04-26 21:17:53 Starting - Starting the training job...\n",
      "2021-04-26 21:17:55 Starting - Launching requested ML instances......\n",
      "2021-04-26 21:19:01 Starting - Preparing the instances for training......\n",
      "2021-04-26 21:20:08 Downloading - Downloading input data...\n",
      "2021-04-26 21:20:55 Training - Training image download completed. Training in progress..\u001b[34mbash: cannot set terminal process group (-1): Inappropriate ioctl for device\u001b[0m\n",
      "\u001b[34mbash: no job control in this shell\u001b[0m\n",
      "\u001b[34m2021-04-26 21:20:56,288 sagemaker-containers INFO     Imported framework sagemaker_pytorch_container.training\u001b[0m\n",
      "\u001b[34m2021-04-26 21:20:56,291 sagemaker-containers INFO     No GPUs detected (normal if no gpus installed)\u001b[0m\n",
      "\u001b[34m2021-04-26 21:20:56,306 sagemaker_pytorch_container.training INFO     Block until all host DNS lookups succeed.\u001b[0m\n",
      "\u001b[34m2021-04-26 21:21:02,545 sagemaker_pytorch_container.training INFO     Invoking user training script.\u001b[0m\n",
      "\u001b[34m2021-04-26 21:21:02,796 sagemaker-containers INFO     Module train does not provide a setup.py. \u001b[0m\n",
      "\u001b[34mGenerating setup.py\u001b[0m\n",
      "\u001b[34m2021-04-26 21:21:02,796 sagemaker-containers INFO     Generating setup.cfg\u001b[0m\n",
      "\u001b[34m2021-04-26 21:21:02,797 sagemaker-containers INFO     Generating MANIFEST.in\u001b[0m\n",
      "\u001b[34m2021-04-26 21:21:02,797 sagemaker-containers INFO     Installing module with the following command:\u001b[0m\n",
      "\u001b[34m/usr/bin/python -m pip install -U . -r requirements.txt\u001b[0m\n",
      "\u001b[34mProcessing /opt/ml/code\u001b[0m\n",
      "\u001b[34mCollecting pandas (from -r requirements.txt (line 1))\u001b[0m\n",
      "\u001b[34m  Downloading https://files.pythonhosted.org/packages/74/24/0cdbf8907e1e3bc5a8da03345c23cbed7044330bb8f73bb12e711a640a00/pandas-0.24.2-cp35-cp35m-manylinux1_x86_64.whl (10.0MB)\u001b[0m\n",
      "\u001b[34mCollecting numpy (from -r requirements.txt (line 2))\u001b[0m\n",
      "\u001b[34m  Downloading https://files.pythonhosted.org/packages/b5/36/88723426b4ff576809fec7d73594fe17a35c27f8d01f93637637a29ae25b/numpy-1.18.5-cp35-cp35m-manylinux1_x86_64.whl (19.9MB)\u001b[0m\n",
      "\u001b[34mCollecting nltk (from -r requirements.txt (line 3))\n",
      "  Downloading https://files.pythonhosted.org/packages/5e/37/9532ddd4b1bbb619333d5708aaad9bf1742f051a664c3c6fa6632a105fd8/nltk-3.6.2-py3-none-any.whl (1.5MB)\u001b[0m\n",
      "\u001b[34mCollecting beautifulsoup4 (from -r requirements.txt (line 4))\n",
      "  Downloading https://files.pythonhosted.org/packages/d1/41/e6495bd7d3781cee623ce23ea6ac73282a373088fcd0ddc809a047b18eae/beautifulsoup4-4.9.3-py3-none-any.whl (115kB)\u001b[0m\n",
      "\u001b[34mCollecting html5lib (from -r requirements.txt (line 5))\n",
      "  Downloading https://files.pythonhosted.org/packages/6c/dd/a834df6482147d48e225a49515aabc28974ad5a4ca3215c18a882565b028/html5lib-1.1-py2.py3-none-any.whl (112kB)\u001b[0m\n",
      "\u001b[34mCollecting pytz>=2011k (from pandas->-r requirements.txt (line 1))\n",
      "  Downloading https://files.pythonhosted.org/packages/70/94/784178ca5dd892a98f113cdd923372024dc04b8d40abe77ca76b5fb90ca6/pytz-2021.1-py2.py3-none-any.whl (510kB)\u001b[0m\n",
      "\u001b[34mRequirement already satisfied, skipping upgrade: python-dateutil>=2.5.0 in /usr/local/lib/python3.5/dist-packages (from pandas->-r requirements.txt (line 1)) (2.7.5)\u001b[0m\n",
      "\u001b[34mRequirement already satisfied, skipping upgrade: click in /usr/local/lib/python3.5/dist-packages (from nltk->-r requirements.txt (line 3)) (7.0)\u001b[0m\n",
      "\u001b[34mCollecting joblib (from nltk->-r requirements.txt (line 3))\n",
      "  Downloading https://files.pythonhosted.org/packages/28/5c/cf6a2b65a321c4a209efcdf64c2689efae2cb62661f8f6f4bb28547cf1bf/joblib-0.14.1-py2.py3-none-any.whl (294kB)\u001b[0m\n",
      "\u001b[34mCollecting regex (from nltk->-r requirements.txt (line 3))\n",
      "  Downloading https://files.pythonhosted.org/packages/38/3f/4c42a98c9ad7d08c16e7d23b2194a0e4f3b2914662da8bc88986e4e6de1f/regex-2021.4.4.tar.gz (693kB)\u001b[0m\n",
      "\u001b[34mCollecting tqdm (from nltk->-r requirements.txt (line 3))\n",
      "  Downloading https://files.pythonhosted.org/packages/72/8a/34efae5cf9924328a8f34eeb2fdaae14c011462d9f0e3fcded48e1266d1c/tqdm-4.60.0-py2.py3-none-any.whl (75kB)\u001b[0m\n",
      "\u001b[34mCollecting soupsieve>1.2; python_version >= \"3.0\" (from beautifulsoup4->-r requirements.txt (line 4))\n",
      "  Downloading https://files.pythonhosted.org/packages/02/fb/1c65691a9aeb7bd6ac2aa505b84cb8b49ac29c976411c6ab3659425e045f/soupsieve-2.1-py3-none-any.whl\u001b[0m\n",
      "\u001b[34mRequirement already satisfied, skipping upgrade: six>=1.9 in /usr/local/lib/python3.5/dist-packages (from html5lib->-r requirements.txt (line 5)) (1.11.0)\u001b[0m\n",
      "\u001b[34mCollecting webencodings (from html5lib->-r requirements.txt (line 5))\n",
      "  Downloading https://files.pythonhosted.org/packages/f4/24/2a3e3df732393fed8b3ebf2ec078f05546de641fe1b667ee316ec1dcf3b7/webencodings-0.5.1-py2.py3-none-any.whl\u001b[0m\n",
      "\u001b[34mBuilding wheels for collected packages: train, regex\n",
      "  Running setup.py bdist_wheel for train: started\n",
      "  Running setup.py bdist_wheel for train: finished with status 'done'\n",
      "  Stored in directory: /tmp/pip-ephem-wheel-cache-j3eswfs5/wheels/35/24/16/37574d11bf9bde50616c67372a334f94fa8356bc7164af8ca3\n",
      "  Running setup.py bdist_wheel for regex: started\u001b[0m\n",
      "\u001b[34m  Running setup.py bdist_wheel for regex: finished with status 'done'\n",
      "  Stored in directory: /root/.cache/pip/wheels/c9/05/a8/b85fa0bd7850b99f9b4f106972975f2e3c46412e12f9949b58\u001b[0m\n",
      "\u001b[34mSuccessfully built train regex\u001b[0m\n",
      "\u001b[34mInstalling collected packages: numpy, pytz, pandas, joblib, regex, tqdm, nltk, soupsieve, beautifulsoup4, webencodings, html5lib, train\n",
      "  Found existing installation: numpy 1.15.4\u001b[0m\n",
      "\u001b[34m    Uninstalling numpy-1.15.4:\u001b[0m\n",
      "\u001b[34m      Successfully uninstalled numpy-1.15.4\u001b[0m\n",
      "\u001b[34mSuccessfully installed beautifulsoup4-4.9.3 html5lib-1.1 joblib-0.14.1 nltk-3.6.2 numpy-1.18.5 pandas-0.24.2 pytz-2021.1 regex-2021.4.4 soupsieve-2.1 tqdm-4.60.0 train-1.0.0 webencodings-0.5.1\u001b[0m\n",
      "\u001b[34mYou are using pip version 18.1, however version 20.3.4 is available.\u001b[0m\n",
      "\u001b[34mYou should consider upgrading via the 'pip install --upgrade pip' command.\u001b[0m\n",
      "\u001b[34m2021-04-26 21:21:26,682 sagemaker-containers INFO     No GPUs detected (normal if no gpus installed)\u001b[0m\n",
      "\u001b[34m2021-04-26 21:21:26,697 sagemaker-containers INFO     Invoking user script\n",
      "\u001b[0m\n",
      "\u001b[34mTraining Env:\n",
      "\u001b[0m\n",
      "\u001b[34m{\n",
      "    \"user_entry_point\": \"train.py\",\n",
      "    \"output_intermediate_dir\": \"/opt/ml/output/intermediate\",\n",
      "    \"additional_framework_parameters\": {},\n",
      "    \"model_dir\": \"/opt/ml/model\",\n",
      "    \"module_name\": \"train\",\n",
      "    \"resource_config\": {\n",
      "        \"current_host\": \"algo-1\",\n",
      "        \"network_interface_name\": \"eth0\",\n",
      "        \"hosts\": [\n",
      "            \"algo-1\"\n",
      "        ]\n",
      "    },\n",
      "    \"num_gpus\": 0,\n",
      "    \"log_level\": 20,\n",
      "    \"output_data_dir\": \"/opt/ml/output/data\",\n",
      "    \"module_dir\": \"s3://sagemaker-us-east-2-438247262030/sagemaker-pytorch-2021-04-26-21-17-53-398/source/sourcedir.tar.gz\",\n",
      "    \"hyperparameters\": {\n",
      "        \"hidden_dim\": 200,\n",
      "        \"epochs\": 10\n",
      "    },\n",
      "    \"num_cpus\": 4,\n",
      "    \"hosts\": [\n",
      "        \"algo-1\"\n",
      "    ],\n",
      "    \"current_host\": \"algo-1\",\n",
      "    \"input_dir\": \"/opt/ml/input\",\n",
      "    \"input_config_dir\": \"/opt/ml/input/config\",\n",
      "    \"output_dir\": \"/opt/ml/output\",\n",
      "    \"channel_input_dirs\": {\n",
      "        \"training\": \"/opt/ml/input/data/training\"\n",
      "    },\n",
      "    \"framework_module\": \"sagemaker_pytorch_container.training:main\",\n",
      "    \"job_name\": \"sagemaker-pytorch-2021-04-26-21-17-53-398\",\n",
      "    \"network_interface_name\": \"eth0\",\n",
      "    \"input_data_config\": {\n",
      "        \"training\": {\n",
      "            \"TrainingInputMode\": \"File\",\n",
      "            \"RecordWrapperType\": \"None\",\n",
      "            \"S3DistributionType\": \"FullyReplicated\"\n",
      "        }\n",
      "    }\u001b[0m\n",
      "\u001b[34m}\n",
      "\u001b[0m\n",
      "\u001b[34mEnvironment variables:\n",
      "\u001b[0m\n",
      "\u001b[34mSM_OUTPUT_INTERMEDIATE_DIR=/opt/ml/output/intermediate\u001b[0m\n",
      "\u001b[34mSM_INPUT_CONFIG_DIR=/opt/ml/input/config\u001b[0m\n",
      "\u001b[34mSM_TRAINING_ENV={\"additional_framework_parameters\":{},\"channel_input_dirs\":{\"training\":\"/opt/ml/input/data/training\"},\"current_host\":\"algo-1\",\"framework_module\":\"sagemaker_pytorch_container.training:main\",\"hosts\":[\"algo-1\"],\"hyperparameters\":{\"epochs\":10,\"hidden_dim\":200},\"input_config_dir\":\"/opt/ml/input/config\",\"input_data_config\":{\"training\":{\"RecordWrapperType\":\"None\",\"S3DistributionType\":\"FullyReplicated\",\"TrainingInputMode\":\"File\"}},\"input_dir\":\"/opt/ml/input\",\"job_name\":\"sagemaker-pytorch-2021-04-26-21-17-53-398\",\"log_level\":20,\"model_dir\":\"/opt/ml/model\",\"module_dir\":\"s3://sagemaker-us-east-2-438247262030/sagemaker-pytorch-2021-04-26-21-17-53-398/source/sourcedir.tar.gz\",\"module_name\":\"train\",\"network_interface_name\":\"eth0\",\"num_cpus\":4,\"num_gpus\":0,\"output_data_dir\":\"/opt/ml/output/data\",\"output_dir\":\"/opt/ml/output\",\"output_intermediate_dir\":\"/opt/ml/output/intermediate\",\"resource_config\":{\"current_host\":\"algo-1\",\"hosts\":[\"algo-1\"],\"network_interface_name\":\"eth0\"},\"user_entry_point\":\"train.py\"}\u001b[0m\n",
      "\u001b[34mSM_USER_ENTRY_POINT=train.py\u001b[0m\n",
      "\u001b[34mSM_OUTPUT_DATA_DIR=/opt/ml/output/data\u001b[0m\n",
      "\u001b[34mSM_NETWORK_INTERFACE_NAME=eth0\u001b[0m\n",
      "\u001b[34mSM_CURRENT_HOST=algo-1\u001b[0m\n",
      "\u001b[34mSM_NUM_GPUS=0\u001b[0m\n",
      "\u001b[34mSM_NUM_CPUS=4\u001b[0m\n",
      "\u001b[34mSM_MODEL_DIR=/opt/ml/model\u001b[0m\n",
      "\u001b[34mSM_HP_HIDDEN_DIM=200\u001b[0m\n",
      "\u001b[34mSM_OUTPUT_DIR=/opt/ml/output\u001b[0m\n",
      "\u001b[34mSM_LOG_LEVEL=20\u001b[0m\n",
      "\u001b[34mPYTHONPATH=/usr/local/bin:/usr/lib/python35.zip:/usr/lib/python3.5:/usr/lib/python3.5/plat-x86_64-linux-gnu:/usr/lib/python3.5/lib-dynload:/usr/local/lib/python3.5/dist-packages:/usr/lib/python3/dist-packages\u001b[0m\n",
      "\u001b[34mSM_HP_EPOCHS=10\u001b[0m\n",
      "\u001b[34mSM_INPUT_DIR=/opt/ml/input\u001b[0m\n",
      "\u001b[34mSM_RESOURCE_CONFIG={\"current_host\":\"algo-1\",\"hosts\":[\"algo-1\"],\"network_interface_name\":\"eth0\"}\u001b[0m\n",
      "\u001b[34mSM_FRAMEWORK_PARAMS={}\u001b[0m\n",
      "\u001b[34mSM_INPUT_DATA_CONFIG={\"training\":{\"RecordWrapperType\":\"None\",\"S3DistributionType\":\"FullyReplicated\",\"TrainingInputMode\":\"File\"}}\u001b[0m\n",
      "\u001b[34mSM_MODULE_DIR=s3://sagemaker-us-east-2-438247262030/sagemaker-pytorch-2021-04-26-21-17-53-398/source/sourcedir.tar.gz\u001b[0m\n",
      "\u001b[34mSM_HOSTS=[\"algo-1\"]\u001b[0m\n",
      "\u001b[34mSM_USER_ARGS=[\"--epochs\",\"10\",\"--hidden_dim\",\"200\"]\u001b[0m\n",
      "\u001b[34mSM_CHANNEL_TRAINING=/opt/ml/input/data/training\u001b[0m\n",
      "\u001b[34mSM_CHANNELS=[\"training\"]\u001b[0m\n",
      "\u001b[34mSM_MODULE_NAME=train\u001b[0m\n",
      "\u001b[34mSM_HPS={\"epochs\":10,\"hidden_dim\":200}\u001b[0m\n",
      "\u001b[34mSM_FRAMEWORK_MODULE=sagemaker_pytorch_container.training:main\n",
      "\u001b[0m\n",
      "\u001b[34mInvoking script with the following command:\n",
      "\u001b[0m\n",
      "\u001b[34m/usr/bin/python -m train --epochs 10 --hidden_dim 200\n",
      "\n",
      "\u001b[0m\n",
      "\u001b[34mUsing device cpu.\u001b[0m\n",
      "\u001b[34mGet train data loader.\u001b[0m\n",
      "\u001b[34mModel loaded with embedding_dim 32, hidden_dim 200, vocab_size 5000.\u001b[0m\n"
     ]
    },
    {
     "name": "stdout",
     "output_type": "stream",
     "text": [
      "\u001b[34mEpoch: 1, BCELoss: 0.6708191791359259\u001b[0m\n",
      "\u001b[34mEpoch: 2, BCELoss: 0.5819808840751648\u001b[0m\n",
      "\u001b[34mEpoch: 3, BCELoss: 0.4953146157216053\u001b[0m\n",
      "\u001b[34mEpoch: 4, BCELoss: 0.4277516183804493\u001b[0m\n",
      "\u001b[34mEpoch: 5, BCELoss: 0.39393498642104013\u001b[0m\n",
      "\u001b[34mEpoch: 8, BCELoss: 0.31497817684193047\u001b[0m\n",
      "\u001b[34mEpoch: 9, BCELoss: 0.2866412392076181\u001b[0m\n",
      "\u001b[34mEpoch: 10, BCELoss: 0.2764456789104306\u001b[0m\n",
      "\u001b[34m2021-04-26 23:22:56,547 sagemaker-containers INFO     Reporting training SUCCESS\u001b[0m\n",
      "\n",
      "2021-04-26 23:23:06 Uploading - Uploading generated training model\n",
      "2021-04-26 23:23:06 Completed - Training job completed\n",
      "Training seconds: 7378\n",
      "Billable seconds: 7378\n"
     ]
    }
   ],
   "source": [
    "estimator.fit({'training': input_data})"
   ]
  },
  {
   "cell_type": "markdown",
   "metadata": {},
   "source": [
    "The above test does not show results for epochs 6-7. After troubleshooting, I have attached the cloudwatch logs that the training jobs was still running and in progress."
   ]
  },
  {
   "cell_type": "code",
   "execution_count": null,
   "metadata": {},
   "outputs": [],
   "source": []
  },
  {
   "cell_type": "markdown",
   "metadata": {},
   "source": [
    "## Step 5: Testing the model\n",
    "\n",
    "As mentioned at the top of this notebook, we will be testing this model by first deploying it and then sending the testing data to the deployed endpoint. We will do this so that we can make sure that the deployed model is working correctly.\n",
    "\n",
    "## Step 6: Deploy the model for testing\n",
    "\n",
    "Now that we have trained our model, we would like to test it to see how it performs. Currently our model takes input of the form `review_length, review[500]` where `review[500]` is a sequence of `500` integers which describe the words present in the review, encoded using `word_dict`. Fortunately for us, SageMaker provides built-in inference code for models with simple inputs such as this.\n",
    "\n",
    "There is one thing that we need to provide, however, and that is a function which loads the saved model. This function must be called `model_fn()` and takes as its only parameter a path to the directory where the model artifacts are stored. This function must also be present in the python file which we specified as the entry point. In our case the model loading function has been provided and so no changes need to be made.\n",
    "\n",
    "**NOTE**: When the built-in inference code is run it must import the `model_fn()` method from the `train.py` file. This is why the training code is wrapped in a main guard ( ie, `if __name__ == '__main__':` )\n",
    "\n",
    "Since we don't need to change anything in the code that was uploaded during training, we can simply deploy the current model as-is.\n",
    "\n",
    "**NOTE:** When deploying a model you are asking SageMaker to launch an compute instance that will wait for data to be sent to it. As a result, this compute instance will continue to run until *you* shut it down. This is important to know since the cost of a deployed endpoint depends on how long it has been running for.\n",
    "\n",
    "In other words **If you are no longer using a deployed endpoint, shut it down!**\n",
    "\n",
    "**TODO:** Deploy the trained model."
   ]
  },
  {
   "cell_type": "code",
   "execution_count": 101,
   "metadata": {},
   "outputs": [
    {
     "name": "stderr",
     "output_type": "stream",
     "text": [
      "Parameter image will be renamed to image_uri in SageMaker Python SDK v2.\n",
      "'create_image_uri' will be deprecated in favor of 'ImageURIProvider' class in SageMaker Python SDK v2.\n"
     ]
    },
    {
     "name": "stdout",
     "output_type": "stream",
     "text": [
      "---------------!"
     ]
    }
   ],
   "source": [
    "# TODO: Deploy the trained model\n",
    "predictor = estimator.deploy(initial_instance_count=1, instance_type='ml.m4.xlarge')"
   ]
  },
  {
   "cell_type": "markdown",
   "metadata": {},
   "source": [
    "## Step 7 - Use the model for testing\n",
    "\n",
    "Once deployed, we can read in the test data and send it off to our deployed model to get some results. Once we collect all of the results we can determine how accurate our model is."
   ]
  },
  {
   "cell_type": "code",
   "execution_count": 102,
   "metadata": {},
   "outputs": [],
   "source": [
    "test_X = pd.concat([pd.DataFrame(test_X_len), pd.DataFrame(test_X)], axis=1)"
   ]
  },
  {
   "cell_type": "code",
   "execution_count": 103,
   "metadata": {},
   "outputs": [],
   "source": [
    "# We split the data into chunks and send each chunk seperately, accumulating the results.\n",
    "\n",
    "def predict(data, rows=512):\n",
    "    split_array = np.array_split(data, int(data.shape[0] / float(rows) + 1))\n",
    "    predictions = np.array([])\n",
    "    for array in split_array:\n",
    "        predictions = np.append(predictions, predictor.predict(array))\n",
    "    \n",
    "    return predictions"
   ]
  },
  {
   "cell_type": "code",
   "execution_count": 104,
   "metadata": {},
   "outputs": [],
   "source": [
    "predictions = predict(test_X.values)\n",
    "predictions = [round(num) for num in predictions]"
   ]
  },
  {
   "cell_type": "code",
   "execution_count": 105,
   "metadata": {},
   "outputs": [
    {
     "data": {
      "text/plain": [
       "0.84844"
      ]
     },
     "execution_count": 105,
     "metadata": {},
     "output_type": "execute_result"
    }
   ],
   "source": [
    "from sklearn.metrics import accuracy_score\n",
    "accuracy_score(test_y, predictions)"
   ]
  },
  {
   "cell_type": "markdown",
   "metadata": {},
   "source": [
    "**Question:** How does this model compare to the XGBoost model you created earlier? Why might these two models perform differently on this dataset? Which do *you* think is better for sentiment analysis?"
   ]
  },
  {
   "cell_type": "markdown",
   "metadata": {},
   "source": [
    "**Answer:**"
   ]
  },
  {
   "cell_type": "markdown",
   "metadata": {},
   "source": [
    "### (TODO) More testing\n",
    "\n",
    "We now have a trained model which has been deployed and which we can send processed reviews to and which returns the predicted sentiment. However, ultimately we would like to be able to send our model an unprocessed review. That is, we would like to send the review itself as a string. For example, suppose we wish to send the following review to our model."
   ]
  },
  {
   "cell_type": "code",
   "execution_count": 116,
   "metadata": {},
   "outputs": [],
   "source": [
    "test_review = 'The simplest pleasures in life are the best, and this film is one of them. Combining a rather basic storyline of love and adventure this movie transcends the usual weekend fair with wit and unmitigated charm.'"
   ]
  },
  {
   "cell_type": "markdown",
   "metadata": {},
   "source": [
    "The question we now need to answer is, how do we send this review to our model?\n",
    "\n",
    "Recall in the first section of this notebook we did a bunch of data processing to the IMDb dataset. In particular, we did two specific things to the provided reviews.\n",
    " - Removed any html tags and stemmed the input\n",
    " - Encoded the review as a sequence of integers using `word_dict`\n",
    " \n",
    "In order process the review we will need to repeat these two steps.\n",
    "\n",
    "**TODO**: Using the `review_to_words` and `convert_and_pad` methods from section one, convert `test_review` into a numpy array `test_data` suitable to send to our model. Remember that our model expects input of the form `review_length, review[500]`."
   ]
  },
  {
   "cell_type": "code",
   "execution_count": 123,
   "metadata": {},
   "outputs": [
    {
     "name": "stdout",
     "output_type": "stream",
     "text": [
      "[1, 1374, 49, 53, 3, 4, 878, 173, 392, 682, 29, 723, 2, 4408, 275, 2078, 1059, 760, 1, 581, 0, 0, 0, 0, 0, 0, 0, 0, 0, 0, 0, 0, 0, 0, 0, 0, 0, 0, 0, 0, 0, 0, 0, 0, 0, 0, 0, 0, 0, 0, 0, 0, 0, 0, 0, 0, 0, 0, 0, 0, 0, 0, 0, 0, 0, 0, 0, 0, 0, 0, 0, 0, 0, 0, 0, 0, 0, 0, 0, 0, 0, 0, 0, 0, 0, 0, 0, 0, 0, 0, 0, 0, 0, 0, 0, 0, 0, 0, 0, 0, 0, 0, 0, 0, 0, 0, 0, 0, 0, 0, 0, 0, 0, 0, 0, 0, 0, 0, 0, 0, 0, 0, 0, 0, 0, 0, 0, 0, 0, 0, 0, 0, 0, 0, 0, 0, 0, 0, 0, 0, 0, 0, 0, 0, 0, 0, 0, 0, 0, 0, 0, 0, 0, 0, 0, 0, 0, 0, 0, 0, 0, 0, 0, 0, 0, 0, 0, 0, 0, 0, 0, 0, 0, 0, 0, 0, 0, 0, 0, 0, 0, 0, 0, 0, 0, 0, 0, 0, 0, 0, 0, 0, 0, 0, 0, 0, 0, 0, 0, 0, 0, 0, 0, 0, 0, 0, 0, 0, 0, 0, 0, 0, 0, 0, 0, 0, 0, 0, 0, 0, 0, 0, 0, 0, 0, 0, 0, 0, 0, 0, 0, 0, 0, 0, 0, 0, 0, 0, 0, 0, 0, 0, 0, 0, 0, 0, 0, 0, 0, 0, 0, 0, 0, 0, 0, 0, 0, 0, 0, 0, 0, 0, 0, 0, 0, 0, 0, 0, 0, 0, 0, 0, 0, 0, 0, 0, 0, 0, 0, 0, 0, 0, 0, 0, 0, 0, 0, 0, 0, 0, 0, 0, 0, 0, 0, 0, 0, 0, 0, 0, 0, 0, 0, 0, 0, 0, 0, 0, 0, 0, 0, 0, 0, 0, 0, 0, 0, 0, 0, 0, 0, 0, 0, 0, 0, 0, 0, 0, 0, 0, 0, 0, 0, 0, 0, 0, 0, 0, 0, 0, 0, 0, 0, 0, 0, 0, 0, 0, 0, 0, 0, 0, 0, 0, 0, 0, 0, 0, 0, 0, 0, 0, 0, 0, 0, 0, 0, 0, 0, 0, 0, 0, 0, 0, 0, 0, 0, 0, 0, 0, 0, 0, 0, 0, 0, 0, 0, 0, 0, 0, 0, 0, 0, 0, 0, 0, 0, 0, 0, 0, 0, 0, 0, 0, 0, 0, 0, 0, 0, 0, 0, 0, 0, 0, 0, 0, 0, 0, 0, 0, 0, 0, 0, 0, 0, 0, 0, 0, 0, 0, 0, 0, 0, 0, 0, 0, 0, 0, 0, 0, 0, 0, 0, 0, 0, 0, 0, 0, 0, 0, 0, 0, 0, 0, 0, 0, 0, 0, 0, 0, 0, 0, 0, 0, 0, 0, 0, 0, 0, 0, 0, 0, 0, 0, 0, 0, 0, 0, 0, 0, 0, 0, 0, 0, 0, 0, 0, 0, 0, 0, 0, 0, 0, 0, 0, 0, 0, 0, 0, 0]\n"
     ]
    }
   ],
   "source": [
    "# TODO: Convert test_review into a form usable by the model and save the results in test_data\n",
    "review_list, review_length = convert_and_pad(word_dict, review_to_words(test_review))\n",
    "print(review_list)\n",
    "test_data = np.array([np.array([review_length] + review_list)])"
   ]
  },
  {
   "cell_type": "markdown",
   "metadata": {},
   "source": [
    "Now that we have processed the review, we can send the resulting array to our model to predict the sentiment of the review."
   ]
  },
  {
   "cell_type": "code",
   "execution_count": 110,
   "metadata": {},
   "outputs": [
    {
     "name": "stdout",
     "output_type": "stream",
     "text": [
      "<sagemaker.pytorch.model.PyTorchPredictor object at 0x7f65320377b8>\n"
     ]
    }
   ],
   "source": [
    "print(predictor)"
   ]
  },
  {
   "cell_type": "code",
   "execution_count": 124,
   "metadata": {},
   "outputs": [
    {
     "data": {
      "text/plain": [
       "array(0.79823047, dtype=float32)"
      ]
     },
     "execution_count": 124,
     "metadata": {},
     "output_type": "execute_result"
    }
   ],
   "source": [
    "predictor.predict(test_data)"
   ]
  },
  {
   "cell_type": "markdown",
   "metadata": {},
   "source": [
    "Since the return value of our model is close to `1`, we can be certain that the review we submitted is positive."
   ]
  },
  {
   "cell_type": "markdown",
   "metadata": {},
   "source": [
    "### Delete the endpoint\n",
    "\n",
    "Of course, just like in the XGBoost notebook, once we've deployed an endpoint it continues to run until we tell it to shut down. Since we are done using our endpoint for now, we can delete it."
   ]
  },
  {
   "cell_type": "code",
   "execution_count": 125,
   "metadata": {},
   "outputs": [
    {
     "name": "stderr",
     "output_type": "stream",
     "text": [
      "estimator.delete_endpoint() will be deprecated in SageMaker Python SDK v2. Please use the delete_endpoint() function on your predictor instead.\n"
     ]
    }
   ],
   "source": [
    "estimator.delete_endpoint()"
   ]
  },
  {
   "cell_type": "markdown",
   "metadata": {},
   "source": [
    "## Step 6 (again) - Deploy the model for the web app\n",
    "\n",
    "Now that we know that our model is working, it's time to create some custom inference code so that we can send the model a review which has not been processed and have it determine the sentiment of the review.\n",
    "\n",
    "As we saw above, by default the estimator which we created, when deployed, will use the entry script and directory which we provided when creating the model. However, since we now wish to accept a string as input and our model expects a processed review, we need to write some custom inference code.\n",
    "\n",
    "We will store the code that we write in the `serve` directory. Provided in this directory is the `model.py` file that we used to construct our model, a `utils.py` file which contains the `review_to_words` and `convert_and_pad` pre-processing functions which we used during the initial data processing, and `predict.py`, the file which will contain our custom inference code. Note also that `requirements.txt` is present which will tell SageMaker what Python libraries are required by our custom inference code.\n",
    "\n",
    "When deploying a PyTorch model in SageMaker, you are expected to provide four functions which the SageMaker inference container will use.\n",
    " - `model_fn`: This function is the same function that we used in the training script and it tells SageMaker how to load our model.\n",
    " - `input_fn`: This function receives the raw serialized input that has been sent to the model's endpoint and its job is to de-serialize and make the input available for the inference code.\n",
    " - `output_fn`: This function takes the output of the inference code and its job is to serialize this output and return it to the caller of the model's endpoint.\n",
    " - `predict_fn`: The heart of the inference script, this is where the actual prediction is done and is the function which you will need to complete.\n",
    "\n",
    "For the simple website that we are constructing during this project, the `input_fn` and `output_fn` methods are relatively straightforward. We only require being able to accept a string as input and we expect to return a single value as output. You might imagine though that in a more complex application the input or output may be image data or some other binary data which would require some effort to serialize.\n",
    "\n",
    "### (TODO) Writing inference code\n",
    "\n",
    "Before writing our custom inference code, we will begin by taking a look at the code which has been provided."
   ]
  },
  {
   "cell_type": "code",
   "execution_count": null,
   "metadata": {},
   "outputs": [],
   "source": [
    "!pygmentize serve/predict.py"
   ]
  },
  {
   "cell_type": "markdown",
   "metadata": {},
   "source": [
    "As mentioned earlier, the `model_fn` method is the same as the one provided in the training code and the `input_fn` and `output_fn` methods are very simple and your task will be to complete the `predict_fn` method. Make sure that you save the completed file as `predict.py` in the `serve` directory.\n",
    "\n",
    "**TODO**: Complete the `predict_fn()` method in the `serve/predict.py` file."
   ]
  },
  {
   "cell_type": "markdown",
   "metadata": {},
   "source": [
    "### Deploying the model\n",
    "\n",
    "Now that the custom inference code has been written, we will create and deploy our model. To begin with, we need to construct a new PyTorchModel object which points to the model artifacts created during training and also points to the inference code that we wish to use. Then we can call the deploy method to launch the deployment container.\n",
    "\n",
    "**NOTE**: The default behaviour for a deployed PyTorch model is to assume that any input passed to the predictor is a `numpy` array. In our case we want to send a string so we need to construct a simple wrapper around the `RealTimePredictor` class to accomodate simple strings. In a more complicated situation you may want to provide a serialization object, for example if you wanted to sent image data."
   ]
  },
  {
   "cell_type": "code",
   "execution_count": null,
   "metadata": {},
   "outputs": [],
   "source": [
    "from sagemaker.predictor import RealTimePredictor\n",
    "from sagemaker.pytorch import PyTorchModel\n",
    "\n",
    "class StringPredictor(RealTimePredictor):\n",
    "    def __init__(self, endpoint_name, sagemaker_session):\n",
    "        super(StringPredictor, self).__init__(endpoint_name, sagemaker_session, content_type='text/plain')\n",
    "\n",
    "model = PyTorchModel(model_data=estimator.model_data,\n",
    "                     role = role,\n",
    "                     framework_version='0.4.0',\n",
    "                     entry_point='predict.py',\n",
    "                     source_dir='serve',\n",
    "                     predictor_cls=StringPredictor)\n",
    "predictor = model.deploy(initial_instance_count=1, instance_type='ml.m4.xlarge')"
   ]
  },
  {
   "cell_type": "markdown",
   "metadata": {},
   "source": [
    "### Testing the model\n",
    "\n",
    "Now that we have deployed our model with the custom inference code, we should test to see if everything is working. Here we test our model by loading the first `250` positive and negative reviews and send them to the endpoint, then collect the results. The reason for only sending some of the data is that the amount of time it takes for our model to process the input and then perform inference is quite long and so testing the entire data set would be prohibitive."
   ]
  },
  {
   "cell_type": "code",
   "execution_count": null,
   "metadata": {},
   "outputs": [],
   "source": [
    "import glob\n",
    "\n",
    "def test_reviews(data_dir='../data/aclImdb', stop=250):\n",
    "    \n",
    "    results = []\n",
    "    ground = []\n",
    "    \n",
    "    # We make sure to test both positive and negative reviews    \n",
    "    for sentiment in ['pos', 'neg']:\n",
    "        \n",
    "        path = os.path.join(data_dir, 'test', sentiment, '*.txt')\n",
    "        files = glob.glob(path)\n",
    "        \n",
    "        files_read = 0\n",
    "        \n",
    "        print('Starting ', sentiment, ' files')\n",
    "        \n",
    "        # Iterate through the files and send them to the predictor\n",
    "        for f in files:\n",
    "            with open(f) as review:\n",
    "                # First, we store the ground truth (was the review positive or negative)\n",
    "                if sentiment == 'pos':\n",
    "                    ground.append(1)\n",
    "                else:\n",
    "                    ground.append(0)\n",
    "                # Read in the review and convert to 'utf-8' for transmission via HTTP\n",
    "                review_input = review.read().encode('utf-8')\n",
    "                # Send the review to the predictor and store the results\n",
    "                results.append(float(predictor.predict(review_input)))\n",
    "                \n",
    "            # Sending reviews to our endpoint one at a time takes a while so we\n",
    "            # only send a small number of reviews\n",
    "            files_read += 1\n",
    "            if files_read == stop:\n",
    "                break\n",
    "            \n",
    "    return ground, results"
   ]
  },
  {
   "cell_type": "code",
   "execution_count": null,
   "metadata": {},
   "outputs": [],
   "source": [
    "ground, results = test_reviews()"
   ]
  },
  {
   "cell_type": "code",
   "execution_count": null,
   "metadata": {},
   "outputs": [],
   "source": [
    "from sklearn.metrics import accuracy_score\n",
    "accuracy_score(ground, results)"
   ]
  },
  {
   "cell_type": "markdown",
   "metadata": {},
   "source": [
    "As an additional test, we can try sending the `test_review` that we looked at earlier."
   ]
  },
  {
   "cell_type": "code",
   "execution_count": null,
   "metadata": {},
   "outputs": [],
   "source": [
    "predictor.predict(test_review)"
   ]
  },
  {
   "cell_type": "markdown",
   "metadata": {},
   "source": [
    "Now that we know our endpoint is working as expected, we can set up the web page that will interact with it. If you don't have time to finish the project now, make sure to skip down to the end of this notebook and shut down your endpoint. You can deploy it again when you come back."
   ]
  },
  {
   "cell_type": "markdown",
   "metadata": {},
   "source": [
    "## Step 7 (again): Use the model for the web app\n",
    "\n",
    "> **TODO:** This entire section and the next contain tasks for you to complete, mostly using the AWS console.\n",
    "\n",
    "So far we have been accessing our model endpoint by constructing a predictor object which uses the endpoint and then just using the predictor object to perform inference. What if we wanted to create a web app which accessed our model? The way things are set up currently makes that not possible since in order to access a SageMaker endpoint the app would first have to authenticate with AWS using an IAM role which included access to SageMaker endpoints. However, there is an easier way! We just need to use some additional AWS services.\n",
    "\n",
    "<img src=\"Web App Diagram.svg\">\n",
    "\n",
    "The diagram above gives an overview of how the various services will work together. On the far right is the model which we trained above and which is deployed using SageMaker. On the far left is our web app that collects a user's movie review, sends it off and expects a positive or negative sentiment in return.\n",
    "\n",
    "In the middle is where some of the magic happens. We will construct a Lambda function, which you can think of as a straightforward Python function that can be executed whenever a specified event occurs. We will give this function permission to send and recieve data from a SageMaker endpoint.\n",
    "\n",
    "Lastly, the method we will use to execute the Lambda function is a new endpoint that we will create using API Gateway. This endpoint will be a url that listens for data to be sent to it. Once it gets some data it will pass that data on to the Lambda function and then return whatever the Lambda function returns. Essentially it will act as an interface that lets our web app communicate with the Lambda function.\n",
    "\n",
    "### Setting up a Lambda function\n",
    "\n",
    "The first thing we are going to do is set up a Lambda function. This Lambda function will be executed whenever our public API has data sent to it. When it is executed it will receive the data, perform any sort of processing that is required, send the data (the review) to the SageMaker endpoint we've created and then return the result.\n",
    "\n",
    "#### Part A: Create an IAM Role for the Lambda function\n",
    "\n",
    "Since we want the Lambda function to call a SageMaker endpoint, we need to make sure that it has permission to do so. To do this, we will construct a role that we can later give the Lambda function.\n",
    "\n",
    "Using the AWS Console, navigate to the **IAM** page and click on **Roles**. Then, click on **Create role**. Make sure that the **AWS service** is the type of trusted entity selected and choose **Lambda** as the service that will use this role, then click **Next: Permissions**.\n",
    "\n",
    "In the search box type `sagemaker` and select the check box next to the **AmazonSageMakerFullAccess** policy. Then, click on **Next: Review**.\n",
    "\n",
    "Lastly, give this role a name. Make sure you use a name that you will remember later on, for example `LambdaSageMakerRole`. Then, click on **Create role**.\n",
    "\n",
    "#### Part B: Create a Lambda function\n",
    "\n",
    "Now it is time to actually create the Lambda function.\n",
    "\n",
    "Using the AWS Console, navigate to the AWS Lambda page and click on **Create a function**. When you get to the next page, make sure that **Author from scratch** is selected. Now, name your Lambda function, using a name that you will remember later on, for example `sentiment_analysis_func`. Make sure that the **Python 3.6** runtime is selected and then choose the role that you created in the previous part. Then, click on **Create Function**.\n",
    "\n",
    "On the next page you will see some information about the Lambda function you've just created. If you scroll down you should see an editor in which you can write the code that will be executed when your Lambda function is triggered. In our example, we will use the code below. \n",
    "\n",
    "```python\n",
    "# We need to use the low-level library to interact with SageMaker since the SageMaker API\n",
    "# is not available natively through Lambda.\n",
    "import boto3\n",
    "\n",
    "def lambda_handler(event, context):\n",
    "\n",
    "    # The SageMaker runtime is what allows us to invoke the endpoint that we've created.\n",
    "    runtime = boto3.Session().client('sagemaker-runtime')\n",
    "\n",
    "    # Now we use the SageMaker runtime to invoke our endpoint, sending the review we were given\n",
    "    response = runtime.invoke_endpoint(EndpointName = '**ENDPOINT NAME HERE**',    # The name of the endpoint we created\n",
    "                                       ContentType = 'text/plain',                 # The data format that is expected\n",
    "                                       Body = event['body'])                       # The actual review\n",
    "\n",
    "    # The response is an HTTP response whose body contains the result of our inference\n",
    "    result = response['Body'].read().decode('utf-8')\n",
    "\n",
    "    return {\n",
    "        'statusCode' : 200,\n",
    "        'headers' : { 'Content-Type' : 'text/plain', 'Access-Control-Allow-Origin' : '*' },\n",
    "        'body' : result\n",
    "    }\n",
    "```\n",
    "\n",
    "Once you have copy and pasted the code above into the Lambda code editor, replace the `**ENDPOINT NAME HERE**` portion with the name of the endpoint that we deployed earlier. You can determine the name of the endpoint using the code cell below."
   ]
  },
  {
   "cell_type": "code",
   "execution_count": null,
   "metadata": {},
   "outputs": [],
   "source": [
    "predictor.endpoint"
   ]
  },
  {
   "cell_type": "markdown",
   "metadata": {},
   "source": [
    "Once you have added the endpoint name to the Lambda function, click on **Save**. Your Lambda function is now up and running. Next we need to create a way for our web app to execute the Lambda function.\n",
    "\n",
    "### Setting up API Gateway\n",
    "\n",
    "Now that our Lambda function is set up, it is time to create a new API using API Gateway that will trigger the Lambda function we have just created.\n",
    "\n",
    "Using AWS Console, navigate to **Amazon API Gateway** and then click on **Get started**.\n",
    "\n",
    "On the next page, make sure that **New API** is selected and give the new api a name, for example, `sentiment_analysis_api`. Then, click on **Create API**.\n",
    "\n",
    "Now we have created an API, however it doesn't currently do anything. What we want it to do is to trigger the Lambda function that we created earlier.\n",
    "\n",
    "Select the **Actions** dropdown menu and click **Create Method**. A new blank method will be created, select its dropdown menu and select **POST**, then click on the check mark beside it.\n",
    "\n",
    "For the integration point, make sure that **Lambda Function** is selected and click on the **Use Lambda Proxy integration**. This option makes sure that the data that is sent to the API is then sent directly to the Lambda function with no processing. It also means that the return value must be a proper response object as it will also not be processed by API Gateway.\n",
    "\n",
    "Type the name of the Lambda function you created earlier into the **Lambda Function** text entry box and then click on **Save**. Click on **OK** in the pop-up box that then appears, giving permission to API Gateway to invoke the Lambda function you created.\n",
    "\n",
    "The last step in creating the API Gateway is to select the **Actions** dropdown and click on **Deploy API**. You will need to create a new Deployment stage and name it anything you like, for example `prod`.\n",
    "\n",
    "You have now successfully set up a public API to access your SageMaker model. Make sure to copy or write down the URL provided to invoke your newly created public API as this will be needed in the next step. This URL can be found at the top of the page, highlighted in blue next to the text **Invoke URL**."
   ]
  },
  {
   "cell_type": "markdown",
   "metadata": {},
   "source": [
    "## Step 4: Deploying our web app\n",
    "\n",
    "Now that we have a publicly available API, we can start using it in a web app. For our purposes, we have provided a simple static html file which can make use of the public api you created earlier.\n",
    "\n",
    "In the `website` folder there should be a file called `index.html`. Download the file to your computer and open that file up in a text editor of your choice. There should be a line which contains **\\*\\*REPLACE WITH PUBLIC API URL\\*\\***. Replace this string with the url that you wrote down in the last step and then save the file.\n",
    "\n",
    "Now, if you open `index.html` on your local computer, your browser will behave as a local web server and you can use the provided site to interact with your SageMaker model.\n",
    "\n",
    "If you'd like to go further, you can host this html file anywhere you'd like, for example using github or hosting a static site on Amazon's S3. Once you have done this you can share the link with anyone you'd like and have them play with it too!\n",
    "\n",
    "> **Important Note** In order for the web app to communicate with the SageMaker endpoint, the endpoint has to actually be deployed and running. This means that you are paying for it. Make sure that the endpoint is running when you want to use the web app but that you shut it down when you don't need it, otherwise you will end up with a surprisingly large AWS bill.\n",
    "\n",
    "**TODO:** Make sure that you include the edited `index.html` file in your project submission."
   ]
  },
  {
   "cell_type": "markdown",
   "metadata": {},
   "source": [
    "Now that your web app is working, trying playing around with it and see how well it works.\n",
    "\n",
    "**Question**: Give an example of a review that you entered into your web app. What was the predicted sentiment of your example review?"
   ]
  },
  {
   "cell_type": "markdown",
   "metadata": {},
   "source": [
    "**Answer:**"
   ]
  },
  {
   "cell_type": "markdown",
   "metadata": {},
   "source": [
    "### Delete the endpoint\n",
    "\n",
    "Remember to always shut down your endpoint if you are no longer using it. You are charged for the length of time that the endpoint is running so if you forget and leave it on you could end up with an unexpectedly large bill."
   ]
  },
  {
   "cell_type": "code",
   "execution_count": null,
   "metadata": {},
   "outputs": [],
   "source": [
    "predictor.delete_endpoint()"
   ]
  },
  {
   "cell_type": "code",
   "execution_count": null,
   "metadata": {},
   "outputs": [],
   "source": []
  }
 ],
 "metadata": {
  "kernelspec": {
   "display_name": "conda_pytorch_p36",
   "language": "python",
   "name": "conda_pytorch_p36"
  },
  "language_info": {
   "codemirror_mode": {
    "name": "ipython",
    "version": 3
   },
   "file_extension": ".py",
   "mimetype": "text/x-python",
   "name": "python",
   "nbconvert_exporter": "python",
   "pygments_lexer": "ipython3",
   "version": "3.6.13"
  }
 },
 "nbformat": 4,
 "nbformat_minor": 2
}
